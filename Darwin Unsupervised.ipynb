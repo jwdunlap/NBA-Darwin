{
 "cells": [
  {
   "cell_type": "code",
   "execution_count": 80,
   "metadata": {},
   "outputs": [],
   "source": [
    "%matplotlib inline\n",
    "from amb_sdk.sdk import DarwinSdk\n",
    "import matplotlib.pyplot as plt\n",
    "import pandas as pd\n",
    "from IPython.display import Image\n",
    "from time import sleep\n",
    "import os\n",
    "import datetime"
   ]
  },
  {
   "cell_type": "code",
   "execution_count": 81,
   "metadata": {},
   "outputs": [
    {
     "data": {
      "text/plain": [
       "(True, 'https://amb-demo-api.sparkcognition.com/v1/')"
      ]
     },
     "execution_count": 81,
     "metadata": {},
     "output_type": "execute_result"
    }
   ],
   "source": [
    "#Set darwin url\n",
    "ds = DarwinSdk()\n",
    "ds.set_url('https://amb-demo-api.sparkcognition.com/v1/')"
   ]
  },
  {
   "cell_type": "code",
   "execution_count": 82,
   "metadata": {},
   "outputs": [],
   "source": [
    "#Setting environmental variables \n",
    "USERNAME='idunlap@rocketmail.com'\n",
    "PASSWORD='5uVGHsTHrQ'\n",
    "\n",
    "#Setting path to datasets\n",
    "\n",
    "#Here we are using the 17/18 data to train season to train and the 16/17 season data to test\n",
    "#Since we're looking for predicted position, we use datasets with single-position players (SPP)\n",
    "#Since we cannot run analyze predict on datasets with more than 500 rows, we are only using the top 500 players \n",
    "#from the 16/17 season data in priority of players with the most games played\n",
    "PATH_TO_DATASET = 'sets/'\n",
    "TRAIN_DATASET='17_18_Season_Stats_Per_100_Possessions_SPP.csv'\n",
    "PREDICT_DATASET = '16_17_Season_Stats_Per_100_Possessions_SPP_limit_500.csv'\n",
    "\n",
    "#creating a datetime timestamp for later use\n",
    "TS = '{:%Y%m%d%H%M%S}'.format(datetime.datetime.now())"
   ]
  },
  {
   "cell_type": "code",
   "execution_count": 83,
   "metadata": {},
   "outputs": [
    {
     "name": "stdout",
     "output_type": "stream",
     "text": [
      "Deleting 17_18_Season_Stats_Per_100_Possessions_SPP.csv\n",
      "Deleting model-20190423161210\n",
      "Deleting b58e8a85f7384aab8846dbf4498f78d9\n",
      "Error removing artifact \"b58e8a85f7384aab8846dbf4498f78d9\" - 404: NOT FOUND - {\"message\": \"Failed to find artifact b58e8a85f7384aab8846dbf4498f78d9\"}\n",
      "\n",
      "Deleting 44d13b7470664d8d9635083fbcf5938d\n",
      "Error removing artifact \"44d13b7470664d8d9635083fbcf5938d\" - 404: NOT FOUND - {\"message\": \"Failed to find artifact 44d13b7470664d8d9635083fbcf5938d\"}\n",
      "\n",
      "Deleting 2675cf18b2934b3d8457c3c6bc922d54\n",
      "Error removing artifact \"2675cf18b2934b3d8457c3c6bc922d54\" - 404: NOT FOUND - {\"message\": \"Failed to find artifact 2675cf18b2934b3d8457c3c6bc922d54\"}\n",
      "\n",
      "Deleting 101dd4ea79be471e9e8e6b933a20b3e6\n",
      "Error removing artifact \"101dd4ea79be471e9e8e6b933a20b3e6\" - 404: NOT FOUND - {\"message\": \"Failed to find artifact 101dd4ea79be471e9e8e6b933a20b3e6\"}\n",
      "\n",
      "Deleting 584ac6f6db89442aaac87684a7fabea8\n",
      "Error removing artifact \"584ac6f6db89442aaac87684a7fabea8\" - 404: NOT FOUND - {\"message\": \"Failed to find artifact 584ac6f6db89442aaac87684a7fabea8\"}\n",
      "\n",
      "Deleting Analyze_prediction_artifact-20190417222338\n",
      "Error removing artifact \"Analyze_prediction_artifact-20190417222338\" - 404: NOT FOUND - {\"message\": \"Failed to find artifact Analyze_prediction_artifact-20190417222338\"}\n",
      "\n",
      "Deleting 2d76b5a885b144e28b3e9045d9faa4dd\n",
      "Error removing artifact \"2d76b5a885b144e28b3e9045d9faa4dd\" - 404: NOT FOUND - {\"message\": \"Failed to find artifact 2d76b5a885b144e28b3e9045d9faa4dd\"}\n",
      "\n",
      "Deleting 689024a2066f4aaca2e7fbeb471724fd\n",
      "Error removing artifact \"689024a2066f4aaca2e7fbeb471724fd\" - 404: NOT FOUND - {\"message\": \"Failed to find artifact 689024a2066f4aaca2e7fbeb471724fd\"}\n",
      "\n",
      "Deleting Analyze_prediction_artifact-20190421175058\n",
      "Error removing artifact \"Analyze_prediction_artifact-20190421175058\" - 404: NOT FOUND - {\"message\": \"Failed to find artifact Analyze_prediction_artifact-20190421175058\"}\n",
      "\n",
      "Deleting Darwin_analyze_model_artifact-20190421180421\n",
      "Error removing artifact \"Darwin_analyze_model_artifact-20190421180421\" - 404: NOT FOUND - {\"message\": \"Failed to find artifact Darwin_analyze_model_artifact-20190421180421\"}\n",
      "\n",
      "Deleting 88abbf84269a45d1a862f33bed249d0b\n",
      "Error removing artifact \"88abbf84269a45d1a862f33bed249d0b\" - 404: NOT FOUND - {\"message\": \"Failed to find artifact 88abbf84269a45d1a862f33bed249d0b\"}\n",
      "\n",
      "Deleting c3d79c159d9c435e8de99e3a333e4864\n",
      "Error removing artifact \"c3d79c159d9c435e8de99e3a333e4864\" - 404: NOT FOUND - {\"message\": \"Failed to find artifact c3d79c159d9c435e8de99e3a333e4864\"}\n",
      "\n",
      "Deleting d10e25be87d142e49f397fe6b017641e\n",
      "Error removing artifact \"d10e25be87d142e49f397fe6b017641e\" - 404: NOT FOUND - {\"message\": \"Failed to find artifact d10e25be87d142e49f397fe6b017641e\"}\n",
      "\n",
      "Deleting 9c3d9a4d2f61469197583238bedc08ae\n",
      "Error removing artifact \"9c3d9a4d2f61469197583238bedc08ae\" - 404: NOT FOUND - {\"message\": \"Failed to find artifact 9c3d9a4d2f61469197583238bedc08ae\"}\n",
      "\n",
      "Deleting f946e370e5254076a241a01b9f605a95\n",
      "Error removing artifact \"f946e370e5254076a241a01b9f605a95\" - 404: NOT FOUND - {\"message\": \"Failed to find artifact f946e370e5254076a241a01b9f605a95\"}\n",
      "\n",
      "Deleting Darwin_analyze_data_artifact-20190423161210\n",
      "Deleting 9bfcac5906e24ac698d9624d2220d218\n"
     ]
    },
    {
     "data": {
      "text/plain": [
       "(True, None)"
      ]
     },
     "execution_count": 83,
     "metadata": {},
     "output_type": "execute_result"
    }
   ],
   "source": [
    "#Log in\n",
    "status, msg = ds.auth_login_user(USERNAME,PASSWORD)\n",
    "if not status:\n",
    "    print(msg)\n",
    "    \n",
    "#Pre-build cleanup\n",
    "ds.delete_all_datasets()\n",
    "ds.delete_all_models()\n",
    "ds.delete_all_artifacts()"
   ]
  },
  {
   "cell_type": "code",
   "execution_count": 84,
   "metadata": {},
   "outputs": [
    {
     "data": {
      "text/html": [
       "<div>\n",
       "<style scoped>\n",
       "    .dataframe tbody tr th:only-of-type {\n",
       "        vertical-align: middle;\n",
       "    }\n",
       "\n",
       "    .dataframe tbody tr th {\n",
       "        vertical-align: top;\n",
       "    }\n",
       "\n",
       "    .dataframe thead th {\n",
       "        text-align: right;\n",
       "    }\n",
       "</style>\n",
       "<table border=\"1\" class=\"dataframe\">\n",
       "  <thead>\n",
       "    <tr style=\"text-align: right;\">\n",
       "      <th></th>\n",
       "      <th>Rk</th>\n",
       "      <th>Player</th>\n",
       "      <th>Pos</th>\n",
       "      <th>Age</th>\n",
       "      <th>Tm</th>\n",
       "      <th>G</th>\n",
       "      <th>GS</th>\n",
       "      <th>MP</th>\n",
       "      <th>FG</th>\n",
       "      <th>FGA</th>\n",
       "      <th>...</th>\n",
       "      <th>TRB</th>\n",
       "      <th>AST</th>\n",
       "      <th>STL</th>\n",
       "      <th>BLK</th>\n",
       "      <th>TOV</th>\n",
       "      <th>PF</th>\n",
       "      <th>PTS</th>\n",
       "      <th>string_field_29</th>\n",
       "      <th>ORtg</th>\n",
       "      <th>DRtg</th>\n",
       "    </tr>\n",
       "  </thead>\n",
       "  <tbody>\n",
       "    <tr>\n",
       "      <th>0</th>\n",
       "      <td>8</td>\n",
       "      <td>Jarrett Allen\\allenja01</td>\n",
       "      <td>C</td>\n",
       "      <td>19</td>\n",
       "      <td>BRK</td>\n",
       "      <td>72</td>\n",
       "      <td>31</td>\n",
       "      <td>1441</td>\n",
       "      <td>7.9</td>\n",
       "      <td>13.4</td>\n",
       "      <td>...</td>\n",
       "      <td>13.1</td>\n",
       "      <td>1.7</td>\n",
       "      <td>0.9</td>\n",
       "      <td>3.0</td>\n",
       "      <td>2.8</td>\n",
       "      <td>5.0</td>\n",
       "      <td>19.8</td>\n",
       "      <td>NaN</td>\n",
       "      <td>119.0</td>\n",
       "      <td>108</td>\n",
       "    </tr>\n",
       "    <tr>\n",
       "      <th>1</th>\n",
       "      <td>15</td>\n",
       "      <td>Ike Anigbogu\\anigbik01</td>\n",
       "      <td>C</td>\n",
       "      <td>19</td>\n",
       "      <td>IND</td>\n",
       "      <td>11</td>\n",
       "      <td>0</td>\n",
       "      <td>30</td>\n",
       "      <td>6.7</td>\n",
       "      <td>15.0</td>\n",
       "      <td>...</td>\n",
       "      <td>15.0</td>\n",
       "      <td>0.0</td>\n",
       "      <td>1.7</td>\n",
       "      <td>5.0</td>\n",
       "      <td>3.3</td>\n",
       "      <td>1.7</td>\n",
       "      <td>21.7</td>\n",
       "      <td>NaN</td>\n",
       "      <td>114.0</td>\n",
       "      <td>104</td>\n",
       "    </tr>\n",
       "    <tr>\n",
       "      <th>2</th>\n",
       "      <td>4</td>\n",
       "      <td>Bam Adebayo\\adebaba01</td>\n",
       "      <td>C</td>\n",
       "      <td>20</td>\n",
       "      <td>MIA</td>\n",
       "      <td>69</td>\n",
       "      <td>19</td>\n",
       "      <td>1368</td>\n",
       "      <td>6.4</td>\n",
       "      <td>12.5</td>\n",
       "      <td>...</td>\n",
       "      <td>14.0</td>\n",
       "      <td>3.7</td>\n",
       "      <td>1.2</td>\n",
       "      <td>1.5</td>\n",
       "      <td>2.4</td>\n",
       "      <td>5.1</td>\n",
       "      <td>17.5</td>\n",
       "      <td>NaN</td>\n",
       "      <td>116.0</td>\n",
       "      <td>105</td>\n",
       "    </tr>\n",
       "    <tr>\n",
       "      <th>3</th>\n",
       "      <td>62</td>\n",
       "      <td>Tony Bradley\\bradlto01</td>\n",
       "      <td>C</td>\n",
       "      <td>20</td>\n",
       "      <td>UTA</td>\n",
       "      <td>9</td>\n",
       "      <td>0</td>\n",
       "      <td>29</td>\n",
       "      <td>5.2</td>\n",
       "      <td>19.0</td>\n",
       "      <td>...</td>\n",
       "      <td>19.0</td>\n",
       "      <td>1.7</td>\n",
       "      <td>0.0</td>\n",
       "      <td>0.0</td>\n",
       "      <td>0.0</td>\n",
       "      <td>1.7</td>\n",
       "      <td>13.8</td>\n",
       "      <td>NaN</td>\n",
       "      <td>95.0</td>\n",
       "      <td>107</td>\n",
       "    </tr>\n",
       "    <tr>\n",
       "      <th>4</th>\n",
       "      <td>75</td>\n",
       "      <td>Thomas Bryant\\bryanth01</td>\n",
       "      <td>C</td>\n",
       "      <td>20</td>\n",
       "      <td>LAL</td>\n",
       "      <td>15</td>\n",
       "      <td>0</td>\n",
       "      <td>72</td>\n",
       "      <td>5.3</td>\n",
       "      <td>14.0</td>\n",
       "      <td>...</td>\n",
       "      <td>11.3</td>\n",
       "      <td>4.0</td>\n",
       "      <td>0.7</td>\n",
       "      <td>1.3</td>\n",
       "      <td>1.3</td>\n",
       "      <td>4.0</td>\n",
       "      <td>14.6</td>\n",
       "      <td>NaN</td>\n",
       "      <td>100.0</td>\n",
       "      <td>108</td>\n",
       "    </tr>\n",
       "  </tbody>\n",
       "</table>\n",
       "<p>5 rows × 32 columns</p>\n",
       "</div>"
      ],
      "text/plain": [
       "   Rk                   Player Pos  Age   Tm   G  GS    MP   FG   FGA  ...   \\\n",
       "0   8  Jarrett Allen\\allenja01   C   19  BRK  72  31  1441  7.9  13.4  ...    \n",
       "1  15   Ike Anigbogu\\anigbik01   C   19  IND  11   0    30  6.7  15.0  ...    \n",
       "2   4    Bam Adebayo\\adebaba01   C   20  MIA  69  19  1368  6.4  12.5  ...    \n",
       "3  62   Tony Bradley\\bradlto01   C   20  UTA   9   0    29  5.2  19.0  ...    \n",
       "4  75  Thomas Bryant\\bryanth01   C   20  LAL  15   0    72  5.3  14.0  ...    \n",
       "\n",
       "    TRB  AST  STL  BLK  TOV   PF   PTS  string_field_29   ORtg  DRtg  \n",
       "0  13.1  1.7  0.9  3.0  2.8  5.0  19.8              NaN  119.0   108  \n",
       "1  15.0  0.0  1.7  5.0  3.3  1.7  21.7              NaN  114.0   104  \n",
       "2  14.0  3.7  1.2  1.5  2.4  5.1  17.5              NaN  116.0   105  \n",
       "3  19.0  1.7  0.0  0.0  0.0  1.7  13.8              NaN   95.0   107  \n",
       "4  11.3  4.0  0.7  1.3  1.3  4.0  14.6              NaN  100.0   108  \n",
       "\n",
       "[5 rows x 32 columns]"
      ]
     },
     "execution_count": 84,
     "metadata": {},
     "output_type": "execute_result"
    }
   ],
   "source": [
    "# Preview dataset and display the first 5 entries\n",
    "df = pd.read_csv(os.path.join(PATH_TO_DATASET, TRAIN_DATASET))\n",
    "df.head()"
   ]
  },
  {
   "cell_type": "code",
   "execution_count": 85,
   "metadata": {},
   "outputs": [
    {
     "name": "stdout",
     "output_type": "stream",
     "text": [
      "True\n",
      "{'dataset_name': '17_18_Season_Stats_Per_100_Possessions_SPP.csv'}\n"
     ]
    }
   ],
   "source": [
    "# Upload dataset to darwin\n",
    "status, dataset = ds.upload_dataset(os.path.join(PATH_TO_DATASET, TRAIN_DATASET))\n",
    "print(status)\n",
    "print(dataset)\n",
    "\n",
    "if not status:\n",
    "    print(dataset)"
   ]
  },
  {
   "cell_type": "code",
   "execution_count": 86,
   "metadata": {},
   "outputs": [
    {
     "name": "stdout",
     "output_type": "stream",
     "text": [
      "{'status': 'Requested', 'starttime': '2019-04-23T16:20:38.96156', 'endtime': None, 'percent_complete': 0, 'job_type': 'AnalyzeData', 'loss': None, 'generations': None, 'dataset_names': ['17_18_Season_Stats_Per_100_Possessions_SPP.csv'], 'artifact_names': ['Darwin_analyze_data_artifact-20190423162026'], 'model_name': None, 'job_error': None}\n",
      "{'status': 'Running', 'starttime': '2019-04-23T16:20:38.96156', 'endtime': None, 'percent_complete': 10, 'job_type': 'AnalyzeData', 'loss': None, 'generations': None, 'dataset_names': ['17_18_Season_Stats_Per_100_Possessions_SPP.csv'], 'artifact_names': ['Darwin_analyze_data_artifact-20190423162026'], 'model_name': None, 'job_error': None}\n",
      "{'status': 'Running', 'starttime': '2019-04-23T16:20:38.96156', 'endtime': None, 'percent_complete': 10, 'job_type': 'AnalyzeData', 'loss': None, 'generations': None, 'dataset_names': ['17_18_Season_Stats_Per_100_Possessions_SPP.csv'], 'artifact_names': ['Darwin_analyze_data_artifact-20190423162026'], 'model_name': None, 'job_error': None}\n",
      "{'status': 'Running', 'starttime': '2019-04-23T16:20:38.96156', 'endtime': None, 'percent_complete': 10, 'job_type': 'AnalyzeData', 'loss': None, 'generations': None, 'dataset_names': ['17_18_Season_Stats_Per_100_Possessions_SPP.csv'], 'artifact_names': ['Darwin_analyze_data_artifact-20190423162026'], 'model_name': None, 'job_error': None}\n",
      "{'status': 'Complete', 'starttime': '2019-04-23T16:20:38.96156', 'endtime': '2019-04-23T16:21:36.465', 'percent_complete': 100, 'job_type': 'AnalyzeData', 'loss': None, 'generations': None, 'dataset_names': ['17_18_Season_Stats_Per_100_Possessions_SPP.csv'], 'artifact_names': ['Darwin_analyze_data_artifact-20190423162026'], 'model_name': None, 'job_error': ''}\n"
     ]
    }
   ],
   "source": [
    "#Analyze data \n",
    "status, analyze_id = ds.analyze_data(TRAIN_DATASET, \n",
    "                                     job_name = 'Darwin_analyze_data_job' + \"-\" + TS, \n",
    "                                     artifact_name = 'Darwin_analyze_data_artifact' + \"-\" + TS)\n",
    "sleep(1)\n",
    "if status:\n",
    "    ds.wait_for_job('Darwin_analyze_data_job' + \"-\" + TS)\n",
    "else:\n",
    "    print(analyze_id)"
   ]
  },
  {
   "cell_type": "code",
   "execution_count": 87,
   "metadata": {
    "scrolled": true
   },
   "outputs": [
    {
     "data": {
      "text/plain": [
       "(True,\n",
       " {'status': 'Complete',\n",
       "  'starttime': '2019-04-23T16:20:38.96156',\n",
       "  'endtime': '2019-04-23T16:21:36.465',\n",
       "  'percent_complete': 100,\n",
       "  'job_type': 'AnalyzeData',\n",
       "  'loss': None,\n",
       "  'generations': None,\n",
       "  'dataset_names': ['17_18_Season_Stats_Per_100_Possessions_SPP.csv'],\n",
       "  'artifact_names': ['Darwin_analyze_data_artifact-20190423162026'],\n",
       "  'model_name': None,\n",
       "  'job_error': ''})"
      ]
     },
     "execution_count": 87,
     "metadata": {},
     "output_type": "execute_result"
    }
   ],
   "source": [
    "#Look up job status\n",
    "ds.lookup_job_status_name(analyze_id['job_name'])"
   ]
  },
  {
   "cell_type": "code",
   "execution_count": 88,
   "metadata": {},
   "outputs": [
    {
     "name": "stdout",
     "output_type": "stream",
     "text": [
      "Data has been cleaned!\n"
     ]
    }
   ],
   "source": [
    "# Clean dataset\n",
    "status, job_id = ds.clean_data(dataset_name=TRAIN_DATASET)\n",
    "if not status:\n",
    "    print(job_id)\n",
    "else:\n",
    "    print('Data has been cleaned!')"
   ]
  },
  {
   "cell_type": "code",
   "execution_count": 89,
   "metadata": {
    "scrolled": false
   },
   "outputs": [
    {
     "name": "stdout",
     "output_type": "stream",
     "text": [
      "{'status': 'Taken', 'starttime': '2019-04-23T16:22:24.148548', 'endtime': None, 'percent_complete': 0, 'job_type': 'TrainModel', 'loss': None, 'generations': 0, 'dataset_names': ['17_18_Season_Stats_Per_100_Possessions_SPP.csv'], 'artifact_names': None, 'model_name': 'model-20190423162026', 'job_error': None}\n",
      "{'status': 'Running', 'starttime': '2019-04-23T16:22:24.148548', 'endtime': None, 'percent_complete': 0, 'job_type': 'TrainModel', 'loss': None, 'generations': 0, 'dataset_names': ['17_18_Season_Stats_Per_100_Possessions_SPP.csv'], 'artifact_names': None, 'model_name': 'model-20190423162026', 'job_error': ''}\n",
      "{'status': 'Complete', 'starttime': '2019-04-23T16:22:24.148548', 'endtime': '2019-04-23T16:22:51.113046', 'percent_complete': 100, 'job_type': 'TrainModel', 'loss': None, 'generations': 0, 'dataset_names': ['17_18_Season_Stats_Per_100_Possessions_SPP.csv'], 'artifact_names': None, 'model_name': 'model-20190423162026', 'job_error': ''}\n"
     ]
    }
   ],
   "source": [
    "# Build unsupervised model\n",
    "# 3 clusters because we are trying to predict the three overarching positions that all players fall into\n",
    "model = \"model\" + \"-\" + TS\n",
    "max_epochs = 20\n",
    "n_clusters = 3\n",
    "#n_clusters = 'auto'\n",
    "status, job_id = ds.create_model(dataset_names=TRAIN_DATASET,\n",
    "                                 model_name=model,\n",
    "                                 max_epochs=max_epochs,\n",
    "                                 n_clusters=n_clusters)\n",
    "sleep(1)\n",
    "if status:\n",
    "    ds.wait_for_job(job_id['job_name'])\n",
    "else:\n",
    "    print(job_id)"
   ]
  },
  {
   "cell_type": "code",
   "execution_count": 90,
   "metadata": {},
   "outputs": [
    {
     "data": {
      "text/plain": [
       "(True,\n",
       " {'status': 'Complete',\n",
       "  'starttime': '2019-04-23T16:22:24.148548',\n",
       "  'endtime': '2019-04-23T16:22:51.113046',\n",
       "  'percent_complete': 100,\n",
       "  'job_type': 'TrainModel',\n",
       "  'loss': None,\n",
       "  'generations': 0,\n",
       "  'dataset_names': ['17_18_Season_Stats_Per_100_Possessions_SPP.csv'],\n",
       "  'artifact_names': None,\n",
       "  'model_name': 'model-20190423162026',\n",
       "  'job_error': ''})"
      ]
     },
     "execution_count": 90,
     "metadata": {},
     "output_type": "execute_result"
    }
   ],
   "source": [
    "# look up job status\n",
    "ds.lookup_job_status_name(job_id['job_name'])"
   ]
  },
  {
   "cell_type": "code",
   "execution_count": 91,
   "metadata": {},
   "outputs": [
    {
     "data": {
      "text/plain": [
       "(True,\n",
       " {'type': 'Unsupervised',\n",
       "  'updated_at': '2019-04-23T16:22:51.097863',\n",
       "  'trained_on': ['17_18_Season_Stats_Per_100_Possessions_SPP.csv'],\n",
       "  'loss': None,\n",
       "  'generations': 0,\n",
       "  'parameters': {'n_clusters': 3,\n",
       "   'max_generation': 20,\n",
       "   'train_time': '00:10',\n",
       "   'recurrent': None,\n",
       "   'max_unique_values': 50,\n",
       "   'max_int_uniques': 15,\n",
       "   'impute': 'mean',\n",
       "   'big_data': False},\n",
       "  'description': {'model': \"UnsupervisedPipeline(anomaly=False, anomaly_prior=0.0015, auto_save_per=10,\\n           clustering=True, clustermethod='GaussianMixture',\\n           job_id='e30e76b6-660d-11e9-98f0-97a4790092b0',\\n           max_generation=20, max_time=600,\\n           model_file='models/8f7f1eea-4fc6-11e9-ba76-eb31f920f59e_model-20190423162026',\\n           n_clusters=3, preproc_anomaly=None, recurrent=None, verbose=2)\",\n",
       "   'genome_type': 'Unsupervised'},\n",
       "  'train_time_seconds': 27,\n",
       "  'algorithm': None,\n",
       "  'running_job_id': None})"
      ]
     },
     "execution_count": 91,
     "metadata": {},
     "output_type": "execute_result"
    }
   ],
   "source": [
    "# look up the model\n",
    "ds.lookup_model_name(job_id['model_name'])"
   ]
  },
  {
   "cell_type": "code",
   "execution_count": 92,
   "metadata": {},
   "outputs": [
    {
     "name": "stdout",
     "output_type": "stream",
     "text": [
      "{'status': 'Running', 'starttime': '2019-04-23T16:23:20.359269', 'endtime': None, 'percent_complete': 0, 'job_type': 'UpdateModel', 'loss': None, 'generations': 0, 'dataset_names': ['17_18_Season_Stats_Per_100_Possessions_SPP.csv'], 'artifact_names': None, 'model_name': 'model-20190423162026', 'job_error': ''}\n",
      "{'status': 'Complete', 'starttime': '2019-04-23T16:23:20.359269', 'endtime': '2019-04-23T16:23:26.173131', 'percent_complete': 100, 'job_type': 'UpdateModel', 'loss': None, 'generations': 0, 'dataset_names': ['17_18_Season_Stats_Per_100_Possessions_SPP.csv'], 'artifact_names': None, 'model_name': 'model-20190423162026', 'job_error': ''}\n"
     ]
    }
   ],
   "source": [
    "# Train some more\n",
    "extra_epochs = 10\n",
    "status, job_id = ds.resume_training_model(dataset_names=TRAIN_DATASET,\n",
    "                                          model_name=model,\n",
    "                                          max_epochs=extra_epochs,\n",
    "                                          n_clusters=n_clusters)\n",
    "sleep(1)\n",
    "if status:\n",
    "    ds.wait_for_job(job_id['job_name'])\n",
    "else:\n",
    "    print(job_id)"
   ]
  },
  {
   "cell_type": "code",
   "execution_count": 93,
   "metadata": {},
   "outputs": [
    {
     "name": "stdout",
     "output_type": "stream",
     "text": [
      "{'status': 'Running', 'starttime': '2019-04-23T16:23:37.656609', 'endtime': None, 'percent_complete': 0, 'job_type': 'RunModel', 'loss': None, 'generations': 0, 'dataset_names': ['17_18_Season_Stats_Per_100_Possessions_SPP.csv'], 'artifact_names': ['5aa8f629c58c4c3a8841d2b81ee77052'], 'model_name': 'model-20190423162026', 'job_error': ''}\n",
      "{'status': 'Complete', 'starttime': '2019-04-23T16:23:37.656609', 'endtime': '2019-04-23T16:23:40.7795', 'percent_complete': 100, 'job_type': 'RunModel', 'loss': None, 'generations': 0, 'dataset_names': ['17_18_Season_Stats_Per_100_Possessions_SPP.csv'], 'artifact_names': ['5aa8f629c58c4c3a8841d2b81ee77052'], 'model_name': 'model-20190423162026', 'job_error': ''}\n"
     ]
    },
    {
     "data": {
      "text/plain": [
       "(True, 'Job completed')"
      ]
     },
     "execution_count": 93,
     "metadata": {},
     "output_type": "execute_result"
    }
   ],
   "source": [
    "# Test model\n",
    "# using this for predictions in the following cells\n",
    "status, artifact = ds.run_model(TRAIN_DATASET, \n",
    "                                model, \n",
    "                                supervised=False)\n",
    "sleep(1)\n",
    "ds.wait_for_job(artifact['job_name'])"
   ]
  },
  {
   "cell_type": "code",
   "execution_count": 94,
   "metadata": {},
   "outputs": [],
   "source": [
    "# retrieve predictions\n",
    "status, pred_file = ds.download_artifact(artifact['artifact_name'])"
   ]
  },
  {
   "cell_type": "code",
   "execution_count": 95,
   "metadata": {},
   "outputs": [
    {
     "data": {
      "text/html": [
       "<div>\n",
       "<style scoped>\n",
       "    .dataframe tbody tr th:only-of-type {\n",
       "        vertical-align: middle;\n",
       "    }\n",
       "\n",
       "    .dataframe tbody tr th {\n",
       "        vertical-align: top;\n",
       "    }\n",
       "\n",
       "    .dataframe thead th {\n",
       "        text-align: right;\n",
       "    }\n",
       "</style>\n",
       "<table border=\"1\" class=\"dataframe\">\n",
       "  <thead>\n",
       "    <tr style=\"text-align: right;\">\n",
       "      <th></th>\n",
       "      <th>anomaly_score</th>\n",
       "      <th>predict_proba</th>\n",
       "      <th>prediction</th>\n",
       "    </tr>\n",
       "  </thead>\n",
       "  <tbody>\n",
       "    <tr>\n",
       "      <th>0</th>\n",
       "      <td>-3.630184</td>\n",
       "      <td>[0.003903171188939398, 0.0, 0.996096828811061]</td>\n",
       "      <td>2</td>\n",
       "    </tr>\n",
       "    <tr>\n",
       "      <th>1</th>\n",
       "      <td>-2.700229</td>\n",
       "      <td>[0.00033780523615738406, 0.0, 0.9996621947638424]</td>\n",
       "      <td>2</td>\n",
       "    </tr>\n",
       "    <tr>\n",
       "      <th>2</th>\n",
       "      <td>-3.568301</td>\n",
       "      <td>[0.008251113184072163, 0.0, 0.9917488868159277]</td>\n",
       "      <td>2</td>\n",
       "    </tr>\n",
       "    <tr>\n",
       "      <th>3</th>\n",
       "      <td>-3.576250</td>\n",
       "      <td>[0.0002270239512568995, 0.0, 0.9997729760487433]</td>\n",
       "      <td>2</td>\n",
       "    </tr>\n",
       "    <tr>\n",
       "      <th>4</th>\n",
       "      <td>-2.135761</td>\n",
       "      <td>[4.550894116931158e-05, 0.0, 0.9999544910588304]</td>\n",
       "      <td>2</td>\n",
       "    </tr>\n",
       "  </tbody>\n",
       "</table>\n",
       "</div>"
      ],
      "text/plain": [
       "   anomaly_score                                      predict_proba  \\\n",
       "0      -3.630184     [0.003903171188939398, 0.0, 0.996096828811061]   \n",
       "1      -2.700229  [0.00033780523615738406, 0.0, 0.9996621947638424]   \n",
       "2      -3.568301    [0.008251113184072163, 0.0, 0.9917488868159277]   \n",
       "3      -3.576250   [0.0002270239512568995, 0.0, 0.9997729760487433]   \n",
       "4      -2.135761   [4.550894116931158e-05, 0.0, 0.9999544910588304]   \n",
       "\n",
       "   prediction  \n",
       "0           2  \n",
       "1           2  \n",
       "2           2  \n",
       "3           2  \n",
       "4           2  "
      ]
     },
     "execution_count": 95,
     "metadata": {},
     "output_type": "execute_result"
    }
   ],
   "source": [
    "# show prediction\n",
    "df = pd.read_csv(pred_file['filename'])\n",
    "df.head()"
   ]
  },
  {
   "cell_type": "code",
   "execution_count": 96,
   "metadata": {},
   "outputs": [
    {
     "name": "stdout",
     "output_type": "stream",
     "text": [
      "{'status': 'Running', 'starttime': '2019-04-23T16:24:16.192963', 'endtime': None, 'percent_complete': 0, 'job_type': 'AnalyzeModel', 'loss': None, 'generations': 0, 'dataset_names': None, 'artifact_names': ['Darwin_analyze_model_artifact-20190423162026'], 'model_name': 'model-20190423162026', 'job_error': ''}\n",
      "{'status': 'Complete', 'starttime': '2019-04-23T16:24:16.192963', 'endtime': '2019-04-23T16:24:18.482551', 'percent_complete': 100, 'job_type': 'AnalyzeModel', 'loss': None, 'generations': 0, 'dataset_names': None, 'artifact_names': ['Darwin_analyze_model_artifact-20190423162026'], 'model_name': 'model-20190423162026', 'job_error': ''}\n"
     ]
    }
   ],
   "source": [
    "#Analyze model to retrieve feature importance \n",
    "#This will let us know which attributes matter the most when classifying players into our three positions\n",
    "status, analyze_id = ds.analyze_model(job_id['model_name'], \n",
    "                                      job_name='Darwin_analyze_model_job-' + TS, \n",
    "                                      artifact_name='Darwin_analyze_model_artifact-' + TS)\n",
    "sleep(1)\n",
    "if status:\n",
    "    ds.wait_for_job('Darwin_analyze_model_job-' + TS)\n",
    "else:\n",
    "    print(analyze_id)"
   ]
  },
  {
   "cell_type": "code",
   "execution_count": 97,
   "metadata": {},
   "outputs": [
    {
     "data": {
      "text/plain": [
       "(True,\n",
       " {'status': 'Complete',\n",
       "  'starttime': '2019-04-23T16:24:16.192963',\n",
       "  'endtime': '2019-04-23T16:24:18.482551',\n",
       "  'percent_complete': 100,\n",
       "  'job_type': 'AnalyzeModel',\n",
       "  'loss': None,\n",
       "  'generations': 0,\n",
       "  'dataset_names': None,\n",
       "  'artifact_names': ['Darwin_analyze_model_artifact-20190423162026'],\n",
       "  'model_name': 'model-20190423162026',\n",
       "  'job_error': ''})"
      ]
     },
     "execution_count": 97,
     "metadata": {},
     "output_type": "execute_result"
    }
   ],
   "source": [
    "#Get job status\n",
    "ds.lookup_job_status_name('Darwin_analyze_model_job-' + TS)"
   ]
  },
  {
   "cell_type": "code",
   "execution_count": 98,
   "metadata": {},
   "outputs": [
    {
     "data": {
      "text/plain": [
       "Pos = PF    0.225631\n",
       "TRB         0.075324\n",
       "DRB         0.073981\n",
       "BLK         0.064534\n",
       "_3PA        0.051965\n",
       "ORB         0.041369\n",
       "FG_         0.041325\n",
       "Age         0.030010\n",
       "_2P         0.027843\n",
       "PF          0.025587\n",
       "AST         0.024137\n",
       "_2P_        0.022946\n",
       "Pos = SF    0.022562\n",
       "Pos = SG    0.018854\n",
       "FGA         0.017115\n",
       "dtype: float64"
      ]
     },
     "execution_count": 98,
     "metadata": {},
     "output_type": "execute_result"
    }
   ],
   "source": [
    "#Print top 15 features\n",
    "status, feature_importance = ds.download_artifact('Darwin_analyze_model_artifact-' + TS)\n",
    "feature_importance[:15]"
   ]
  },
  {
   "cell_type": "code",
   "execution_count": 99,
   "metadata": {},
   "outputs": [],
   "source": [
    "# Now we are using out prediction dataset (data from the 16/17 season)\n",
    "#Since we can not analyze_predictions on datasets with more than 500 rows, we are only predicting \n",
    "#the 500 players with the most games\n",
    "\n",
    "status, dataset = ds.upload_dataset(os.path.join(PATH_TO_DATASET, PREDICT_DATASET))\n",
    "if not status:\n",
    "    print(dataset)\n",
    "    \n",
    "if status:\n",
    "    dataset_by_row=dataset['dataset_name']\n",
    "else:\n",
    "    print(\"Upload data failed!\")"
   ]
  },
  {
   "cell_type": "code",
   "execution_count": null,
   "metadata": {},
   "outputs": [
    {
     "name": "stdout",
     "output_type": "stream",
     "text": [
      "{'status': 'Running', 'starttime': '2019-04-23T16:24:41.545821', 'endtime': None, 'percent_complete': 0, 'job_type': 'AnalyzePredictions', 'loss': None, 'generations': 0, 'dataset_names': None, 'artifact_names': ['Analyze_prediction_artifact-20190423162026'], 'model_name': 'model-20190423162026', 'job_error': ''}\n",
      "{'status': 'Running', 'starttime': '2019-04-23T16:24:41.545821', 'endtime': None, 'percent_complete': 0, 'job_type': 'AnalyzePredictions', 'loss': None, 'generations': 0, 'dataset_names': None, 'artifact_names': ['Analyze_prediction_artifact-20190423162026'], 'model_name': 'model-20190423162026', 'job_error': ''}\n",
      "{'status': 'Running', 'starttime': '2019-04-23T16:24:41.545821', 'endtime': None, 'percent_complete': 0, 'job_type': 'AnalyzePredictions', 'loss': None, 'generations': 0, 'dataset_names': None, 'artifact_names': ['Analyze_prediction_artifact-20190423162026'], 'model_name': 'model-20190423162026', 'job_error': ''}\n",
      "{'status': 'Running', 'starttime': '2019-04-23T16:24:41.545821', 'endtime': None, 'percent_complete': 0, 'job_type': 'AnalyzePredictions', 'loss': None, 'generations': 0, 'dataset_names': None, 'artifact_names': ['Analyze_prediction_artifact-20190423162026'], 'model_name': 'model-20190423162026', 'job_error': ''}\n",
      "{'status': 'Running', 'starttime': '2019-04-23T16:24:41.545821', 'endtime': None, 'percent_complete': 0, 'job_type': 'AnalyzePredictions', 'loss': None, 'generations': 0, 'dataset_names': None, 'artifact_names': ['Analyze_prediction_artifact-20190423162026'], 'model_name': 'model-20190423162026', 'job_error': ''}\n",
      "{'status': 'Running', 'starttime': '2019-04-23T16:24:41.545821', 'endtime': None, 'percent_complete': 0, 'job_type': 'AnalyzePredictions', 'loss': None, 'generations': 0, 'dataset_names': None, 'artifact_names': ['Analyze_prediction_artifact-20190423162026'], 'model_name': 'model-20190423162026', 'job_error': ''}\n",
      "{'status': 'Running', 'starttime': '2019-04-23T16:24:41.545821', 'endtime': None, 'percent_complete': 0, 'job_type': 'AnalyzePredictions', 'loss': None, 'generations': 0, 'dataset_names': None, 'artifact_names': ['Analyze_prediction_artifact-20190423162026'], 'model_name': 'model-20190423162026', 'job_error': ''}\n",
      "{'status': 'Running', 'starttime': '2019-04-23T16:24:41.545821', 'endtime': None, 'percent_complete': 0, 'job_type': 'AnalyzePredictions', 'loss': None, 'generations': 0, 'dataset_names': None, 'artifact_names': ['Analyze_prediction_artifact-20190423162026'], 'model_name': 'model-20190423162026', 'job_error': ''}\n",
      "{'status': 'Running', 'starttime': '2019-04-23T16:24:41.545821', 'endtime': None, 'percent_complete': 0, 'job_type': 'AnalyzePredictions', 'loss': None, 'generations': 0, 'dataset_names': None, 'artifact_names': ['Analyze_prediction_artifact-20190423162026'], 'model_name': 'model-20190423162026', 'job_error': ''}\n",
      "{'status': 'Running', 'starttime': '2019-04-23T16:24:41.545821', 'endtime': None, 'percent_complete': 0, 'job_type': 'AnalyzePredictions', 'loss': None, 'generations': 0, 'dataset_names': None, 'artifact_names': ['Analyze_prediction_artifact-20190423162026'], 'model_name': 'model-20190423162026', 'job_error': ''}\n",
      "{'status': 'Running', 'starttime': '2019-04-23T16:24:41.545821', 'endtime': None, 'percent_complete': 0, 'job_type': 'AnalyzePredictions', 'loss': None, 'generations': 0, 'dataset_names': None, 'artifact_names': ['Analyze_prediction_artifact-20190423162026'], 'model_name': 'model-20190423162026', 'job_error': ''}\n",
      "{'status': 'Running', 'starttime': '2019-04-23T16:24:41.545821', 'endtime': None, 'percent_complete': 0, 'job_type': 'AnalyzePredictions', 'loss': None, 'generations': 0, 'dataset_names': None, 'artifact_names': ['Analyze_prediction_artifact-20190423162026'], 'model_name': 'model-20190423162026', 'job_error': ''}\n",
      "{'status': 'Running', 'starttime': '2019-04-23T16:24:41.545821', 'endtime': None, 'percent_complete': 0, 'job_type': 'AnalyzePredictions', 'loss': None, 'generations': 0, 'dataset_names': None, 'artifact_names': ['Analyze_prediction_artifact-20190423162026'], 'model_name': 'model-20190423162026', 'job_error': ''}\n",
      "{'status': 'Running', 'starttime': '2019-04-23T16:24:41.545821', 'endtime': None, 'percent_complete': 0, 'job_type': 'AnalyzePredictions', 'loss': None, 'generations': 0, 'dataset_names': None, 'artifact_names': ['Analyze_prediction_artifact-20190423162026'], 'model_name': 'model-20190423162026', 'job_error': ''}\n",
      "{'status': 'Running', 'starttime': '2019-04-23T16:24:41.545821', 'endtime': None, 'percent_complete': 0, 'job_type': 'AnalyzePredictions', 'loss': None, 'generations': 0, 'dataset_names': None, 'artifact_names': ['Analyze_prediction_artifact-20190423162026'], 'model_name': 'model-20190423162026', 'job_error': ''}\n",
      "{'status': 'Running', 'starttime': '2019-04-23T16:24:41.545821', 'endtime': None, 'percent_complete': 0, 'job_type': 'AnalyzePredictions', 'loss': None, 'generations': 0, 'dataset_names': None, 'artifact_names': ['Analyze_prediction_artifact-20190423162026'], 'model_name': 'model-20190423162026', 'job_error': ''}\n",
      "{'status': 'Running', 'starttime': '2019-04-23T16:24:41.545821', 'endtime': None, 'percent_complete': 0, 'job_type': 'AnalyzePredictions', 'loss': None, 'generations': 0, 'dataset_names': None, 'artifact_names': ['Analyze_prediction_artifact-20190423162026'], 'model_name': 'model-20190423162026', 'job_error': ''}\n",
      "{'status': 'Running', 'starttime': '2019-04-23T16:24:41.545821', 'endtime': None, 'percent_complete': 0, 'job_type': 'AnalyzePredictions', 'loss': None, 'generations': 0, 'dataset_names': None, 'artifact_names': ['Analyze_prediction_artifact-20190423162026'], 'model_name': 'model-20190423162026', 'job_error': ''}\n",
      "{'status': 'Running', 'starttime': '2019-04-23T16:24:41.545821', 'endtime': None, 'percent_complete': 0, 'job_type': 'AnalyzePredictions', 'loss': None, 'generations': 0, 'dataset_names': None, 'artifact_names': ['Analyze_prediction_artifact-20190423162026'], 'model_name': 'model-20190423162026', 'job_error': ''}\n"
     ]
    }
   ],
   "source": [
    "#Run analyze predictions\n",
    "status, analyze_id = ds.analyze_predictions(job_id['model_name'], \n",
    "                                            PREDICT_DATASET, \n",
    "                                            job_name='Analyze_prediction_job-' + TS, \n",
    "                                            artifact_name='Analyze_prediction_artifact-' + TS)\n",
    "sleep(1)\n",
    "if status:\n",
    "    ds.wait_for_job('Analyze_prediction_job-' + TS)\n",
    "else:\n",
    "    print(analyze_id)"
   ]
  },
  {
   "cell_type": "code",
   "execution_count": 23,
   "metadata": {},
   "outputs": [
    {
     "data": {
      "text/plain": [
       "(True,\n",
       " {'status': 'Running',\n",
       "  'starttime': '2019-04-23T15:11:29.828065',\n",
       "  'endtime': None,\n",
       "  'percent_complete': 0,\n",
       "  'job_type': 'AnalyzePredictions',\n",
       "  'loss': None,\n",
       "  'generations': 0,\n",
       "  'dataset_names': None,\n",
       "  'artifact_names': ['Analyze_prediction_artifact-20190423150454'],\n",
       "  'model_name': 'model-20190423150454',\n",
       "  'job_error': ''})"
      ]
     },
     "execution_count": 23,
     "metadata": {},
     "output_type": "execute_result"
    }
   ],
   "source": [
    "#Get job status\n",
    "ds.lookup_job_status_name('Analyze_prediction_job-' + TS)"
   ]
  },
  {
   "cell_type": "code",
   "execution_count": 24,
   "metadata": {},
   "outputs": [
    {
     "ename": "AttributeError",
     "evalue": "'str' object has no attribute 'head'",
     "output_type": "error",
     "traceback": [
      "\u001b[0;31m---------------------------------------------------------------------------\u001b[0m",
      "\u001b[0;31mAttributeError\u001b[0m                            Traceback (most recent call last)",
      "\u001b[0;32m<ipython-input-24-84a25de22661>\u001b[0m in \u001b[0;36m<module>\u001b[0;34m\u001b[0m\n\u001b[1;32m      1\u001b[0m \u001b[0mstatus\u001b[0m\u001b[0;34m,\u001b[0m \u001b[0mfeature_importance\u001b[0m \u001b[0;34m=\u001b[0m \u001b[0mds\u001b[0m\u001b[0;34m.\u001b[0m\u001b[0mdownload_artifact\u001b[0m\u001b[0;34m(\u001b[0m\u001b[0;34m'Analyze_prediction_artifact-'\u001b[0m \u001b[0;34m+\u001b[0m \u001b[0mts\u001b[0m\u001b[0;34m)\u001b[0m\u001b[0;34m\u001b[0m\u001b[0;34m\u001b[0m\u001b[0m\n\u001b[0;32m----> 2\u001b[0;31m \u001b[0mfeature_importance\u001b[0m\u001b[0;34m.\u001b[0m\u001b[0mhead\u001b[0m\u001b[0;34m(\u001b[0m\u001b[0;34m)\u001b[0m\u001b[0;34m\u001b[0m\u001b[0;34m\u001b[0m\u001b[0m\n\u001b[0m",
      "\u001b[0;31mAttributeError\u001b[0m: 'str' object has no attribute 'head'"
     ]
    }
   ],
   "source": [
    "#Print top 15 features\n",
    "status, feature_importance = ds.download_artifact('Analyze_prediction_artifact-' + TS)\n",
    "feature_importance.head()"
   ]
  }
 ],
 "metadata": {
  "anaconda-cloud": {},
  "kernelspec": {
   "display_name": "Python 3",
   "language": "python",
   "name": "python3"
  },
  "language_info": {
   "codemirror_mode": {
    "name": "ipython",
    "version": 3
   },
   "file_extension": ".py",
   "mimetype": "text/x-python",
   "name": "python",
   "nbconvert_exporter": "python",
   "pygments_lexer": "ipython3",
   "version": "3.7.1"
  }
 },
 "nbformat": 4,
 "nbformat_minor": 2
}
