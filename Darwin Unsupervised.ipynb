{
 "cells": [
  {
   "cell_type": "code",
   "execution_count": 97,
   "metadata": {},
   "outputs": [],
   "source": [
    "%matplotlib inline\n",
    "from amb_sdk.sdk import DarwinSdk\n",
    "import matplotlib.pyplot as plt\n",
    "import pandas as pd\n",
    "from IPython.display import Image\n",
    "from time import sleep\n",
    "import os\n",
    "import datetime"
   ]
  },
  {
   "cell_type": "code",
   "execution_count": 98,
   "metadata": {},
   "outputs": [
    {
     "data": {
      "text/plain": [
       "(True, 'https://amb-demo-api.sparkcognition.com/v1/')"
      ]
     },
     "execution_count": 98,
     "metadata": {},
     "output_type": "execute_result"
    }
   ],
   "source": [
    "#Set darwin url\n",
    "ds = DarwinSdk()\n",
    "ds.set_url('https://amb-demo-api.sparkcognition.com/v1/')"
   ]
  },
  {
   "cell_type": "code",
   "execution_count": 99,
   "metadata": {},
   "outputs": [],
   "source": [
    "#Setting environmental variables \n",
    "USERNAME='idunlap@rocketmail.com'\n",
    "PASSWORD='5uVGHsTHrQ'\n",
    "\n",
    "#Setting path to datasets\n",
    "\n",
    "#Here we are using the 17/18 data to train season to train and the 16/17 season data to test\n",
    "#Since we're looking for predicted position, we use datasets with single-position players (SPP)\n",
    "#Since we cannot run analyze predict on datasets with more than 500 rows, we are only using the top 500 players \n",
    "#from the 16/17 season data in priority of players with the most games played\n",
    "PATH_TO_DATASET = 'sets/'\n",
    "TRAIN_DATASET='12-16_Combines_Stats_Per_100_Possessions_SPP.csv'\n",
    "PREDICT_DATASET = '17_18_Season_Stats_Per_100_Possessions_SPP_limit_100.csv'\n",
    "\n",
    "#creating a datetime timestamp for later use\n",
    "TS = '{:%Y%m%d%H%M%S}'.format(datetime.datetime.now())"
   ]
  },
  {
   "cell_type": "code",
   "execution_count": 100,
   "metadata": {},
   "outputs": [
    {
     "name": "stdout",
     "output_type": "stream",
     "text": [
      "Deleting 12-16_Combines_Stats_Per_100_Possessions_SPP.csv\n",
      "Deleting model-20190504134832\n",
      "Deleting model-20190504133249\n",
      "Deleting b58e8a85f7384aab8846dbf4498f78d9\n",
      "Error removing artifact \"b58e8a85f7384aab8846dbf4498f78d9\" - 404: NOT FOUND - {\"message\": \"Failed to find artifact b58e8a85f7384aab8846dbf4498f78d9\"}\n",
      "\n",
      "Deleting 44d13b7470664d8d9635083fbcf5938d\n",
      "Error removing artifact \"44d13b7470664d8d9635083fbcf5938d\" - 404: NOT FOUND - {\"message\": \"Failed to find artifact 44d13b7470664d8d9635083fbcf5938d\"}\n",
      "\n",
      "Deleting 2675cf18b2934b3d8457c3c6bc922d54\n",
      "Error removing artifact \"2675cf18b2934b3d8457c3c6bc922d54\" - 404: NOT FOUND - {\"message\": \"Failed to find artifact 2675cf18b2934b3d8457c3c6bc922d54\"}\n",
      "\n",
      "Deleting 101dd4ea79be471e9e8e6b933a20b3e6\n",
      "Error removing artifact \"101dd4ea79be471e9e8e6b933a20b3e6\" - 404: NOT FOUND - {\"message\": \"Failed to find artifact 101dd4ea79be471e9e8e6b933a20b3e6\"}\n",
      "\n",
      "Deleting 584ac6f6db89442aaac87684a7fabea8\n",
      "Error removing artifact \"584ac6f6db89442aaac87684a7fabea8\" - 404: NOT FOUND - {\"message\": \"Failed to find artifact 584ac6f6db89442aaac87684a7fabea8\"}\n",
      "\n",
      "Deleting Analyze_prediction_artifact-20190417222338\n",
      "Error removing artifact \"Analyze_prediction_artifact-20190417222338\" - 404: NOT FOUND - {\"message\": \"Failed to find artifact Analyze_prediction_artifact-20190417222338\"}\n",
      "\n",
      "Deleting 2d76b5a885b144e28b3e9045d9faa4dd\n",
      "Error removing artifact \"2d76b5a885b144e28b3e9045d9faa4dd\" - 404: NOT FOUND - {\"message\": \"Failed to find artifact 2d76b5a885b144e28b3e9045d9faa4dd\"}\n",
      "\n",
      "Deleting 689024a2066f4aaca2e7fbeb471724fd\n",
      "Error removing artifact \"689024a2066f4aaca2e7fbeb471724fd\" - 404: NOT FOUND - {\"message\": \"Failed to find artifact 689024a2066f4aaca2e7fbeb471724fd\"}\n",
      "\n",
      "Deleting Analyze_prediction_artifact-20190421175058\n",
      "Error removing artifact \"Analyze_prediction_artifact-20190421175058\" - 404: NOT FOUND - {\"message\": \"Failed to find artifact Analyze_prediction_artifact-20190421175058\"}\n",
      "\n",
      "Deleting Darwin_analyze_model_artifact-20190421180421\n",
      "Error removing artifact \"Darwin_analyze_model_artifact-20190421180421\" - 404: NOT FOUND - {\"message\": \"Failed to find artifact Darwin_analyze_model_artifact-20190421180421\"}\n",
      "\n",
      "Deleting 88abbf84269a45d1a862f33bed249d0b\n",
      "Error removing artifact \"88abbf84269a45d1a862f33bed249d0b\" - 404: NOT FOUND - {\"message\": \"Failed to find artifact 88abbf84269a45d1a862f33bed249d0b\"}\n",
      "\n",
      "Deleting c3d79c159d9c435e8de99e3a333e4864\n",
      "Error removing artifact \"c3d79c159d9c435e8de99e3a333e4864\" - 404: NOT FOUND - {\"message\": \"Failed to find artifact c3d79c159d9c435e8de99e3a333e4864\"}\n",
      "\n",
      "Deleting d10e25be87d142e49f397fe6b017641e\n",
      "Error removing artifact \"d10e25be87d142e49f397fe6b017641e\" - 404: NOT FOUND - {\"message\": \"Failed to find artifact d10e25be87d142e49f397fe6b017641e\"}\n",
      "\n",
      "Deleting 9c3d9a4d2f61469197583238bedc08ae\n",
      "Error removing artifact \"9c3d9a4d2f61469197583238bedc08ae\" - 404: NOT FOUND - {\"message\": \"Failed to find artifact 9c3d9a4d2f61469197583238bedc08ae\"}\n",
      "\n",
      "Deleting f946e370e5254076a241a01b9f605a95\n",
      "Error removing artifact \"f946e370e5254076a241a01b9f605a95\" - 404: NOT FOUND - {\"message\": \"Failed to find artifact f946e370e5254076a241a01b9f605a95\"}\n",
      "\n",
      "Deleting Analyze_prediction_artifact-20190504133249\n",
      "Deleting Darwin_analyze_data_artifact-20190504134832\n",
      "Deleting 601adeca36e14d88af2ec524e9f2c8be\n",
      "Deleting 6f9e29f6997348dfaf3e67a7f8325b7d\n",
      "Deleting Darwin_analyze_model_artifact-20190504134832\n",
      "Deleting Analyze_prediction_artifact-20190504134832\n",
      "Error removing artifact \"Analyze_prediction_artifact-20190504134832\" - 404: NOT FOUND - {\"message\": \"Failed to find artifact Analyze_prediction_artifact-20190504134832\"}\n",
      "\n"
     ]
    },
    {
     "data": {
      "text/plain": [
       "(True, None)"
      ]
     },
     "execution_count": 100,
     "metadata": {},
     "output_type": "execute_result"
    }
   ],
   "source": [
    "#Log in\n",
    "status, msg = ds.auth_login_user(USERNAME,PASSWORD)\n",
    "if not status:\n",
    "    print(msg)\n",
    "    \n",
    "#Pre-build cleanup\n",
    "ds.delete_all_datasets()\n",
    "ds.delete_all_models()\n",
    "ds.delete_all_artifacts()"
   ]
  },
  {
   "cell_type": "code",
   "execution_count": 101,
   "metadata": {},
   "outputs": [
    {
     "data": {
      "text/html": [
       "<div>\n",
       "<style scoped>\n",
       "    .dataframe tbody tr th:only-of-type {\n",
       "        vertical-align: middle;\n",
       "    }\n",
       "\n",
       "    .dataframe tbody tr th {\n",
       "        vertical-align: top;\n",
       "    }\n",
       "\n",
       "    .dataframe thead th {\n",
       "        text-align: right;\n",
       "    }\n",
       "</style>\n",
       "<table border=\"1\" class=\"dataframe\">\n",
       "  <thead>\n",
       "    <tr style=\"text-align: right;\">\n",
       "      <th></th>\n",
       "      <th>Rk</th>\n",
       "      <th>Player</th>\n",
       "      <th>Pos</th>\n",
       "      <th>Age</th>\n",
       "      <th>Tm</th>\n",
       "      <th>G</th>\n",
       "      <th>GS</th>\n",
       "      <th>MP</th>\n",
       "      <th>FG</th>\n",
       "      <th>FGA</th>\n",
       "      <th>...</th>\n",
       "      <th>TRB</th>\n",
       "      <th>AST</th>\n",
       "      <th>STL</th>\n",
       "      <th>BLK</th>\n",
       "      <th>TOV</th>\n",
       "      <th>PF</th>\n",
       "      <th>PTS</th>\n",
       "      <th>string_field_29</th>\n",
       "      <th>ORtg</th>\n",
       "      <th>DRtg</th>\n",
       "    </tr>\n",
       "  </thead>\n",
       "  <tbody>\n",
       "    <tr>\n",
       "      <th>0</th>\n",
       "      <td>262</td>\n",
       "      <td>Alex Len\\lenal01</td>\n",
       "      <td>C</td>\n",
       "      <td>22</td>\n",
       "      <td>PHO</td>\n",
       "      <td>78</td>\n",
       "      <td>46</td>\n",
       "      <td>1821</td>\n",
       "      <td>7.1</td>\n",
       "      <td>16.7</td>\n",
       "      <td>...</td>\n",
       "      <td>15.9</td>\n",
       "      <td>2.6</td>\n",
       "      <td>1.0</td>\n",
       "      <td>1.7</td>\n",
       "      <td>3.9</td>\n",
       "      <td>6.2</td>\n",
       "      <td>18.8</td>\n",
       "      <td>NaN</td>\n",
       "      <td>96.0</td>\n",
       "      <td>107</td>\n",
       "    </tr>\n",
       "    <tr>\n",
       "      <th>1</th>\n",
       "      <td>260</td>\n",
       "      <td>Alex Len\\lenal01</td>\n",
       "      <td>C</td>\n",
       "      <td>23</td>\n",
       "      <td>PHO</td>\n",
       "      <td>77</td>\n",
       "      <td>34</td>\n",
       "      <td>1560</td>\n",
       "      <td>7.1</td>\n",
       "      <td>14.2</td>\n",
       "      <td>...</td>\n",
       "      <td>15.6</td>\n",
       "      <td>1.4</td>\n",
       "      <td>1.2</td>\n",
       "      <td>3.0</td>\n",
       "      <td>3.1</td>\n",
       "      <td>7.4</td>\n",
       "      <td>18.8</td>\n",
       "      <td>NaN</td>\n",
       "      <td>108.0</td>\n",
       "      <td>108</td>\n",
       "    </tr>\n",
       "    <tr>\n",
       "      <th>2</th>\n",
       "      <td>279</td>\n",
       "      <td>Alex Len\\lenal01</td>\n",
       "      <td>C</td>\n",
       "      <td>21</td>\n",
       "      <td>PHO</td>\n",
       "      <td>69</td>\n",
       "      <td>44</td>\n",
       "      <td>1518</td>\n",
       "      <td>5.9</td>\n",
       "      <td>11.6</td>\n",
       "      <td>...</td>\n",
       "      <td>14.9</td>\n",
       "      <td>1.1</td>\n",
       "      <td>1.1</td>\n",
       "      <td>3.4</td>\n",
       "      <td>2.4</td>\n",
       "      <td>7.0</td>\n",
       "      <td>14.2</td>\n",
       "      <td>NaN</td>\n",
       "      <td>107.0</td>\n",
       "      <td>103</td>\n",
       "    </tr>\n",
       "    <tr>\n",
       "      <th>3</th>\n",
       "      <td>267</td>\n",
       "      <td>Alex Len\\lenal01</td>\n",
       "      <td>C</td>\n",
       "      <td>20</td>\n",
       "      <td>PHO</td>\n",
       "      <td>42</td>\n",
       "      <td>3</td>\n",
       "      <td>362</td>\n",
       "      <td>4.6</td>\n",
       "      <td>10.8</td>\n",
       "      <td>...</td>\n",
       "      <td>13.7</td>\n",
       "      <td>0.6</td>\n",
       "      <td>0.6</td>\n",
       "      <td>2.5</td>\n",
       "      <td>3.6</td>\n",
       "      <td>9.4</td>\n",
       "      <td>11.9</td>\n",
       "      <td>NaN</td>\n",
       "      <td>92.0</td>\n",
       "      <td>106</td>\n",
       "    </tr>\n",
       "    <tr>\n",
       "      <th>4</th>\n",
       "      <td>264</td>\n",
       "      <td>Alex Kirk\\kirkal01</td>\n",
       "      <td>C</td>\n",
       "      <td>23</td>\n",
       "      <td>CLE</td>\n",
       "      <td>5</td>\n",
       "      <td>0</td>\n",
       "      <td>14</td>\n",
       "      <td>3.7</td>\n",
       "      <td>14.9</td>\n",
       "      <td>...</td>\n",
       "      <td>3.7</td>\n",
       "      <td>3.7</td>\n",
       "      <td>0.0</td>\n",
       "      <td>0.0</td>\n",
       "      <td>0.0</td>\n",
       "      <td>3.7</td>\n",
       "      <td>14.9</td>\n",
       "      <td>NaN</td>\n",
       "      <td>112.0</td>\n",
       "      <td>115</td>\n",
       "    </tr>\n",
       "  </tbody>\n",
       "</table>\n",
       "<p>5 rows × 32 columns</p>\n",
       "</div>"
      ],
      "text/plain": [
       "    Rk              Player Pos  Age   Tm   G  GS    MP   FG   FGA  ...    TRB  \\\n",
       "0  262    Alex Len\\lenal01   C   22  PHO  78  46  1821  7.1  16.7  ...   15.9   \n",
       "1  260    Alex Len\\lenal01   C   23  PHO  77  34  1560  7.1  14.2  ...   15.6   \n",
       "2  279    Alex Len\\lenal01   C   21  PHO  69  44  1518  5.9  11.6  ...   14.9   \n",
       "3  267    Alex Len\\lenal01   C   20  PHO  42   3   362  4.6  10.8  ...   13.7   \n",
       "4  264  Alex Kirk\\kirkal01   C   23  CLE   5   0    14  3.7  14.9  ...    3.7   \n",
       "\n",
       "   AST  STL  BLK  TOV   PF   PTS  string_field_29   ORtg  DRtg  \n",
       "0  2.6  1.0  1.7  3.9  6.2  18.8              NaN   96.0   107  \n",
       "1  1.4  1.2  3.0  3.1  7.4  18.8              NaN  108.0   108  \n",
       "2  1.1  1.1  3.4  2.4  7.0  14.2              NaN  107.0   103  \n",
       "3  0.6  0.6  2.5  3.6  9.4  11.9              NaN   92.0   106  \n",
       "4  3.7  0.0  0.0  0.0  3.7  14.9              NaN  112.0   115  \n",
       "\n",
       "[5 rows x 32 columns]"
      ]
     },
     "execution_count": 101,
     "metadata": {},
     "output_type": "execute_result"
    }
   ],
   "source": [
    "# Preview dataset and display the first 5 entries\n",
    "df = pd.read_csv(os.path.join(PATH_TO_DATASET, TRAIN_DATASET))\n",
    "df.head()"
   ]
  },
  {
   "cell_type": "code",
   "execution_count": 102,
   "metadata": {},
   "outputs": [
    {
     "name": "stdout",
     "output_type": "stream",
     "text": [
      "True\n",
      "{'dataset_name': '12-16_Combines_Stats_Per_100_Possessions_SPP.csv'}\n"
     ]
    }
   ],
   "source": [
    "# Upload dataset to darwin\n",
    "status, dataset = ds.upload_dataset(os.path.join(PATH_TO_DATASET, TRAIN_DATASET))\n",
    "print(status)\n",
    "print(dataset)\n",
    "\n",
    "if not status:\n",
    "    print(dataset)"
   ]
  },
  {
   "cell_type": "code",
   "execution_count": 103,
   "metadata": {},
   "outputs": [
    {
     "name": "stdout",
     "output_type": "stream",
     "text": [
      "{'status': 'Requested', 'starttime': '2019-05-04T13:56:58.276068', 'endtime': None, 'percent_complete': 0, 'job_type': 'AnalyzeData', 'loss': None, 'generations': None, 'dataset_names': ['12-16_Combines_Stats_Per_100_Possessions_SPP.csv'], 'artifact_names': ['Darwin_analyze_data_artifact-20190504135642'], 'model_name': None, 'job_error': None}\n",
      "{'status': 'Running', 'starttime': '2019-05-04T13:56:58.276068', 'endtime': None, 'percent_complete': 0, 'job_type': 'AnalyzeData', 'loss': None, 'generations': None, 'dataset_names': ['12-16_Combines_Stats_Per_100_Possessions_SPP.csv'], 'artifact_names': ['Darwin_analyze_data_artifact-20190504135642'], 'model_name': None, 'job_error': None}\n",
      "{'status': 'Running', 'starttime': '2019-05-04T13:56:58.276068', 'endtime': None, 'percent_complete': 10, 'job_type': 'AnalyzeData', 'loss': None, 'generations': None, 'dataset_names': ['12-16_Combines_Stats_Per_100_Possessions_SPP.csv'], 'artifact_names': ['Darwin_analyze_data_artifact-20190504135642'], 'model_name': None, 'job_error': None}\n",
      "{'status': 'Running', 'starttime': '2019-05-04T13:56:58.276068', 'endtime': None, 'percent_complete': 10, 'job_type': 'AnalyzeData', 'loss': None, 'generations': None, 'dataset_names': ['12-16_Combines_Stats_Per_100_Possessions_SPP.csv'], 'artifact_names': ['Darwin_analyze_data_artifact-20190504135642'], 'model_name': None, 'job_error': None}\n",
      "{'status': 'Complete', 'starttime': '2019-05-04T13:56:58.276068', 'endtime': '2019-05-04T13:57:49.805', 'percent_complete': 100, 'job_type': 'AnalyzeData', 'loss': None, 'generations': None, 'dataset_names': ['12-16_Combines_Stats_Per_100_Possessions_SPP.csv'], 'artifact_names': ['Darwin_analyze_data_artifact-20190504135642'], 'model_name': None, 'job_error': ''}\n"
     ]
    }
   ],
   "source": [
    "#Analyze data \n",
    "status, analyze_id = ds.analyze_data(TRAIN_DATASET, \n",
    "                                     job_name = 'Darwin_analyze_data_job' + \"-\" + TS, \n",
    "                                     artifact_name = 'Darwin_analyze_data_artifact' + \"-\" + TS)\n",
    "sleep(1)\n",
    "if status:\n",
    "    ds.wait_for_job('Darwin_analyze_data_job' + \"-\" + TS)\n",
    "else:\n",
    "    print(analyze_id)"
   ]
  },
  {
   "cell_type": "code",
   "execution_count": 104,
   "metadata": {
    "scrolled": true
   },
   "outputs": [
    {
     "data": {
      "text/plain": [
       "(True,\n",
       " {'status': 'Complete',\n",
       "  'starttime': '2019-05-04T13:56:58.276068',\n",
       "  'endtime': '2019-05-04T13:57:49.805',\n",
       "  'percent_complete': 100,\n",
       "  'job_type': 'AnalyzeData',\n",
       "  'loss': None,\n",
       "  'generations': None,\n",
       "  'dataset_names': ['12-16_Combines_Stats_Per_100_Possessions_SPP.csv'],\n",
       "  'artifact_names': ['Darwin_analyze_data_artifact-20190504135642'],\n",
       "  'model_name': None,\n",
       "  'job_error': ''})"
      ]
     },
     "execution_count": 104,
     "metadata": {},
     "output_type": "execute_result"
    }
   ],
   "source": [
    "#Look up job status\n",
    "ds.lookup_job_status_name(analyze_id['job_name'])"
   ]
  },
  {
   "cell_type": "code",
   "execution_count": 105,
   "metadata": {},
   "outputs": [
    {
     "name": "stdout",
     "output_type": "stream",
     "text": [
      "Data has been cleaned!\n"
     ]
    }
   ],
   "source": [
    "# Clean dataset\n",
    "status, job_id = ds.clean_data(dataset_name=TRAIN_DATASET)\n",
    "if not status:\n",
    "    print(job_id)\n",
    "else:\n",
    "    print('Data has been cleaned!')"
   ]
  },
  {
   "cell_type": "code",
   "execution_count": 106,
   "metadata": {
    "scrolled": false
   },
   "outputs": [
    {
     "name": "stdout",
     "output_type": "stream",
     "text": [
      "{'status': 'Running', 'starttime': '2019-05-04T13:58:12.809662', 'endtime': None, 'percent_complete': 0, 'job_type': 'TrainModel', 'loss': None, 'generations': 0, 'dataset_names': ['12-16_Combines_Stats_Per_100_Possessions_SPP.csv'], 'artifact_names': None, 'model_name': 'model-20190504135642', 'job_error': ''}\n",
      "{'status': 'Running', 'starttime': '2019-05-04T13:58:12.809662', 'endtime': None, 'percent_complete': 0, 'job_type': 'TrainModel', 'loss': None, 'generations': 0, 'dataset_names': ['12-16_Combines_Stats_Per_100_Possessions_SPP.csv'], 'artifact_names': None, 'model_name': 'model-20190504135642', 'job_error': ''}\n",
      "{'status': 'Running', 'starttime': '2019-05-04T13:58:12.809662', 'endtime': None, 'percent_complete': 0, 'job_type': 'TrainModel', 'loss': None, 'generations': 0, 'dataset_names': ['12-16_Combines_Stats_Per_100_Possessions_SPP.csv'], 'artifact_names': None, 'model_name': 'model-20190504135642', 'job_error': ''}\n",
      "{'status': 'Complete', 'starttime': '2019-05-04T13:58:12.809662', 'endtime': '2019-05-04T13:58:53.164855', 'percent_complete': 100, 'job_type': 'TrainModel', 'loss': None, 'generations': 0, 'dataset_names': ['12-16_Combines_Stats_Per_100_Possessions_SPP.csv'], 'artifact_names': None, 'model_name': 'model-20190504135642', 'job_error': ''}\n"
     ]
    }
   ],
   "source": [
    "# Build unsupervised model\n",
    "# 3 clusters because we are trying to predict the three overarching positions that all players fall into\n",
    "model = \"model\" + \"-\" + TS\n",
    "max_epochs = 20\n",
    "n_clusters = 3\n",
    "#n_clusters = 'auto'\n",
    "status, job_id = ds.create_model(dataset_names=TRAIN_DATASET,\n",
    "                                 model_name=model,\n",
    "                                 max_epochs=max_epochs,\n",
    "                                 n_clusters=n_clusters)\n",
    "sleep(1)\n",
    "if status:\n",
    "    ds.wait_for_job(job_id['job_name'])\n",
    "else:\n",
    "    print(job_id)"
   ]
  },
  {
   "cell_type": "code",
   "execution_count": 107,
   "metadata": {},
   "outputs": [
    {
     "data": {
      "text/plain": [
       "(True,\n",
       " {'status': 'Complete',\n",
       "  'starttime': '2019-05-04T13:58:12.809662',\n",
       "  'endtime': '2019-05-04T13:58:53.164855',\n",
       "  'percent_complete': 100,\n",
       "  'job_type': 'TrainModel',\n",
       "  'loss': None,\n",
       "  'generations': 0,\n",
       "  'dataset_names': ['12-16_Combines_Stats_Per_100_Possessions_SPP.csv'],\n",
       "  'artifact_names': None,\n",
       "  'model_name': 'model-20190504135642',\n",
       "  'job_error': ''})"
      ]
     },
     "execution_count": 107,
     "metadata": {},
     "output_type": "execute_result"
    }
   ],
   "source": [
    "# look up job status\n",
    "ds.lookup_job_status_name(job_id['job_name'])"
   ]
  },
  {
   "cell_type": "code",
   "execution_count": 108,
   "metadata": {},
   "outputs": [
    {
     "data": {
      "text/plain": [
       "(True,\n",
       " {'type': 'Unsupervised',\n",
       "  'updated_at': '2019-05-04T13:58:53.156516',\n",
       "  'trained_on': ['12-16_Combines_Stats_Per_100_Possessions_SPP.csv'],\n",
       "  'loss': None,\n",
       "  'generations': 0,\n",
       "  'parameters': {'n_clusters': 3,\n",
       "   'max_generation': 20,\n",
       "   'train_time': '00:10',\n",
       "   'recurrent': None,\n",
       "   'max_unique_values': 50,\n",
       "   'max_int_uniques': 15,\n",
       "   'impute': 'mean',\n",
       "   'big_data': False},\n",
       "  'description': {'model': \"UnsupervisedPipeline(anomaly=False, anomaly_prior=0.0015, auto_save_per=10,\\n           clustering=True, clustermethod='GaussianMixture',\\n           job_id='91002218-6e9e-11e9-a3d0-533194416626',\\n           max_generation=20, max_time=600,\\n           model_file='models/8f7f1eea-4fc6-11e9-ba76-eb31f920f59e_model-20190504135642',\\n           n_clusters=3, preproc_anomaly=None, recurrent=None, verbose=2)\",\n",
       "   'genome_type': 'Unsupervised'},\n",
       "  'train_time_seconds': 40,\n",
       "  'algorithm': None,\n",
       "  'running_job_id': None})"
      ]
     },
     "execution_count": 108,
     "metadata": {},
     "output_type": "execute_result"
    }
   ],
   "source": [
    "# look up the model\n",
    "ds.lookup_model_name(job_id['model_name'])"
   ]
  },
  {
   "cell_type": "code",
   "execution_count": 109,
   "metadata": {},
   "outputs": [
    {
     "name": "stdout",
     "output_type": "stream",
     "text": [
      "{'status': 'Running', 'starttime': '2019-05-04T13:59:24.229228', 'endtime': None, 'percent_complete': 0, 'job_type': 'UpdateModel', 'loss': None, 'generations': 0, 'dataset_names': ['12-16_Combines_Stats_Per_100_Possessions_SPP.csv'], 'artifact_names': None, 'model_name': 'model-20190504135642', 'job_error': ''}\n",
      "{'status': 'Complete', 'starttime': '2019-05-04T13:59:24.229228', 'endtime': '2019-05-04T13:59:33.239518', 'percent_complete': 100, 'job_type': 'UpdateModel', 'loss': None, 'generations': 0, 'dataset_names': ['12-16_Combines_Stats_Per_100_Possessions_SPP.csv'], 'artifact_names': None, 'model_name': 'model-20190504135642', 'job_error': ''}\n"
     ]
    }
   ],
   "source": [
    "# Train some more\n",
    "extra_epochs = 10\n",
    "status, job_id = ds.resume_training_model(dataset_names=TRAIN_DATASET,\n",
    "                                          model_name=model,\n",
    "                                          max_epochs=extra_epochs,\n",
    "                                          n_clusters=n_clusters)\n",
    "sleep(1)\n",
    "if status:\n",
    "    ds.wait_for_job(job_id['job_name'])\n",
    "else:\n",
    "    print(job_id)"
   ]
  },
  {
   "cell_type": "code",
   "execution_count": 110,
   "metadata": {},
   "outputs": [
    {
     "name": "stdout",
     "output_type": "stream",
     "text": [
      "{'status': 'Running', 'starttime': '2019-05-04T13:59:41.449263', 'endtime': None, 'percent_complete': 0, 'job_type': 'RunModel', 'loss': None, 'generations': 0, 'dataset_names': ['12-16_Combines_Stats_Per_100_Possessions_SPP.csv'], 'artifact_names': ['b7ab5d3487804dd291d937e578903cdc'], 'model_name': 'model-20190504135642', 'job_error': ''}\n",
      "{'status': 'Complete', 'starttime': '2019-05-04T13:59:41.449263', 'endtime': '2019-05-04T13:59:45.429971', 'percent_complete': 100, 'job_type': 'RunModel', 'loss': None, 'generations': 0, 'dataset_names': ['12-16_Combines_Stats_Per_100_Possessions_SPP.csv'], 'artifact_names': ['b7ab5d3487804dd291d937e578903cdc'], 'model_name': 'model-20190504135642', 'job_error': ''}\n"
     ]
    },
    {
     "data": {
      "text/plain": [
       "(True, 'Job completed')"
      ]
     },
     "execution_count": 110,
     "metadata": {},
     "output_type": "execute_result"
    }
   ],
   "source": [
    "# Test model\n",
    "# using this for predictions in the following cells\n",
    "status, artifact = ds.run_model(TRAIN_DATASET, \n",
    "                                model, \n",
    "                                supervised=False)\n",
    "sleep(1)\n",
    "ds.wait_for_job(artifact['job_name'])"
   ]
  },
  {
   "cell_type": "code",
   "execution_count": 111,
   "metadata": {},
   "outputs": [],
   "source": [
    "# retrieve predictions\n",
    "status, pred_file = ds.download_artifact(artifact['artifact_name'])"
   ]
  },
  {
   "cell_type": "code",
   "execution_count": 112,
   "metadata": {},
   "outputs": [
    {
     "data": {
      "text/html": [
       "<div>\n",
       "<style scoped>\n",
       "    .dataframe tbody tr th:only-of-type {\n",
       "        vertical-align: middle;\n",
       "    }\n",
       "\n",
       "    .dataframe tbody tr th {\n",
       "        vertical-align: top;\n",
       "    }\n",
       "\n",
       "    .dataframe thead th {\n",
       "        text-align: right;\n",
       "    }\n",
       "</style>\n",
       "<table border=\"1\" class=\"dataframe\">\n",
       "  <thead>\n",
       "    <tr style=\"text-align: right;\">\n",
       "      <th></th>\n",
       "      <th>anomaly_score</th>\n",
       "      <th>predict_proba</th>\n",
       "      <th>prediction</th>\n",
       "    </tr>\n",
       "  </thead>\n",
       "  <tbody>\n",
       "    <tr>\n",
       "      <th>0</th>\n",
       "      <td>-10.353864</td>\n",
       "      <td>[4.592559076229764e-166, 1.0, 0.0]</td>\n",
       "      <td>1</td>\n",
       "    </tr>\n",
       "    <tr>\n",
       "      <th>1</th>\n",
       "      <td>-10.353864</td>\n",
       "      <td>[1.36527841686267e-165, 1.0, 0.0]</td>\n",
       "      <td>1</td>\n",
       "    </tr>\n",
       "    <tr>\n",
       "      <th>2</th>\n",
       "      <td>-10.353864</td>\n",
       "      <td>[7.35035621131701e-164, 1.0, 0.0]</td>\n",
       "      <td>1</td>\n",
       "    </tr>\n",
       "    <tr>\n",
       "      <th>3</th>\n",
       "      <td>-10.353864</td>\n",
       "      <td>[7.070859733925672e-173, 1.0, 0.0]</td>\n",
       "      <td>1</td>\n",
       "    </tr>\n",
       "    <tr>\n",
       "      <th>4</th>\n",
       "      <td>-7.230650</td>\n",
       "      <td>[1.6012689517045818e-178, 1.0, 0.0]</td>\n",
       "      <td>1</td>\n",
       "    </tr>\n",
       "  </tbody>\n",
       "</table>\n",
       "</div>"
      ],
      "text/plain": [
       "   anomaly_score                        predict_proba  prediction\n",
       "0     -10.353864   [4.592559076229764e-166, 1.0, 0.0]           1\n",
       "1     -10.353864    [1.36527841686267e-165, 1.0, 0.0]           1\n",
       "2     -10.353864    [7.35035621131701e-164, 1.0, 0.0]           1\n",
       "3     -10.353864   [7.070859733925672e-173, 1.0, 0.0]           1\n",
       "4      -7.230650  [1.6012689517045818e-178, 1.0, 0.0]           1"
      ]
     },
     "execution_count": 112,
     "metadata": {},
     "output_type": "execute_result"
    }
   ],
   "source": [
    "# show prediction\n",
    "df = pd.read_csv(pred_file['filename'])\n",
    "df.head()"
   ]
  },
  {
   "cell_type": "code",
   "execution_count": 113,
   "metadata": {},
   "outputs": [
    {
     "name": "stdout",
     "output_type": "stream",
     "text": [
      "{'status': 'Running', 'starttime': '2019-05-04T14:00:18.11042', 'endtime': None, 'percent_complete': 0, 'job_type': 'AnalyzeModel', 'loss': None, 'generations': 0, 'dataset_names': None, 'artifact_names': ['Darwin_analyze_model_artifact-20190504135642'], 'model_name': 'model-20190504135642', 'job_error': ''}\n",
      "{'status': 'Complete', 'starttime': '2019-05-04T14:00:18.11042', 'endtime': '2019-05-04T14:00:22.983206', 'percent_complete': 100, 'job_type': 'AnalyzeModel', 'loss': None, 'generations': 0, 'dataset_names': None, 'artifact_names': ['Darwin_analyze_model_artifact-20190504135642'], 'model_name': 'model-20190504135642', 'job_error': ''}\n"
     ]
    }
   ],
   "source": [
    "#Analyze model to retrieve feature importance \n",
    "#This will let us know which attributes matter the most when classifying players into our three positions\n",
    "status, analyze_id = ds.analyze_model(job_id['model_name'], \n",
    "                                      job_name='Darwin_analyze_model_job-' + TS, \n",
    "                                      artifact_name='Darwin_analyze_model_artifact-' + TS)\n",
    "sleep(1)\n",
    "if status:\n",
    "    ds.wait_for_job('Darwin_analyze_model_job-' + TS)\n",
    "else:\n",
    "    print(analyze_id)"
   ]
  },
  {
   "cell_type": "code",
   "execution_count": 114,
   "metadata": {},
   "outputs": [
    {
     "data": {
      "text/plain": [
       "(True,\n",
       " {'status': 'Complete',\n",
       "  'starttime': '2019-05-04T14:00:18.11042',\n",
       "  'endtime': '2019-05-04T14:00:22.983206',\n",
       "  'percent_complete': 100,\n",
       "  'job_type': 'AnalyzeModel',\n",
       "  'loss': None,\n",
       "  'generations': 0,\n",
       "  'dataset_names': None,\n",
       "  'artifact_names': ['Darwin_analyze_model_artifact-20190504135642'],\n",
       "  'model_name': 'model-20190504135642',\n",
       "  'job_error': ''})"
      ]
     },
     "execution_count": 114,
     "metadata": {},
     "output_type": "execute_result"
    }
   ],
   "source": [
    "#Get job status\n",
    "ds.lookup_job_status_name('Darwin_analyze_model_job-' + TS)"
   ]
  },
  {
   "cell_type": "code",
   "execution_count": 115,
   "metadata": {},
   "outputs": [
    {
     "data": {
      "text/plain": [
       "Pos = PG    0.150547\n",
       "AST         0.121729\n",
       "Pos = PF    0.087533\n",
       "ORB         0.070452\n",
       "Pos = SG    0.060073\n",
       "TRB         0.051475\n",
       "BLK         0.046046\n",
       "_3PA        0.039042\n",
       "Pos = SF    0.030724\n",
       "DRB         0.030480\n",
       "FG_         0.027077\n",
       "TOV         0.023581\n",
       "_3P         0.023414\n",
       "PF          0.016010\n",
       "_2P_        0.014432\n",
       "dtype: float64"
      ]
     },
     "execution_count": 115,
     "metadata": {},
     "output_type": "execute_result"
    }
   ],
   "source": [
    "#Print top 15 features\n",
    "status, feature_importance = ds.download_artifact('Darwin_analyze_model_artifact-' + TS)\n",
    "feature_importance[:15]"
   ]
  },
  {
   "cell_type": "code",
   "execution_count": 116,
   "metadata": {},
   "outputs": [],
   "source": [
    "# Now we are using out prediction dataset (data from the 16/17 season)\n",
    "#Since we can not analyze_predictions on datasets with more than 500 rows, we are only predicting \n",
    "#the 500 players with the most games\n",
    "\n",
    "status, dataset = ds.upload_dataset(os.path.join(PATH_TO_DATASET, PREDICT_DATASET))\n",
    "if not status:\n",
    "    print(dataset)\n",
    "    \n",
    "if status:\n",
    "    dataset_by_row=dataset['dataset_name']\n",
    "else:\n",
    "    print(\"Upload data failed!\")"
   ]
  },
  {
   "cell_type": "code",
   "execution_count": 117,
   "metadata": {},
   "outputs": [
    {
     "name": "stdout",
     "output_type": "stream",
     "text": [
      "{'status': 'Running', 'starttime': '2019-05-04T14:00:50.481528', 'endtime': None, 'percent_complete': 0, 'job_type': 'AnalyzePredictions', 'loss': None, 'generations': 0, 'dataset_names': None, 'artifact_names': ['Analyze_prediction_artifact-20190504135642'], 'model_name': 'model-20190504135642', 'job_error': ''}\n",
      "{'status': 'Running', 'starttime': '2019-05-04T14:00:50.481528', 'endtime': None, 'percent_complete': 0, 'job_type': 'AnalyzePredictions', 'loss': None, 'generations': 0, 'dataset_names': None, 'artifact_names': ['Analyze_prediction_artifact-20190504135642'], 'model_name': 'model-20190504135642', 'job_error': ''}\n",
      "{'status': 'Running', 'starttime': '2019-05-04T14:00:50.481528', 'endtime': None, 'percent_complete': 0, 'job_type': 'AnalyzePredictions', 'loss': None, 'generations': 0, 'dataset_names': None, 'artifact_names': ['Analyze_prediction_artifact-20190504135642'], 'model_name': 'model-20190504135642', 'job_error': ''}\n",
      "{'status': 'Running', 'starttime': '2019-05-04T14:00:50.481528', 'endtime': None, 'percent_complete': 0, 'job_type': 'AnalyzePredictions', 'loss': None, 'generations': 0, 'dataset_names': None, 'artifact_names': ['Analyze_prediction_artifact-20190504135642'], 'model_name': 'model-20190504135642', 'job_error': ''}\n",
      "{'status': 'Running', 'starttime': '2019-05-04T14:00:50.481528', 'endtime': None, 'percent_complete': 0, 'job_type': 'AnalyzePredictions', 'loss': None, 'generations': 0, 'dataset_names': None, 'artifact_names': ['Analyze_prediction_artifact-20190504135642'], 'model_name': 'model-20190504135642', 'job_error': ''}\n",
      "{'status': 'Running', 'starttime': '2019-05-04T14:00:50.481528', 'endtime': None, 'percent_complete': 0, 'job_type': 'AnalyzePredictions', 'loss': None, 'generations': 0, 'dataset_names': None, 'artifact_names': ['Analyze_prediction_artifact-20190504135642'], 'model_name': 'model-20190504135642', 'job_error': ''}\n",
      "{'status': 'Running', 'starttime': '2019-05-04T14:00:50.481528', 'endtime': None, 'percent_complete': 0, 'job_type': 'AnalyzePredictions', 'loss': None, 'generations': 0, 'dataset_names': None, 'artifact_names': ['Analyze_prediction_artifact-20190504135642'], 'model_name': 'model-20190504135642', 'job_error': ''}\n",
      "{'status': 'Running', 'starttime': '2019-05-04T14:00:50.481528', 'endtime': None, 'percent_complete': 0, 'job_type': 'AnalyzePredictions', 'loss': None, 'generations': 0, 'dataset_names': None, 'artifact_names': ['Analyze_prediction_artifact-20190504135642'], 'model_name': 'model-20190504135642', 'job_error': ''}\n",
      "{'status': 'Running', 'starttime': '2019-05-04T14:00:50.481528', 'endtime': None, 'percent_complete': 0, 'job_type': 'AnalyzePredictions', 'loss': None, 'generations': 0, 'dataset_names': None, 'artifact_names': ['Analyze_prediction_artifact-20190504135642'], 'model_name': 'model-20190504135642', 'job_error': ''}\n",
      "{'status': 'Running', 'starttime': '2019-05-04T14:00:50.481528', 'endtime': None, 'percent_complete': 0, 'job_type': 'AnalyzePredictions', 'loss': None, 'generations': 0, 'dataset_names': None, 'artifact_names': ['Analyze_prediction_artifact-20190504135642'], 'model_name': 'model-20190504135642', 'job_error': ''}\n",
      "{'status': 'Running', 'starttime': '2019-05-04T14:00:50.481528', 'endtime': None, 'percent_complete': 0, 'job_type': 'AnalyzePredictions', 'loss': None, 'generations': 0, 'dataset_names': None, 'artifact_names': ['Analyze_prediction_artifact-20190504135642'], 'model_name': 'model-20190504135642', 'job_error': ''}\n",
      "{'status': 'Complete', 'starttime': '2019-05-04T14:00:50.481528', 'endtime': '2019-05-04T14:03:27.984098', 'percent_complete': 100, 'job_type': 'AnalyzePredictions', 'loss': None, 'generations': 0, 'dataset_names': None, 'artifact_names': ['Analyze_prediction_artifact-20190504135642'], 'model_name': 'model-20190504135642', 'job_error': ''}\n"
     ]
    }
   ],
   "source": [
    "#Run analyze predictions\n",
    "status, analyze_id = ds.analyze_predictions(job_id['model_name'], \n",
    "                                            PREDICT_DATASET, \n",
    "                                            job_name='Analyze_prediction_job-' + TS, \n",
    "                                            artifact_name='Analyze_prediction_artifact-' + TS)\n",
    "sleep(1)\n",
    "if status:\n",
    "    ds.wait_for_job('Analyze_prediction_job-' + TS)\n",
    "else:\n",
    "    print(analyze_id)"
   ]
  },
  {
   "cell_type": "code",
   "execution_count": 118,
   "metadata": {},
   "outputs": [
    {
     "data": {
      "text/plain": [
       "(True,\n",
       " {'status': 'Complete',\n",
       "  'starttime': '2019-05-04T14:00:50.481528',\n",
       "  'endtime': '2019-05-04T14:03:27.984098',\n",
       "  'percent_complete': 100,\n",
       "  'job_type': 'AnalyzePredictions',\n",
       "  'loss': None,\n",
       "  'generations': 0,\n",
       "  'dataset_names': None,\n",
       "  'artifact_names': ['Analyze_prediction_artifact-20190504135642'],\n",
       "  'model_name': 'model-20190504135642',\n",
       "  'job_error': ''})"
      ]
     },
     "execution_count": 118,
     "metadata": {},
     "output_type": "execute_result"
    }
   ],
   "source": [
    "#Get job status\n",
    "ds.lookup_job_status_name('Analyze_prediction_job-' + TS)"
   ]
  },
  {
   "cell_type": "code",
   "execution_count": 119,
   "metadata": {},
   "outputs": [
    {
     "data": {
      "text/html": [
       "<div>\n",
       "<style scoped>\n",
       "    .dataframe tbody tr th:only-of-type {\n",
       "        vertical-align: middle;\n",
       "    }\n",
       "\n",
       "    .dataframe tbody tr th {\n",
       "        vertical-align: top;\n",
       "    }\n",
       "\n",
       "    .dataframe thead th {\n",
       "        text-align: right;\n",
       "    }\n",
       "</style>\n",
       "<table border=\"1\" class=\"dataframe\">\n",
       "  <thead>\n",
       "    <tr style=\"text-align: right;\">\n",
       "      <th></th>\n",
       "      <th>Rk_shap</th>\n",
       "      <th>Age_shap</th>\n",
       "      <th>G_shap</th>\n",
       "      <th>GS_shap</th>\n",
       "      <th>MP_shap</th>\n",
       "      <th>FG_shap</th>\n",
       "      <th>FGA_shap</th>\n",
       "      <th>FG__shap</th>\n",
       "      <th>_3P_shap</th>\n",
       "      <th>_3PA_shap</th>\n",
       "      <th>...</th>\n",
       "      <th>Tm = POR_shap</th>\n",
       "      <th>Tm = SAC_shap</th>\n",
       "      <th>Tm = SAS_shap</th>\n",
       "      <th>Tm = TOR_shap</th>\n",
       "      <th>Tm = TOT_shap</th>\n",
       "      <th>Tm = UTA_shap</th>\n",
       "      <th>Tm = WAS_shap</th>\n",
       "      <th>base_value</th>\n",
       "      <th>predicted_proba</th>\n",
       "      <th>predicted_class</th>\n",
       "    </tr>\n",
       "  </thead>\n",
       "  <tbody>\n",
       "    <tr>\n",
       "      <th>0</th>\n",
       "      <td>0.000000</td>\n",
       "      <td>0.000000</td>\n",
       "      <td>0.000000</td>\n",
       "      <td>0.00000</td>\n",
       "      <td>0.000000</td>\n",
       "      <td>0.0</td>\n",
       "      <td>0.0</td>\n",
       "      <td>0.0</td>\n",
       "      <td>0.000000</td>\n",
       "      <td>0.000000</td>\n",
       "      <td>...</td>\n",
       "      <td>0.0</td>\n",
       "      <td>0.0</td>\n",
       "      <td>0.0</td>\n",
       "      <td>0.0</td>\n",
       "      <td>0.0</td>\n",
       "      <td>0.0</td>\n",
       "      <td>0.0</td>\n",
       "      <td>0.0</td>\n",
       "      <td>1.0</td>\n",
       "      <td>1</td>\n",
       "    </tr>\n",
       "    <tr>\n",
       "      <th>1</th>\n",
       "      <td>0.020416</td>\n",
       "      <td>0.021505</td>\n",
       "      <td>-0.063396</td>\n",
       "      <td>-0.04627</td>\n",
       "      <td>-0.038121</td>\n",
       "      <td>0.0</td>\n",
       "      <td>0.0</td>\n",
       "      <td>0.0</td>\n",
       "      <td>0.021175</td>\n",
       "      <td>0.018435</td>\n",
       "      <td>...</td>\n",
       "      <td>0.0</td>\n",
       "      <td>0.0</td>\n",
       "      <td>0.0</td>\n",
       "      <td>0.0</td>\n",
       "      <td>0.0</td>\n",
       "      <td>0.0</td>\n",
       "      <td>0.0</td>\n",
       "      <td>0.0</td>\n",
       "      <td>1.0</td>\n",
       "      <td>1</td>\n",
       "    </tr>\n",
       "    <tr>\n",
       "      <th>2</th>\n",
       "      <td>0.000000</td>\n",
       "      <td>0.000000</td>\n",
       "      <td>0.000000</td>\n",
       "      <td>0.00000</td>\n",
       "      <td>0.000000</td>\n",
       "      <td>0.0</td>\n",
       "      <td>0.0</td>\n",
       "      <td>0.0</td>\n",
       "      <td>0.000000</td>\n",
       "      <td>0.000000</td>\n",
       "      <td>...</td>\n",
       "      <td>0.0</td>\n",
       "      <td>0.0</td>\n",
       "      <td>0.0</td>\n",
       "      <td>0.0</td>\n",
       "      <td>0.0</td>\n",
       "      <td>0.0</td>\n",
       "      <td>0.0</td>\n",
       "      <td>0.0</td>\n",
       "      <td>1.0</td>\n",
       "      <td>1</td>\n",
       "    </tr>\n",
       "    <tr>\n",
       "      <th>3</th>\n",
       "      <td>0.000000</td>\n",
       "      <td>0.000000</td>\n",
       "      <td>0.000000</td>\n",
       "      <td>0.00000</td>\n",
       "      <td>0.000000</td>\n",
       "      <td>0.0</td>\n",
       "      <td>0.0</td>\n",
       "      <td>0.0</td>\n",
       "      <td>0.000000</td>\n",
       "      <td>0.000000</td>\n",
       "      <td>...</td>\n",
       "      <td>0.0</td>\n",
       "      <td>0.0</td>\n",
       "      <td>0.0</td>\n",
       "      <td>0.0</td>\n",
       "      <td>0.0</td>\n",
       "      <td>0.0</td>\n",
       "      <td>0.0</td>\n",
       "      <td>0.0</td>\n",
       "      <td>1.0</td>\n",
       "      <td>1</td>\n",
       "    </tr>\n",
       "    <tr>\n",
       "      <th>4</th>\n",
       "      <td>0.000000</td>\n",
       "      <td>0.000000</td>\n",
       "      <td>0.000000</td>\n",
       "      <td>0.00000</td>\n",
       "      <td>0.000000</td>\n",
       "      <td>0.0</td>\n",
       "      <td>0.0</td>\n",
       "      <td>0.0</td>\n",
       "      <td>0.000000</td>\n",
       "      <td>0.000000</td>\n",
       "      <td>...</td>\n",
       "      <td>0.0</td>\n",
       "      <td>0.0</td>\n",
       "      <td>0.0</td>\n",
       "      <td>0.0</td>\n",
       "      <td>0.0</td>\n",
       "      <td>0.0</td>\n",
       "      <td>0.0</td>\n",
       "      <td>0.0</td>\n",
       "      <td>1.0</td>\n",
       "      <td>1</td>\n",
       "    </tr>\n",
       "  </tbody>\n",
       "</table>\n",
       "<p>5 rows × 66 columns</p>\n",
       "</div>"
      ],
      "text/plain": [
       "    Rk_shap  Age_shap    G_shap  GS_shap   MP_shap  FG_shap  FGA_shap  \\\n",
       "0  0.000000  0.000000  0.000000  0.00000  0.000000      0.0       0.0   \n",
       "1  0.020416  0.021505 -0.063396 -0.04627 -0.038121      0.0       0.0   \n",
       "2  0.000000  0.000000  0.000000  0.00000  0.000000      0.0       0.0   \n",
       "3  0.000000  0.000000  0.000000  0.00000  0.000000      0.0       0.0   \n",
       "4  0.000000  0.000000  0.000000  0.00000  0.000000      0.0       0.0   \n",
       "\n",
       "   FG__shap  _3P_shap  _3PA_shap       ...         Tm = POR_shap  \\\n",
       "0       0.0  0.000000   0.000000       ...                   0.0   \n",
       "1       0.0  0.021175   0.018435       ...                   0.0   \n",
       "2       0.0  0.000000   0.000000       ...                   0.0   \n",
       "3       0.0  0.000000   0.000000       ...                   0.0   \n",
       "4       0.0  0.000000   0.000000       ...                   0.0   \n",
       "\n",
       "   Tm = SAC_shap  Tm = SAS_shap  Tm = TOR_shap  Tm = TOT_shap  Tm = UTA_shap  \\\n",
       "0            0.0            0.0            0.0            0.0            0.0   \n",
       "1            0.0            0.0            0.0            0.0            0.0   \n",
       "2            0.0            0.0            0.0            0.0            0.0   \n",
       "3            0.0            0.0            0.0            0.0            0.0   \n",
       "4            0.0            0.0            0.0            0.0            0.0   \n",
       "\n",
       "   Tm = WAS_shap  base_value  predicted_proba  predicted_class  \n",
       "0            0.0         0.0              1.0                1  \n",
       "1            0.0         0.0              1.0                1  \n",
       "2            0.0         0.0              1.0                1  \n",
       "3            0.0         0.0              1.0                1  \n",
       "4            0.0         0.0              1.0                1  \n",
       "\n",
       "[5 rows x 66 columns]"
      ]
     },
     "execution_count": 119,
     "metadata": {},
     "output_type": "execute_result"
    }
   ],
   "source": [
    "#Print top 15 features\n",
    "status, feature_importance = ds.download_artifact('Analyze_prediction_artifact-' + TS)\n",
    "feature_importance.head()"
   ]
  },
  {
   "cell_type": "code",
   "execution_count": null,
   "metadata": {},
   "outputs": [],
   "source": []
  }
 ],
 "metadata": {
  "anaconda-cloud": {},
  "kernelspec": {
   "display_name": "Python 3",
   "language": "python",
   "name": "python3"
  },
  "language_info": {
   "codemirror_mode": {
    "name": "ipython",
    "version": 3
   },
   "file_extension": ".py",
   "mimetype": "text/x-python",
   "name": "python",
   "nbconvert_exporter": "python",
   "pygments_lexer": "ipython3",
   "version": "3.7.1"
  }
 },
 "nbformat": 4,
 "nbformat_minor": 2
}
