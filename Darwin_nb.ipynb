{
 "cells": [
  {
   "cell_type": "code",
   "execution_count": 18,
   "metadata": {},
   "outputs": [],
   "source": [
    "import warnings\n",
    "warnings.filterwarnings(\"ignore\", message=\"numpy.dtype size changed\")\n",
    "%matplotlib inline\n",
    "import matplotlib.pyplot as plt\n",
    "import pandas as pd\n",
    "from IPython.display import Image\n",
    "from time import sleep\n",
    "import os\n",
    "import numpy as np\n",
    "from sklearn.metrics import classification_report\n",
    "\n",
    "from amb_sdk.sdk import DarwinSdk"
   ]
  },
  {
   "cell_type": "code",
   "execution_count": 19,
   "metadata": {},
   "outputs": [],
   "source": [
    "ds = DarwinSdk()\n",
    "ds.set_url('https://amb-demo-api.sparkcognition.com/v1/')\n",
    "status, msg = ds.auth_login_user('9kimgu@gmail.com','aybe6JW5Nx')\n",
    "if not status:\n",
    "    print(msg)"
   ]
  },
  {
   "cell_type": "code",
   "execution_count": 20,
   "metadata": {
    "scrolled": true
   },
   "outputs": [
    {
     "data": {
      "text/plain": [
       "(True,\n",
       " [{'username': None,\n",
       "   'tier': 1,\n",
       "   'created_at': '2019-03-25T13:13:09.642616',\n",
       "   'client_api_key': 'mVMMMVMmeSQnC2ceDTFQ2GkN5UAEs9cGXFCfWwPfNnhXGN97rMj5FGMAuWDYqgRp',\n",
       "   'parent_id': None,\n",
       "   'expires_on': None,\n",
       "   'email': 'rexprintz@sparkcognition.com'},\n",
       "  {'username': 'idunlap@rocketmail.com',\n",
       "   'tier': 1,\n",
       "   'created_at': '2019-03-26T07:56:24.109304',\n",
       "   'client_api_key': 'mVMMMVMmeSQnC2ceDTFQ2GkN5UAEs9cGXFCfWwPfNnhXGN97rMj5FGMAuWDYqgRp',\n",
       "   'parent_id': 'a5438916-4f29-11e9-8bab-9fb6b3baba2c',\n",
       "   'expires_on': None,\n",
       "   'email': 'idunlap@rocketmail.com'},\n",
       "  {'username': '9kimgu@gmail.com',\n",
       "   'tier': 1,\n",
       "   'created_at': '2019-03-26T07:56:38.529843',\n",
       "   'client_api_key': 'mVMMMVMmeSQnC2ceDTFQ2GkN5UAEs9cGXFCfWwPfNnhXGN97rMj5FGMAuWDYqgRp',\n",
       "   'parent_id': 'a5438916-4f29-11e9-8bab-9fb6b3baba2c',\n",
       "   'expires_on': None,\n",
       "   'email': '9kimgu@gmail.com'},\n",
       "  {'username': 'kevguan555@gmail.com',\n",
       "   'tier': 1,\n",
       "   'created_at': '2019-03-26T07:56:53.313212',\n",
       "   'client_api_key': 'mVMMMVMmeSQnC2ceDTFQ2GkN5UAEs9cGXFCfWwPfNnhXGN97rMj5FGMAuWDYqgRp',\n",
       "   'parent_id': 'a5438916-4f29-11e9-8bab-9fb6b3baba2c',\n",
       "   'expires_on': None,\n",
       "   'email': 'kevguan555@gmail.com'},\n",
       "  {'username': 'snachazel@verizon.net',\n",
       "   'tier': 1,\n",
       "   'created_at': '2019-03-26T07:57:07.771527',\n",
       "   'client_api_key': 'mVMMMVMmeSQnC2ceDTFQ2GkN5UAEs9cGXFCfWwPfNnhXGN97rMj5FGMAuWDYqgRp',\n",
       "   'parent_id': 'a5438916-4f29-11e9-8bab-9fb6b3baba2c',\n",
       "   'expires_on': None,\n",
       "   'email': 'snachazel@verizon.net'}])"
      ]
     },
     "execution_count": 20,
     "metadata": {},
     "output_type": "execute_result"
    }
   ],
   "source": [
    "ds.get_url()\n",
    "ds.lookup_user()"
   ]
  },
  {
   "cell_type": "code",
   "execution_count": 16,
   "metadata": {},
   "outputs": [
    {
     "data": {
      "text/plain": [
       "(True,\n",
       " {'job_name': 'd78037aa064746acb26c3ef827763fdf',\n",
       "  'artifact_name': '7a106bba5db145e5a92edcb1ae74ed33'})"
      ]
     },
     "execution_count": 16,
     "metadata": {},
     "output_type": "execute_result"
    }
   ],
   "source": [
    "ds.upload_dataset('sets/13_14_Season_Stats_Per_100_Posessions.csv', '13_14Season')\n",
    "ds.upload_dataset('sets/14_15_Season_Stats_Per_100_Posessions.csv', '14_15Season')\n",
    "ds.upload_dataset('sets/15_16_Season_Stats_Per_100_Posessions.csv', '15_16Season')\n",
    "ds.upload_dataset('sets/16_17_Season_Stats_Per_100_Posessions.csv', '16_17Season')\n",
    "ds.upload_dataset('sets/17_18_Season_Stats_Per_100_Posessions.csv', '17_18Season')\n",
    "ds.upload_dataset('sets/18_19_Season_Stats_Per_100_Posessions.csv', '18_19Season')\n",
    "\n",
    "ds.analyze_data('18_19Season')\n"
   ]
  },
  {
   "cell_type": "code",
   "execution_count": 17,
   "metadata": {},
   "outputs": [
    {
     "data": {
      "text/plain": [
       "(True,\n",
       " {'job_name': 'fd6ad50930ad4faeb20d72d93e7eb956',\n",
       "  'artifact_name': '195340efbfec406f9c14b537af559b1b'})"
      ]
     },
     "execution_count": 17,
     "metadata": {},
     "output_type": "execute_result"
    }
   ],
   "source": [
    "ds.clean_data('13_14Season')\n",
    "ds.clean_data('14_15Season')\n",
    "ds.clean_data('15_16Season')\n",
    "ds.clean_data('16_17Season')\n",
    "ds.clean_data('17_18Season')\n",
    "ds.clean_data('18_19Season')\n"
   ]
  },
  {
   "cell_type": "code",
   "execution_count": null,
   "metadata": {},
   "outputs": [],
   "source": []
  }
 ],
 "metadata": {
  "kernelspec": {
   "display_name": "Python 3",
   "language": "python",
   "name": "python3"
  },
  "language_info": {
   "codemirror_mode": {
    "name": "ipython",
    "version": 3
   },
   "file_extension": ".py",
   "mimetype": "text/x-python",
   "name": "python",
   "nbconvert_exporter": "python",
   "pygments_lexer": "ipython3",
   "version": "3.7.1"
  }
 },
 "nbformat": 4,
 "nbformat_minor": 2
}
