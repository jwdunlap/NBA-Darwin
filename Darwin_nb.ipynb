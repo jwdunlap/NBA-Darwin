{
 "cells": [
  {
   "cell_type": "code",
   "execution_count": 1,
   "metadata": {},
   "outputs": [],
   "source": [
    "import pandas as pd\n",
    "from amb_sdk.sdk import DarwinSdk"
   ]
  },
  {
   "cell_type": "code",
   "execution_count": 2,
   "metadata": {},
   "outputs": [
    {
     "data": {
      "text/plain": [
       "(True, 'https://amb-demo-api.sparkcognition.com/v1/')"
      ]
     },
     "execution_count": 2,
     "metadata": {},
     "output_type": "execute_result"
    }
   ],
   "source": [
    "ds = DarwinSdk()\n",
    "ds.set_url('https://amb-demo-api.sparkcognition.com/v1/')"
   ]
  },
  {
   "cell_type": "code",
   "execution_count": 3,
   "metadata": {
    "scrolled": true
   },
   "outputs": [],
   "source": [
    "#Set your user id and password accordingly\n",
    "USER='idunlap@rocketmail.com'\n",
    "PW='5uVGHsTHrQ'\n",
    "\n",
    "# Set path to datasets - The default below assumes Jupyter was started from amb-sdk/examples/Enterprise/\n",
    "# Modify accordingly if you wish to use your own data\n",
    "PATH_TO_DATASET='sets/'\n",
    "TRAIN_DATASET='18_19_Season_Stats_Per_100_Possessions_SPP.csv'\n",
    "# A timestamp is used to create a unique name in the event you execute the workflow multiple times or with \n",
    "# different datasets.  File names must be unique in Darwin.\n",
    "import datetime\n",
    "ts = '{:%Y%m%d%H%M%S}'.format(datetime.datetime.now())"
   ]
  },
  {
   "cell_type": "code",
   "execution_count": 4,
   "metadata": {},
   "outputs": [],
   "source": [
    "# Import necessary libraries\n",
    "%matplotlib inline\n",
    "import matplotlib.pyplot as plt\n",
    "import pandas as pd\n",
    "from IPython.display import Image\n",
    "from time import sleep\n",
    "import os\n",
    "import numpy as np\n",
    "from sklearn.metrics import classification_report\n"
   ]
  },
  {
   "cell_type": "code",
   "execution_count": null,
   "metadata": {},
   "outputs": [],
   "source": [
    "status, msg = ds.auth_login_user(USER,PW)\n",
    "if not status:\n",
    "    print(msg)"
   ]
  },
  {
   "cell_type": "code",
   "execution_count": 6,
   "metadata": {},
   "outputs": [
    {
     "data": {
      "text/html": [
       "<div>\n",
       "<style scoped>\n",
       "    .dataframe tbody tr th:only-of-type {\n",
       "        vertical-align: middle;\n",
       "    }\n",
       "\n",
       "    .dataframe tbody tr th {\n",
       "        vertical-align: top;\n",
       "    }\n",
       "\n",
       "    .dataframe thead th {\n",
       "        text-align: right;\n",
       "    }\n",
       "</style>\n",
       "<table border=\"1\" class=\"dataframe\">\n",
       "  <thead>\n",
       "    <tr style=\"text-align: right;\">\n",
       "      <th></th>\n",
       "      <th>Rk</th>\n",
       "      <th>Player</th>\n",
       "      <th>Pos</th>\n",
       "      <th>Age</th>\n",
       "      <th>Tm</th>\n",
       "      <th>G</th>\n",
       "      <th>GS</th>\n",
       "      <th>MP</th>\n",
       "      <th>FG</th>\n",
       "      <th>FGA</th>\n",
       "      <th>...</th>\n",
       "      <th>FT_</th>\n",
       "      <th>ORB</th>\n",
       "      <th>DRB</th>\n",
       "      <th>TRB</th>\n",
       "      <th>AST</th>\n",
       "      <th>STL</th>\n",
       "      <th>BLK</th>\n",
       "      <th>TOV</th>\n",
       "      <th>PF</th>\n",
       "      <th>PTS</th>\n",
       "    </tr>\n",
       "  </thead>\n",
       "  <tbody>\n",
       "    <tr>\n",
       "      <th>0</th>\n",
       "      <td>93</td>\n",
       "      <td>Wendell Carter\\cartewe01</td>\n",
       "      <td>C</td>\n",
       "      <td>19</td>\n",
       "      <td>CHI</td>\n",
       "      <td>44</td>\n",
       "      <td>44</td>\n",
       "      <td>1110</td>\n",
       "      <td>180</td>\n",
       "      <td>371</td>\n",
       "      <td>...</td>\n",
       "      <td>0.795</td>\n",
       "      <td>87</td>\n",
       "      <td>220</td>\n",
       "      <td>307</td>\n",
       "      <td>78</td>\n",
       "      <td>26</td>\n",
       "      <td>58</td>\n",
       "      <td>65</td>\n",
       "      <td>152</td>\n",
       "      <td>455</td>\n",
       "    </tr>\n",
       "    <tr>\n",
       "      <th>1</th>\n",
       "      <td>11</td>\n",
       "      <td>Jarrett Allen\\allenja01</td>\n",
       "      <td>C</td>\n",
       "      <td>20</td>\n",
       "      <td>BRK</td>\n",
       "      <td>79</td>\n",
       "      <td>79</td>\n",
       "      <td>2074</td>\n",
       "      <td>335</td>\n",
       "      <td>564</td>\n",
       "      <td>...</td>\n",
       "      <td>0.710</td>\n",
       "      <td>192</td>\n",
       "      <td>467</td>\n",
       "      <td>659</td>\n",
       "      <td>108</td>\n",
       "      <td>43</td>\n",
       "      <td>118</td>\n",
       "      <td>102</td>\n",
       "      <td>182</td>\n",
       "      <td>872</td>\n",
       "    </tr>\n",
       "    <tr>\n",
       "      <th>2</th>\n",
       "      <td>17</td>\n",
       "      <td>Ike Anigbogu\\anigbik01</td>\n",
       "      <td>C</td>\n",
       "      <td>20</td>\n",
       "      <td>IND</td>\n",
       "      <td>3</td>\n",
       "      <td>0</td>\n",
       "      <td>6</td>\n",
       "      <td>0</td>\n",
       "      <td>3</td>\n",
       "      <td>...</td>\n",
       "      <td>NaN</td>\n",
       "      <td>1</td>\n",
       "      <td>2</td>\n",
       "      <td>3</td>\n",
       "      <td>1</td>\n",
       "      <td>0</td>\n",
       "      <td>1</td>\n",
       "      <td>1</td>\n",
       "      <td>0</td>\n",
       "      <td>0</td>\n",
       "    </tr>\n",
       "    <tr>\n",
       "      <th>3</th>\n",
       "      <td>25</td>\n",
       "      <td>Deandre Ayton\\aytonde01</td>\n",
       "      <td>C</td>\n",
       "      <td>20</td>\n",
       "      <td>PHO</td>\n",
       "      <td>71</td>\n",
       "      <td>70</td>\n",
       "      <td>2183</td>\n",
       "      <td>509</td>\n",
       "      <td>870</td>\n",
       "      <td>...</td>\n",
       "      <td>0.746</td>\n",
       "      <td>223</td>\n",
       "      <td>506</td>\n",
       "      <td>729</td>\n",
       "      <td>125</td>\n",
       "      <td>61</td>\n",
       "      <td>67</td>\n",
       "      <td>126</td>\n",
       "      <td>209</td>\n",
       "      <td>1159</td>\n",
       "    </tr>\n",
       "    <tr>\n",
       "      <th>4</th>\n",
       "      <td>31</td>\n",
       "      <td>Mohamed Bamba\\bambamo01</td>\n",
       "      <td>C</td>\n",
       "      <td>20</td>\n",
       "      <td>ORL</td>\n",
       "      <td>47</td>\n",
       "      <td>1</td>\n",
       "      <td>766</td>\n",
       "      <td>117</td>\n",
       "      <td>243</td>\n",
       "      <td>...</td>\n",
       "      <td>0.587</td>\n",
       "      <td>64</td>\n",
       "      <td>169</td>\n",
       "      <td>233</td>\n",
       "      <td>39</td>\n",
       "      <td>13</td>\n",
       "      <td>64</td>\n",
       "      <td>43</td>\n",
       "      <td>102</td>\n",
       "      <td>292</td>\n",
       "    </tr>\n",
       "  </tbody>\n",
       "</table>\n",
       "<p>5 rows × 30 columns</p>\n",
       "</div>"
      ],
      "text/plain": [
       "   Rk                    Player Pos  Age   Tm   G  GS    MP   FG  FGA  ...   \\\n",
       "0  93  Wendell Carter\\cartewe01   C   19  CHI  44  44  1110  180  371  ...    \n",
       "1  11   Jarrett Allen\\allenja01   C   20  BRK  79  79  2074  335  564  ...    \n",
       "2  17    Ike Anigbogu\\anigbik01   C   20  IND   3   0     6    0    3  ...    \n",
       "3  25   Deandre Ayton\\aytonde01   C   20  PHO  71  70  2183  509  870  ...    \n",
       "4  31   Mohamed Bamba\\bambamo01   C   20  ORL  47   1   766  117  243  ...    \n",
       "\n",
       "     FT_  ORB  DRB  TRB  AST  STL  BLK  TOV   PF   PTS  \n",
       "0  0.795   87  220  307   78   26   58   65  152   455  \n",
       "1  0.710  192  467  659  108   43  118  102  182   872  \n",
       "2    NaN    1    2    3    1    0    1    1    0     0  \n",
       "3  0.746  223  506  729  125   61   67  126  209  1159  \n",
       "4  0.587   64  169  233   39   13   64   43  102   292  \n",
       "\n",
       "[5 rows x 30 columns]"
      ]
     },
     "execution_count": 6,
     "metadata": {},
     "output_type": "execute_result"
    }
   ],
   "source": [
    "# Preview dataset\n",
    "df = pd.read_csv(os.path.join(PATH_TO_DATASET, TRAIN_DATASET))\n",
    "df.head()"
   ]
  },
  {
   "cell_type": "code",
   "execution_count": 7,
   "metadata": {},
   "outputs": [],
   "source": [
    "# Upload dataset\n",
    "status, dataset = ds.upload_dataset(os.path.join(PATH_TO_DATASET, TRAIN_DATASET))\n",
    "if not status:\n",
    "    print(dataset)"
   ]
  },
  {
   "cell_type": "code",
   "execution_count": 8,
   "metadata": {},
   "outputs": [
    {
     "name": "stdout",
     "output_type": "stream",
     "text": [
      "{'status': 'Requested', 'starttime': '2019-04-17T20:53:38.381112', 'endtime': None, 'percent_complete': 0, 'job_type': 'CleanDataTiny', 'loss': None, 'generations': None, 'dataset_names': ['18_19_Season_Stats_Per_100_Possessions_SPP.csv'], 'artifact_names': ['f828a1f6cd61486288bcea8157a2c44b'], 'model_name': None, 'job_error': None}\n",
      "{'status': 'Complete', 'starttime': '2019-04-17T20:53:38.381112', 'endtime': '2019-04-17T20:53:41.053062', 'percent_complete': 100, 'job_type': 'CleanDataTiny', 'loss': None, 'generations': None, 'dataset_names': ['18_19_Season_Stats_Per_100_Possessions_SPP.csv'], 'artifact_names': ['f828a1f6cd61486288bcea8157a2c44b'], 'model_name': None, 'job_error': ''}\n"
     ]
    }
   ],
   "source": [
    "# clean dataset\n",
    "target = \"Pos\"\n",
    "status, job_id = ds.clean_data(TRAIN_DATASET, target = target)\n",
    "\n",
    "if status:\n",
    "    ds.wait_for_job(job_id['job_name'])\n",
    "else:\n",
    "    print(job_id)"
   ]
  },
  {
   "cell_type": "code",
   "execution_count": 9,
   "metadata": {},
   "outputs": [
    {
     "name": "stdout",
     "output_type": "stream",
     "text": [
      "{'status': 'Taken', 'starttime': '2019-04-17T20:53:54.597115', 'endtime': None, 'percent_complete': 0, 'job_type': 'TrainModel', 'loss': None, 'generations': 0, 'dataset_names': ['18_19_Season_Stats_Per_100_Possessions_SPP.csv'], 'artifact_names': None, 'model_name': 'Pos_model020190417205336', 'job_error': None}\n",
      "{'status': 'Running', 'starttime': '2019-04-17T20:53:54.597115', 'endtime': None, 'percent_complete': 5, 'job_type': 'TrainModel', 'loss': 1.3905984163284302, 'generations': 5, 'dataset_names': ['18_19_Season_Stats_Per_100_Possessions_SPP.csv'], 'artifact_names': None, 'model_name': 'Pos_model020190417205336', 'job_error': ''}\n",
      "{'status': 'Running', 'starttime': '2019-04-17T20:53:54.597115', 'endtime': None, 'percent_complete': 5, 'job_type': 'TrainModel', 'loss': 1.3905984163284302, 'generations': 5, 'dataset_names': ['18_19_Season_Stats_Per_100_Possessions_SPP.csv'], 'artifact_names': None, 'model_name': 'Pos_model020190417205336', 'job_error': ''}\n",
      "{'status': 'Running', 'starttime': '2019-04-17T20:53:54.597115', 'endtime': None, 'percent_complete': 5, 'job_type': 'TrainModel', 'loss': 1.3905984163284302, 'generations': 5, 'dataset_names': ['18_19_Season_Stats_Per_100_Possessions_SPP.csv'], 'artifact_names': None, 'model_name': 'Pos_model020190417205336', 'job_error': ''}\n",
      "{'status': 'Running', 'starttime': '2019-04-17T20:53:54.597115', 'endtime': None, 'percent_complete': 5, 'job_type': 'TrainModel', 'loss': 1.3905984163284302, 'generations': 5, 'dataset_names': ['18_19_Season_Stats_Per_100_Possessions_SPP.csv'], 'artifact_names': None, 'model_name': 'Pos_model020190417205336', 'job_error': ''}\n",
      "{'status': 'Running', 'starttime': '2019-04-17T20:53:54.597115', 'endtime': None, 'percent_complete': 25, 'job_type': 'TrainModel', 'loss': 1.039549708366394, 'generations': 5, 'dataset_names': ['18_19_Season_Stats_Per_100_Possessions_SPP.csv'], 'artifact_names': None, 'model_name': 'Pos_model020190417205336', 'job_error': ''}\n",
      "{'status': 'Running', 'starttime': '2019-04-17T20:53:54.597115', 'endtime': None, 'percent_complete': 40, 'job_type': 'TrainModel', 'loss': 1.0216610431671143, 'generations': 5, 'dataset_names': ['18_19_Season_Stats_Per_100_Possessions_SPP.csv'], 'artifact_names': None, 'model_name': 'Pos_model020190417205336', 'job_error': ''}\n",
      "{'status': 'Running', 'starttime': '2019-04-17T20:53:54.597115', 'endtime': None, 'percent_complete': 57, 'job_type': 'TrainModel', 'loss': 1.0216610431671143, 'generations': 5, 'dataset_names': ['18_19_Season_Stats_Per_100_Possessions_SPP.csv'], 'artifact_names': None, 'model_name': 'Pos_model020190417205336', 'job_error': ''}\n",
      "{'status': 'Complete', 'starttime': '2019-04-17T20:53:54.597115', 'endtime': '2019-04-17T20:55:54.028184', 'percent_complete': 100, 'job_type': 'TrainModel', 'loss': 1.0216610431671143, 'generations': 5, 'dataset_names': ['18_19_Season_Stats_Per_100_Possessions_SPP.csv'], 'artifact_names': None, 'model_name': 'Pos_model020190417205336', 'job_error': ''}\n"
     ]
    }
   ],
   "source": [
    "model = target + \"_model0\" + ts\n",
    "status, job_id = ds.create_model(dataset_names = TRAIN_DATASET, \\\n",
    "                                 model_name =  model, \\\n",
    "                                 max_train_time = '00:02')\n",
    "if status:\n",
    "    ds.wait_for_job(job_id['job_name'])\n",
    "else:\n",
    "    print(job_id)"
   ]
  },
  {
   "cell_type": "code",
   "execution_count": null,
   "metadata": {},
   "outputs": [],
   "source": [
    "# Retrieve feature importance of built model\n",
    "status, artifact = ds.analyze_model(model)\n",
    "sleep(1)\n",
    "if status:\n",
    "    ds.wait_for_job(artifact['job_name'])\n",
    "else:\n",
    "    print(artifact)\n",
    "status, feature_importance = ds.download_artifact(artifact['artifact_name'])"
   ]
  },
  {
   "cell_type": "code",
   "execution_count": null,
   "metadata": {},
   "outputs": [],
   "source": [
    "feature_importance[:10]"
   ]
  },
  {
   "cell_type": "code",
   "execution_count": null,
   "metadata": {},
   "outputs": [],
   "source": []
  }
 ],
 "metadata": {
  "kernelspec": {
   "display_name": "Python 3",
   "language": "python",
   "name": "python3"
  },
  "language_info": {
   "codemirror_mode": {
    "name": "ipython",
    "version": 3
   },
   "file_extension": ".py",
   "mimetype": "text/x-python",
   "name": "python",
   "nbconvert_exporter": "python",
   "pygments_lexer": "ipython3",
   "version": "3.7.1"
  }
 },
 "nbformat": 4,
 "nbformat_minor": 2
}
