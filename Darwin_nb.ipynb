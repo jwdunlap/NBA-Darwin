{
 "cells": [
  {
   "cell_type": "code",
   "execution_count": 1,
   "metadata": {},
   "outputs": [],
   "source": [
    "import pandas as pd\n",
    "from amb_sdk.sdk import DarwinSdk"
   ]
  },
  {
   "cell_type": "code",
   "execution_count": 2,
   "metadata": {},
   "outputs": [
    {
     "data": {
      "text/plain": [
       "(True, 'https://amb-demo-api.sparkcognition.com/v1/')"
      ]
     },
     "execution_count": 2,
     "metadata": {},
     "output_type": "execute_result"
    }
   ],
   "source": [
    "ds = DarwinSdk()\n",
    "ds.set_url('https://amb-demo-api.sparkcognition.com/v1/')"
   ]
  },
  {
   "cell_type": "code",
   "execution_count": 3,
   "metadata": {
    "scrolled": true
   },
   "outputs": [],
   "source": [
    "#Set your user id and password accordingly\n",
    "USER='idunlap@rocketmail.com'\n",
    "PW='5uVGHsTHrQ'\n",
    "\n",
    "# Set path to datasets - The default below assumes Jupyter was started from amb-sdk/examples/Enterprise/\n",
    "# Modify accordingly if you wish to use your own data\n",
    "PATH_TO_DATASET='sets/'\n",
    "TRAIN_DATASET='17_18_Season_Stats_Per_100_Possessions_SPP.csv'\n",
    "TEST_DATASET= '16_17_Season_Stats_Per_100_Possessions_SPP.csv'\n",
    "# A timestamp is used to create a unique name in the event you execute the workflow multiple times or with \n",
    "# different datasets.  File names must be unique in Darwin.\n",
    "import datetime\n",
    "ts = '{:%Y%m%d%H%M%S}'.format(datetime.datetime.now())"
   ]
  },
  {
   "cell_type": "code",
   "execution_count": 4,
   "metadata": {},
   "outputs": [],
   "source": [
    "# Import necessary libraries\n",
    "%matplotlib inline\n",
    "import matplotlib.pyplot as plt\n",
    "import pandas as pd\n",
    "from IPython.display import Image\n",
    "from time import sleep\n",
    "import os\n",
    "import numpy as np\n",
    "from sklearn.metrics import classification_report\n"
   ]
  },
  {
   "cell_type": "code",
   "execution_count": 5,
   "metadata": {},
   "outputs": [],
   "source": [
    "status, msg = ds.auth_login_user(USER,PW)\n",
    "if not status:\n",
    "    print(msg)"
   ]
  },
  {
   "cell_type": "code",
   "execution_count": 6,
   "metadata": {},
   "outputs": [
    {
     "data": {
      "text/html": [
       "<div>\n",
       "<style scoped>\n",
       "    .dataframe tbody tr th:only-of-type {\n",
       "        vertical-align: middle;\n",
       "    }\n",
       "\n",
       "    .dataframe tbody tr th {\n",
       "        vertical-align: top;\n",
       "    }\n",
       "\n",
       "    .dataframe thead th {\n",
       "        text-align: right;\n",
       "    }\n",
       "</style>\n",
       "<table border=\"1\" class=\"dataframe\">\n",
       "  <thead>\n",
       "    <tr style=\"text-align: right;\">\n",
       "      <th></th>\n",
       "      <th>Rk</th>\n",
       "      <th>Player</th>\n",
       "      <th>Pos</th>\n",
       "      <th>Age</th>\n",
       "      <th>Tm</th>\n",
       "      <th>G</th>\n",
       "      <th>GS</th>\n",
       "      <th>MP</th>\n",
       "      <th>FG</th>\n",
       "      <th>FGA</th>\n",
       "      <th>...</th>\n",
       "      <th>TRB</th>\n",
       "      <th>AST</th>\n",
       "      <th>STL</th>\n",
       "      <th>BLK</th>\n",
       "      <th>TOV</th>\n",
       "      <th>PF</th>\n",
       "      <th>PTS</th>\n",
       "      <th>string_field_29</th>\n",
       "      <th>ORtg</th>\n",
       "      <th>DRtg</th>\n",
       "    </tr>\n",
       "  </thead>\n",
       "  <tbody>\n",
       "    <tr>\n",
       "      <th>0</th>\n",
       "      <td>8</td>\n",
       "      <td>Jarrett Allen\\allenja01</td>\n",
       "      <td>C</td>\n",
       "      <td>19</td>\n",
       "      <td>BRK</td>\n",
       "      <td>72</td>\n",
       "      <td>31</td>\n",
       "      <td>1441</td>\n",
       "      <td>7.9</td>\n",
       "      <td>13.4</td>\n",
       "      <td>...</td>\n",
       "      <td>13.1</td>\n",
       "      <td>1.7</td>\n",
       "      <td>0.9</td>\n",
       "      <td>3.0</td>\n",
       "      <td>2.8</td>\n",
       "      <td>5.0</td>\n",
       "      <td>19.8</td>\n",
       "      <td>NaN</td>\n",
       "      <td>119.0</td>\n",
       "      <td>108</td>\n",
       "    </tr>\n",
       "    <tr>\n",
       "      <th>1</th>\n",
       "      <td>15</td>\n",
       "      <td>Ike Anigbogu\\anigbik01</td>\n",
       "      <td>C</td>\n",
       "      <td>19</td>\n",
       "      <td>IND</td>\n",
       "      <td>11</td>\n",
       "      <td>0</td>\n",
       "      <td>30</td>\n",
       "      <td>6.7</td>\n",
       "      <td>15.0</td>\n",
       "      <td>...</td>\n",
       "      <td>15.0</td>\n",
       "      <td>0.0</td>\n",
       "      <td>1.7</td>\n",
       "      <td>5.0</td>\n",
       "      <td>3.3</td>\n",
       "      <td>1.7</td>\n",
       "      <td>21.7</td>\n",
       "      <td>NaN</td>\n",
       "      <td>114.0</td>\n",
       "      <td>104</td>\n",
       "    </tr>\n",
       "    <tr>\n",
       "      <th>2</th>\n",
       "      <td>4</td>\n",
       "      <td>Bam Adebayo\\adebaba01</td>\n",
       "      <td>C</td>\n",
       "      <td>20</td>\n",
       "      <td>MIA</td>\n",
       "      <td>69</td>\n",
       "      <td>19</td>\n",
       "      <td>1368</td>\n",
       "      <td>6.4</td>\n",
       "      <td>12.5</td>\n",
       "      <td>...</td>\n",
       "      <td>14.0</td>\n",
       "      <td>3.7</td>\n",
       "      <td>1.2</td>\n",
       "      <td>1.5</td>\n",
       "      <td>2.4</td>\n",
       "      <td>5.1</td>\n",
       "      <td>17.5</td>\n",
       "      <td>NaN</td>\n",
       "      <td>116.0</td>\n",
       "      <td>105</td>\n",
       "    </tr>\n",
       "    <tr>\n",
       "      <th>3</th>\n",
       "      <td>62</td>\n",
       "      <td>Tony Bradley\\bradlto01</td>\n",
       "      <td>C</td>\n",
       "      <td>20</td>\n",
       "      <td>UTA</td>\n",
       "      <td>9</td>\n",
       "      <td>0</td>\n",
       "      <td>29</td>\n",
       "      <td>5.2</td>\n",
       "      <td>19.0</td>\n",
       "      <td>...</td>\n",
       "      <td>19.0</td>\n",
       "      <td>1.7</td>\n",
       "      <td>0.0</td>\n",
       "      <td>0.0</td>\n",
       "      <td>0.0</td>\n",
       "      <td>1.7</td>\n",
       "      <td>13.8</td>\n",
       "      <td>NaN</td>\n",
       "      <td>95.0</td>\n",
       "      <td>107</td>\n",
       "    </tr>\n",
       "    <tr>\n",
       "      <th>4</th>\n",
       "      <td>75</td>\n",
       "      <td>Thomas Bryant\\bryanth01</td>\n",
       "      <td>C</td>\n",
       "      <td>20</td>\n",
       "      <td>LAL</td>\n",
       "      <td>15</td>\n",
       "      <td>0</td>\n",
       "      <td>72</td>\n",
       "      <td>5.3</td>\n",
       "      <td>14.0</td>\n",
       "      <td>...</td>\n",
       "      <td>11.3</td>\n",
       "      <td>4.0</td>\n",
       "      <td>0.7</td>\n",
       "      <td>1.3</td>\n",
       "      <td>1.3</td>\n",
       "      <td>4.0</td>\n",
       "      <td>14.6</td>\n",
       "      <td>NaN</td>\n",
       "      <td>100.0</td>\n",
       "      <td>108</td>\n",
       "    </tr>\n",
       "  </tbody>\n",
       "</table>\n",
       "<p>5 rows × 32 columns</p>\n",
       "</div>"
      ],
      "text/plain": [
       "   Rk                   Player Pos  Age   Tm   G  GS    MP   FG   FGA  ...   \\\n",
       "0   8  Jarrett Allen\\allenja01   C   19  BRK  72  31  1441  7.9  13.4  ...    \n",
       "1  15   Ike Anigbogu\\anigbik01   C   19  IND  11   0    30  6.7  15.0  ...    \n",
       "2   4    Bam Adebayo\\adebaba01   C   20  MIA  69  19  1368  6.4  12.5  ...    \n",
       "3  62   Tony Bradley\\bradlto01   C   20  UTA   9   0    29  5.2  19.0  ...    \n",
       "4  75  Thomas Bryant\\bryanth01   C   20  LAL  15   0    72  5.3  14.0  ...    \n",
       "\n",
       "    TRB  AST  STL  BLK  TOV   PF   PTS  string_field_29   ORtg  DRtg  \n",
       "0  13.1  1.7  0.9  3.0  2.8  5.0  19.8              NaN  119.0   108  \n",
       "1  15.0  0.0  1.7  5.0  3.3  1.7  21.7              NaN  114.0   104  \n",
       "2  14.0  3.7  1.2  1.5  2.4  5.1  17.5              NaN  116.0   105  \n",
       "3  19.0  1.7  0.0  0.0  0.0  1.7  13.8              NaN   95.0   107  \n",
       "4  11.3  4.0  0.7  1.3  1.3  4.0  14.6              NaN  100.0   108  \n",
       "\n",
       "[5 rows x 32 columns]"
      ]
     },
     "execution_count": 6,
     "metadata": {},
     "output_type": "execute_result"
    }
   ],
   "source": [
    "# Preview dataset\n",
    "df = pd.read_csv(os.path.join(PATH_TO_DATASET, TRAIN_DATASET))\n",
    "df.head()"
   ]
  },
  {
   "cell_type": "code",
   "execution_count": 7,
   "metadata": {},
   "outputs": [
    {
     "name": "stdout",
     "output_type": "stream",
     "text": [
      "400: BAD REQUEST - {\"message\": \"Dataset already exists\"}\n",
      "\n"
     ]
    }
   ],
   "source": [
    "# Upload dataset\n",
    "status, dataset = ds.upload_dataset(os.path.join(PATH_TO_DATASET, TRAIN_DATASET))\n",
    "if not status:\n",
    "    print(dataset)"
   ]
  },
  {
   "cell_type": "code",
   "execution_count": 8,
   "metadata": {},
   "outputs": [
    {
     "name": "stdout",
     "output_type": "stream",
     "text": [
      "{'status': 'Requested', 'starttime': '2019-04-17T21:33:07.579683', 'endtime': None, 'percent_complete': 0, 'job_type': 'CleanDataTiny', 'loss': None, 'generations': None, 'dataset_names': ['17_18_Season_Stats_Per_100_Possessions_SPP.csv'], 'artifact_names': ['8e19d720cb704a02b86858df6cb0e129'], 'model_name': None, 'job_error': None}\n",
      "{'status': 'Complete', 'starttime': '2019-04-17T21:33:07.579683', 'endtime': '2019-04-17T21:33:11.096072', 'percent_complete': 100, 'job_type': 'CleanDataTiny', 'loss': None, 'generations': None, 'dataset_names': ['17_18_Season_Stats_Per_100_Possessions_SPP.csv'], 'artifact_names': ['8e19d720cb704a02b86858df6cb0e129'], 'model_name': None, 'job_error': ''}\n"
     ]
    }
   ],
   "source": [
    "# clean dataset\n",
    "target = \"Pos\"\n",
    "status, job_id = ds.clean_data(TRAIN_DATASET, target = target)\n",
    "\n",
    "if status:\n",
    "    ds.wait_for_job(job_id['job_name'])\n",
    "else:\n",
    "    print(job_id)"
   ]
  },
  {
   "cell_type": "code",
   "execution_count": 9,
   "metadata": {},
   "outputs": [
    {
     "name": "stdout",
     "output_type": "stream",
     "text": [
      "{'status': 'Requested', 'starttime': '2019-04-17T21:33:23.790315', 'endtime': None, 'percent_complete': 0, 'job_type': 'TrainModel', 'loss': None, 'generations': 0, 'dataset_names': ['17_18_Season_Stats_Per_100_Possessions_SPP.csv'], 'artifact_names': None, 'model_name': 'Pos_model020190417213306', 'job_error': None}\n",
      "{'status': 'Running', 'starttime': '2019-04-17T21:33:23.790315', 'endtime': None, 'percent_complete': 4, 'job_type': 'TrainModel', 'loss': 1.3441369533538818, 'generations': 5, 'dataset_names': ['17_18_Season_Stats_Per_100_Possessions_SPP.csv'], 'artifact_names': None, 'model_name': 'Pos_model020190417213306', 'job_error': ''}\n",
      "{'status': 'Running', 'starttime': '2019-04-17T21:33:23.790315', 'endtime': None, 'percent_complete': 16, 'job_type': 'TrainModel', 'loss': 1.3441369533538818, 'generations': 5, 'dataset_names': ['17_18_Season_Stats_Per_100_Possessions_SPP.csv'], 'artifact_names': None, 'model_name': 'Pos_model020190417213306', 'job_error': ''}\n",
      "{'status': 'Running', 'starttime': '2019-04-17T21:33:23.790315', 'endtime': None, 'percent_complete': 25, 'job_type': 'TrainModel', 'loss': 1.3441369533538818, 'generations': 5, 'dataset_names': ['17_18_Season_Stats_Per_100_Possessions_SPP.csv'], 'artifact_names': None, 'model_name': 'Pos_model020190417213306', 'job_error': ''}\n",
      "{'status': 'Running', 'starttime': '2019-04-17T21:33:23.790315', 'endtime': None, 'percent_complete': 33, 'job_type': 'TrainModel', 'loss': 1.3441369533538818, 'generations': 5, 'dataset_names': ['17_18_Season_Stats_Per_100_Possessions_SPP.csv'], 'artifact_names': None, 'model_name': 'Pos_model020190417213306', 'job_error': ''}\n",
      "{'status': 'Running', 'starttime': '2019-04-17T21:33:23.790315', 'endtime': None, 'percent_complete': 50, 'job_type': 'TrainModel', 'loss': 1.3441369533538818, 'generations': 5, 'dataset_names': ['17_18_Season_Stats_Per_100_Possessions_SPP.csv'], 'artifact_names': None, 'model_name': 'Pos_model020190417213306', 'job_error': ''}\n",
      "{'status': 'Running', 'starttime': '2019-04-17T21:33:23.790315', 'endtime': None, 'percent_complete': 60, 'job_type': 'TrainModel', 'loss': 1.3441369533538818, 'generations': 5, 'dataset_names': ['17_18_Season_Stats_Per_100_Possessions_SPP.csv'], 'artifact_names': None, 'model_name': 'Pos_model020190417213306', 'job_error': ''}\n",
      "{'status': 'Running', 'starttime': '2019-04-17T21:33:23.790315', 'endtime': None, 'percent_complete': 63, 'job_type': 'TrainModel', 'loss': 1.3441369533538818, 'generations': 6, 'dataset_names': ['17_18_Season_Stats_Per_100_Possessions_SPP.csv'], 'artifact_names': None, 'model_name': 'Pos_model020190417213306', 'job_error': ''}\n",
      "{'status': 'Running', 'starttime': '2019-04-17T21:33:23.790315', 'endtime': None, 'percent_complete': 80, 'job_type': 'TrainModel', 'loss': 1.3441369533538818, 'generations': 7, 'dataset_names': ['17_18_Season_Stats_Per_100_Possessions_SPP.csv'], 'artifact_names': None, 'model_name': 'Pos_model020190417213306', 'job_error': ''}\n",
      "{'status': 'Complete', 'starttime': '2019-04-17T21:33:23.790315', 'endtime': '2019-04-17T21:35:29.672598', 'percent_complete': 100, 'job_type': 'TrainModel', 'loss': 1.3441369533538818, 'generations': 7, 'dataset_names': ['17_18_Season_Stats_Per_100_Possessions_SPP.csv'], 'artifact_names': None, 'model_name': 'Pos_model020190417213306', 'job_error': ''}\n"
     ]
    }
   ],
   "source": [
    "model = target + \"_model0\" + ts\n",
    "status, job_id = ds.create_model(dataset_names = TRAIN_DATASET, \\\n",
    "                                 model_name =  model, \\\n",
    "                                 max_train_time = '00:02')\n",
    "if status:\n",
    "    ds.wait_for_job(job_id['job_name'])\n",
    "else:\n",
    "    print(job_id)"
   ]
  },
  {
   "cell_type": "code",
   "execution_count": 10,
   "metadata": {},
   "outputs": [
    {
     "name": "stdout",
     "output_type": "stream",
     "text": [
      "{'status': 'Running', 'starttime': '2019-04-17T21:35:40.463025', 'endtime': None, 'percent_complete': 0, 'job_type': 'AnalyzeModel', 'loss': 1.3441369533538818, 'generations': 7, 'dataset_names': None, 'artifact_names': ['bd6ccf8e044e400f9d86f51507dc0d9b'], 'model_name': 'Pos_model020190417213306', 'job_error': ''}\n",
      "{'status': 'Complete', 'starttime': '2019-04-17T21:35:40.463025', 'endtime': '2019-04-17T21:35:42.158936', 'percent_complete': 100, 'job_type': 'AnalyzeModel', 'loss': 1.3441369533538818, 'generations': 7, 'dataset_names': None, 'artifact_names': ['bd6ccf8e044e400f9d86f51507dc0d9b'], 'model_name': 'Pos_model020190417213306', 'job_error': ''}\n"
     ]
    }
   ],
   "source": [
    "# Retrieve feature importance of built model\n",
    "status, artifact = ds.analyze_model(model)\n",
    "sleep(1)\n",
    "if status:\n",
    "    ds.wait_for_job(artifact['job_name'])\n",
    "else:\n",
    "    print(artifact)\n",
    "status, feature_importance = ds.download_artifact(artifact['artifact_name'])"
   ]
  },
  {
   "cell_type": "code",
   "execution_count": 11,
   "metadata": {},
   "outputs": [
    {
     "data": {
      "text/plain": [
       "AST     0.097175\n",
       "TRB     0.093026\n",
       "ORB     0.085357\n",
       "_3PA    0.071663\n",
       "DRB     0.070617\n",
       "FG_     0.041528\n",
       "TOV     0.035923\n",
       "DRtg    0.030842\n",
       "_3P     0.030119\n",
       "BLK     0.029776\n",
       "dtype: float64"
      ]
     },
     "execution_count": 11,
     "metadata": {},
     "output_type": "execute_result"
    }
   ],
   "source": [
    "feature_importance[:10]"
   ]
  },
  {
   "cell_type": "code",
   "execution_count": 12,
   "metadata": {},
   "outputs": [
    {
     "name": "stdout",
     "output_type": "stream",
     "text": [
      "{'status': 'Requested', 'starttime': '2019-04-17T21:35:58.145565', 'endtime': None, 'percent_complete': 0, 'job_type': 'RunModel', 'loss': 1.3441369533538818, 'generations': 7, 'dataset_names': ['17_18_Season_Stats_Per_100_Possessions_SPP.csv'], 'artifact_names': ['75866451007d40dab680cc2d3f1f1f31'], 'model_name': 'Pos_model020190417213306', 'job_error': None}\n",
      "{'status': 'Complete', 'starttime': '2019-04-17T21:35:58.145565', 'endtime': '2019-04-17T21:36:06.328416', 'percent_complete': 100, 'job_type': 'RunModel', 'loss': 1.3441369533538818, 'generations': 7, 'dataset_names': ['17_18_Season_Stats_Per_100_Possessions_SPP.csv'], 'artifact_names': ['75866451007d40dab680cc2d3f1f1f31'], 'model_name': 'Pos_model020190417213306', 'job_error': ''}\n"
     ]
    },
    {
     "data": {
      "text/plain": [
       "(True, 'Job completed')"
      ]
     },
     "execution_count": 12,
     "metadata": {},
     "output_type": "execute_result"
    }
   ],
   "source": [
    "status, artifact = ds.run_model(TRAIN_DATASET, model)\n",
    "sleep(1)\n",
    "ds.wait_for_job(artifact['job_name'])"
   ]
  },
  {
   "cell_type": "code",
   "execution_count": 13,
   "metadata": {},
   "outputs": [
    {
     "data": {
      "text/html": [
       "<div>\n",
       "<style scoped>\n",
       "    .dataframe tbody tr th:only-of-type {\n",
       "        vertical-align: middle;\n",
       "    }\n",
       "\n",
       "    .dataframe tbody tr th {\n",
       "        vertical-align: top;\n",
       "    }\n",
       "\n",
       "    .dataframe thead th {\n",
       "        text-align: right;\n",
       "    }\n",
       "</style>\n",
       "<table border=\"1\" class=\"dataframe\">\n",
       "  <thead>\n",
       "    <tr style=\"text-align: right;\">\n",
       "      <th></th>\n",
       "      <th>Pos</th>\n",
       "      <th>prob_C</th>\n",
       "      <th>prob_PF</th>\n",
       "      <th>prob_PG</th>\n",
       "      <th>prob_SF</th>\n",
       "      <th>prob_SG</th>\n",
       "    </tr>\n",
       "  </thead>\n",
       "  <tbody>\n",
       "    <tr>\n",
       "      <th>0</th>\n",
       "      <td>C</td>\n",
       "      <td>0.760297</td>\n",
       "      <td>0.223155</td>\n",
       "      <td>0.003105</td>\n",
       "      <td>0.008730</td>\n",
       "      <td>0.004714</td>\n",
       "    </tr>\n",
       "    <tr>\n",
       "      <th>1</th>\n",
       "      <td>C</td>\n",
       "      <td>0.619699</td>\n",
       "      <td>0.284558</td>\n",
       "      <td>0.028857</td>\n",
       "      <td>0.041188</td>\n",
       "      <td>0.025698</td>\n",
       "    </tr>\n",
       "    <tr>\n",
       "      <th>2</th>\n",
       "      <td>C</td>\n",
       "      <td>0.888685</td>\n",
       "      <td>0.078118</td>\n",
       "      <td>0.007960</td>\n",
       "      <td>0.019473</td>\n",
       "      <td>0.005763</td>\n",
       "    </tr>\n",
       "    <tr>\n",
       "      <th>3</th>\n",
       "      <td>PF</td>\n",
       "      <td>0.182993</td>\n",
       "      <td>0.542127</td>\n",
       "      <td>0.052057</td>\n",
       "      <td>0.138220</td>\n",
       "      <td>0.084603</td>\n",
       "    </tr>\n",
       "    <tr>\n",
       "      <th>4</th>\n",
       "      <td>PF</td>\n",
       "      <td>0.311244</td>\n",
       "      <td>0.317626</td>\n",
       "      <td>0.099496</td>\n",
       "      <td>0.235609</td>\n",
       "      <td>0.036024</td>\n",
       "    </tr>\n",
       "  </tbody>\n",
       "</table>\n",
       "</div>"
      ],
      "text/plain": [
       "  Pos    prob_C   prob_PF   prob_PG   prob_SF   prob_SG\n",
       "0   C  0.760297  0.223155  0.003105  0.008730  0.004714\n",
       "1   C  0.619699  0.284558  0.028857  0.041188  0.025698\n",
       "2   C  0.888685  0.078118  0.007960  0.019473  0.005763\n",
       "3  PF  0.182993  0.542127  0.052057  0.138220  0.084603\n",
       "4  PF  0.311244  0.317626  0.099496  0.235609  0.036024"
      ]
     },
     "execution_count": 13,
     "metadata": {},
     "output_type": "execute_result"
    }
   ],
   "source": [
    "status, prediction = ds.download_artifact(artifact['artifact_name'])\n",
    "prediction.head()"
   ]
  },
  {
   "cell_type": "code",
   "execution_count": 14,
   "metadata": {},
   "outputs": [
    {
     "name": "stdout",
     "output_type": "stream",
     "text": [
      "              precision    recall  f1-score   support\n",
      "\n",
      "           C       0.77      0.87      0.82       126\n",
      "          PF       0.70      0.60      0.65       123\n",
      "          PG       0.80      0.86      0.83       142\n",
      "          SF       0.74      0.64      0.69       114\n",
      "          SG       0.72      0.75      0.73       156\n",
      "\n",
      "   micro avg       0.75      0.75      0.75       661\n",
      "   macro avg       0.75      0.74      0.74       661\n",
      "weighted avg       0.75      0.75      0.75       661\n",
      "\n"
     ]
    },
    {
     "data": {
      "image/png": "[encoded data removed]",
      "text/plain": [
       "<Figure size 432x288 with 1 Axes>"
      ]
     },
     "metadata": {
      "needs_background": "light"
     },
     "output_type": "display_data"
    }
   ],
   "source": [
    "unq = prediction[target].unique()[::-1]\n",
    "p = np.zeros((len(prediction),))\n",
    "a = np.zeros((len(prediction),))\n",
    "for i,q in enumerate(unq):\n",
    "    p += i*(prediction[target] == q).values\n",
    "    a += i*(df[target] == q).values\n",
    "#Plot predictions vs actual\n",
    "plt.plot(a)\n",
    "plt.plot(p)\n",
    "plt.legend(['Actual','Predicted'])\n",
    "plt.yticks([i for i in range(len(unq))],[q for q in unq]);\n",
    "print(classification_report(df[target], prediction[target]))"
   ]
  },
  {
   "cell_type": "code",
   "execution_count": 15,
   "metadata": {},
   "outputs": [],
   "source": [
    "status, dataset = ds.upload_dataset(os.path.join(PATH_TO_DATASET, TEST_DATASET))\n",
    "if not status:\n",
    "    print(dataset)"
   ]
  },
  {
   "cell_type": "code",
   "execution_count": 16,
   "metadata": {},
   "outputs": [
    {
     "name": "stdout",
     "output_type": "stream",
     "text": [
      "{'status': 'Requested', 'starttime': '2019-04-17T21:36:16.630937', 'endtime': None, 'percent_complete': 0, 'job_type': 'CleanDataTiny', 'loss': None, 'generations': None, 'dataset_names': ['16_17_Season_Stats_Per_100_Possessions_SPP.csv'], 'artifact_names': ['e2827a79271e474d99caf67f5f0beed5'], 'model_name': None, 'job_error': None}\n",
      "{'status': 'Complete', 'starttime': '2019-04-17T21:36:16.630937', 'endtime': '2019-04-17T21:36:18.268758', 'percent_complete': 100, 'job_type': 'CleanDataTiny', 'loss': None, 'generations': None, 'dataset_names': ['16_17_Season_Stats_Per_100_Possessions_SPP.csv'], 'artifact_names': ['e2827a79271e474d99caf67f5f0beed5'], 'model_name': None, 'job_error': ''}\n"
     ]
    }
   ],
   "source": [
    "# clean test dataset\n",
    "status, job_id = ds.clean_data(TEST_DATASET, target = target, model_name = model)\n",
    "\n",
    "if status:\n",
    "    ds.wait_for_job(job_id['job_name'])\n",
    "else:\n",
    "    print(job_id)"
   ]
  },
  {
   "cell_type": "code",
   "execution_count": 17,
   "metadata": {},
   "outputs": [
    {
     "name": "stdout",
     "output_type": "stream",
     "text": [
      "{'status': 'Requested', 'starttime': '2019-04-17T21:36:32.830062', 'endtime': None, 'percent_complete': 0, 'job_type': 'RunModel', 'loss': 1.3441369533538818, 'generations': 7, 'dataset_names': ['16_17_Season_Stats_Per_100_Possessions_SPP.csv'], 'artifact_names': ['2444f5d50c524ded981def7cf547d18d'], 'model_name': 'Pos_model020190417213306', 'job_error': None}\n",
      "{'status': 'Complete', 'starttime': '2019-04-17T21:36:32.830062', 'endtime': '2019-04-17T21:36:41.944674', 'percent_complete': 100, 'job_type': 'RunModel', 'loss': 1.3441369533538818, 'generations': 7, 'dataset_names': ['16_17_Season_Stats_Per_100_Possessions_SPP.csv'], 'artifact_names': ['2444f5d50c524ded981def7cf547d18d'], 'model_name': 'Pos_model020190417213306', 'job_error': ''}\n"
     ]
    },
    {
     "data": {
      "text/plain": [
       "(True, 'Job completed')"
      ]
     },
     "execution_count": 17,
     "metadata": {},
     "output_type": "execute_result"
    }
   ],
   "source": [
    "status, artifact = ds.run_model(TEST_DATASET, model)\n",
    "sleep(1)\n",
    "ds.wait_for_job(artifact['job_name'])"
   ]
  },
  {
   "cell_type": "code",
   "execution_count": 18,
   "metadata": {},
   "outputs": [
    {
     "name": "stdout",
     "output_type": "stream",
     "text": [
      "              precision    recall  f1-score   support\n",
      "\n",
      "           C       0.73      0.81      0.77       114\n",
      "          PF       0.51      0.47      0.49       129\n",
      "          PG       0.77      0.86      0.81       117\n",
      "          SF       0.51      0.36      0.42       110\n",
      "          SG       0.59      0.67      0.63       124\n",
      "\n",
      "   micro avg       0.63      0.63      0.63       594\n",
      "   macro avg       0.62      0.63      0.62       594\n",
      "weighted avg       0.62      0.63      0.62       594\n",
      "\n"
     ]
    },
    {
     "data": {
      "image/png": "[encoded data removed]",
      "text/plain": [
       "<Figure size 432x288 with 1 Axes>"
      ]
     },
     "metadata": {
      "needs_background": "light"
     },
     "output_type": "display_data"
    }
   ],
   "source": [
    "# Create plots comparing predictions with actual target\n",
    "status, prediction = ds.download_artifact(artifact['artifact_name'])\n",
    "df = pd.read_csv(os.path.join(PATH_TO_DATASET, TEST_DATASET))\n",
    "unq = prediction[target].unique()[::-1]\n",
    "p = np.zeros((len(prediction),))\n",
    "a = np.zeros((len(prediction),))\n",
    "for i,q in enumerate(unq):\n",
    "    p += i*(prediction[target] == q).values\n",
    "    a += i*(df[target] == q).values\n",
    "#Plot predictions vs actual\n",
    "plt.plot(a)\n",
    "plt.plot(p)\n",
    "plt.legend(['Actual','Predicted'])\n",
    "plt.yticks([i for i in range(len(unq))],[q for q in unq]);\n",
    "print(classification_report(df[target], prediction[target]))"
   ]
  },
  {
   "cell_type": "code",
   "execution_count": 19,
   "metadata": {},
   "outputs": [
    {
     "name": "stdout",
     "output_type": "stream",
     "text": [
      "{'type': 'XGBClassifier', 'parameters': {'base_score': 0.5, 'colsample_bylevel': 1, 'colsample_bytree': 1, 'gamma': 0, 'learning_rate': 0.16561132059649739, 'max_delta_step': 0, 'max_depth': 2, 'min_child_weight': 19, 'n_estimators': 287, 'n_jobs': -1, 'reg_alpha': 0, 'reg_lambda': 1, 'scale_pos_weight': 1, 'subsample': 0.8434167157321979}}\n"
     ]
    }
   ],
   "source": [
    "status, model_type = ds.lookup_model_name(model)\n",
    "print(model_type['description']['best_genome'])"
   ]
  },
  {
   "cell_type": "code",
   "execution_count": null,
   "metadata": {},
   "outputs": [],
   "source": []
  }
 ],
 "metadata": {
  "kernelspec": {
   "display_name": "Python 3",
   "language": "python",
   "name": "python3"
  },
  "language_info": {
   "codemirror_mode": {
    "name": "ipython",
    "version": 3
   },
   "file_extension": ".py",
   "mimetype": "text/x-python",
   "name": "python",
   "nbconvert_exporter": "python",
   "pygments_lexer": "ipython3",
   "version": "3.7.1"
  }
 },
 "nbformat": 4,
 "nbformat_minor": 2
}
