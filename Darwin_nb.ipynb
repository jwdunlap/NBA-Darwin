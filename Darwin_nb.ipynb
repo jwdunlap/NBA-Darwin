{
 "cells": [
  {
   "cell_type": "code",
   "execution_count": 22,
   "metadata": {},
   "outputs": [],
   "source": [
    "%matplotlib inline\n",
    "import pandas as pd\n",
    "from amb_sdk.sdk import DarwinSdk\n",
    "import matplotlib.pyplot as plt\n",
    "import pandas as pd\n",
    "from IPython.display import Image\n",
    "from time import sleep\n",
    "import os\n",
    "import numpy as np\n",
    "from sklearn.metrics import classification_report\n",
    "import datetime\n"
   ]
  },
  {
   "cell_type": "code",
   "execution_count": 23,
   "metadata": {},
   "outputs": [
    {
     "data": {
      "text/plain": [
       "(True, 'https://amb-demo-api.sparkcognition.com/v1/')"
      ]
     },
     "execution_count": 23,
     "metadata": {},
     "output_type": "execute_result"
    }
   ],
   "source": [
    "ds = DarwinSdk()\n",
    "ds.set_url('https://amb-demo-api.sparkcognition.com/v1/')"
   ]
  },
  {
   "cell_type": "code",
   "execution_count": 24,
   "metadata": {
    "scrolled": true
   },
   "outputs": [],
   "source": [
    "#Setting environmental variables \n",
    "USERNAME='idunlap@rocketmail.com'\n",
    "PASSWORD='5uVGHsTHrQ'\n",
    "\n",
    "#Setting path to datasets\n",
    "#Here we are using the 17/18 data to train season to train and the 16/17 season data to test\n",
    "#Since we're looking for predicted position, we use datasets with single-position players (SPP)\n",
    "PATH_TO_DATASET='sets/'\n",
    "TRAIN_DATASET='17_18_Season_Stats_Per_100_Possessions_SPP.csv'\n",
    "TEST_DATASET= '16_17_Season_Stats_Per_100_Possessions_SPP.csv'\n",
    "\n",
    "#creating a datetime timestamp for later use\n",
    "TS = '{:%Y%m%d%H%M%S}'.format(datetime.datetime.now())"
   ]
  },
  {
   "cell_type": "code",
   "execution_count": 25,
   "metadata": {},
   "outputs": [
    {
     "name": "stdout",
     "output_type": "stream",
     "text": [
      "Deleting 17_18_Season_Stats_Per_100_Possessions_SPP.csv\n",
      "Deleting model-20190423154416\n",
      "Deleting Pos_model020190423154254\n",
      "Deleting model-20190423154100\n",
      "Deleting Pos_model020190423154023\n",
      "Deleting model-20190423152438\n",
      "Deleting model-20190423150454\n",
      "Deleting b58e8a85f7384aab8846dbf4498f78d9\n",
      "Error removing artifact \"b58e8a85f7384aab8846dbf4498f78d9\" - 404: NOT FOUND - {\"message\": \"Failed to find artifact b58e8a85f7384aab8846dbf4498f78d9\"}\n",
      "\n",
      "Deleting 44d13b7470664d8d9635083fbcf5938d\n",
      "Error removing artifact \"44d13b7470664d8d9635083fbcf5938d\" - 404: NOT FOUND - {\"message\": \"Failed to find artifact 44d13b7470664d8d9635083fbcf5938d\"}\n",
      "\n",
      "Deleting 2675cf18b2934b3d8457c3c6bc922d54\n",
      "Error removing artifact \"2675cf18b2934b3d8457c3c6bc922d54\" - 404: NOT FOUND - {\"message\": \"Failed to find artifact 2675cf18b2934b3d8457c3c6bc922d54\"}\n",
      "\n",
      "Deleting 101dd4ea79be471e9e8e6b933a20b3e6\n",
      "Error removing artifact \"101dd4ea79be471e9e8e6b933a20b3e6\" - 404: NOT FOUND - {\"message\": \"Failed to find artifact 101dd4ea79be471e9e8e6b933a20b3e6\"}\n",
      "\n",
      "Deleting 584ac6f6db89442aaac87684a7fabea8\n",
      "Error removing artifact \"584ac6f6db89442aaac87684a7fabea8\" - 404: NOT FOUND - {\"message\": \"Failed to find artifact 584ac6f6db89442aaac87684a7fabea8\"}\n",
      "\n",
      "Deleting Analyze_prediction_artifact-20190417222338\n",
      "Error removing artifact \"Analyze_prediction_artifact-20190417222338\" - 404: NOT FOUND - {\"message\": \"Failed to find artifact Analyze_prediction_artifact-20190417222338\"}\n",
      "\n",
      "Deleting 2d76b5a885b144e28b3e9045d9faa4dd\n",
      "Error removing artifact \"2d76b5a885b144e28b3e9045d9faa4dd\" - 404: NOT FOUND - {\"message\": \"Failed to find artifact 2d76b5a885b144e28b3e9045d9faa4dd\"}\n",
      "\n",
      "Deleting 689024a2066f4aaca2e7fbeb471724fd\n",
      "Error removing artifact \"689024a2066f4aaca2e7fbeb471724fd\" - 404: NOT FOUND - {\"message\": \"Failed to find artifact 689024a2066f4aaca2e7fbeb471724fd\"}\n",
      "\n",
      "Deleting Analyze_prediction_artifact-20190421175058\n",
      "Error removing artifact \"Analyze_prediction_artifact-20190421175058\" - 404: NOT FOUND - {\"message\": \"Failed to find artifact Analyze_prediction_artifact-20190421175058\"}\n",
      "\n",
      "Deleting Darwin_analyze_model_artifact-20190421180421\n",
      "Error removing artifact \"Darwin_analyze_model_artifact-20190421180421\" - 404: NOT FOUND - {\"message\": \"Failed to find artifact Darwin_analyze_model_artifact-20190421180421\"}\n",
      "\n",
      "Deleting 88abbf84269a45d1a862f33bed249d0b\n",
      "Error removing artifact \"88abbf84269a45d1a862f33bed249d0b\" - 404: NOT FOUND - {\"message\": \"Failed to find artifact 88abbf84269a45d1a862f33bed249d0b\"}\n",
      "\n",
      "Deleting c3d79c159d9c435e8de99e3a333e4864\n",
      "Error removing artifact \"c3d79c159d9c435e8de99e3a333e4864\" - 404: NOT FOUND - {\"message\": \"Failed to find artifact c3d79c159d9c435e8de99e3a333e4864\"}\n",
      "\n",
      "Deleting d10e25be87d142e49f397fe6b017641e\n",
      "Error removing artifact \"d10e25be87d142e49f397fe6b017641e\" - 404: NOT FOUND - {\"message\": \"Failed to find artifact d10e25be87d142e49f397fe6b017641e\"}\n",
      "\n",
      "Deleting 9c3d9a4d2f61469197583238bedc08ae\n",
      "Error removing artifact \"9c3d9a4d2f61469197583238bedc08ae\" - 404: NOT FOUND - {\"message\": \"Failed to find artifact 9c3d9a4d2f61469197583238bedc08ae\"}\n",
      "\n",
      "Deleting f946e370e5254076a241a01b9f605a95\n",
      "Error removing artifact \"f946e370e5254076a241a01b9f605a95\" - 404: NOT FOUND - {\"message\": \"Failed to find artifact f946e370e5254076a241a01b9f605a95\"}\n",
      "\n",
      "Deleting f9af15b4972e4d708569d569c1890e87\n",
      "Deleting Darwin_analyze_data_artifact-20190423152438\n",
      "Deleting 9ca252a8d5d745679c9f0f89ca56eecb\n",
      "Deleting Darwin_analyze_data_artifact-20190423154416\n",
      "Deleting 552e9077788647aab2ac14bcf0c6842f\n",
      "Deleting b5f27b2679fa49bf8fd00cbfbb88f16e\n",
      "Deleting Analyze_prediction_artifact-20190423150454\n",
      "Deleting 3867b0bcc28749479112c6d847d4d2f7\n",
      "Deleting Darwin_analyze_data_artifact-20190423154100\n",
      "Deleting 83bf741045eb472a91897afe594b3fda\n"
     ]
    },
    {
     "data": {
      "text/plain": [
       "(True, None)"
      ]
     },
     "execution_count": 25,
     "metadata": {},
     "output_type": "execute_result"
    }
   ],
   "source": [
    "#Log in \n",
    "status, msg = ds.auth_login_user(USERNAME,PASSWORD)\n",
    "if not status:\n",
    "    print(msg)\n",
    "    \n",
    "#Pre-build cleanup\n",
    "ds.delete_all_datasets()\n",
    "ds.delete_all_models()\n",
    "ds.delete_all_artifacts()"
   ]
  },
  {
   "cell_type": "code",
   "execution_count": 26,
   "metadata": {},
   "outputs": [
    {
     "data": {
      "text/html": [
       "<div>\n",
       "<style scoped>\n",
       "    .dataframe tbody tr th:only-of-type {\n",
       "        vertical-align: middle;\n",
       "    }\n",
       "\n",
       "    .dataframe tbody tr th {\n",
       "        vertical-align: top;\n",
       "    }\n",
       "\n",
       "    .dataframe thead th {\n",
       "        text-align: right;\n",
       "    }\n",
       "</style>\n",
       "<table border=\"1\" class=\"dataframe\">\n",
       "  <thead>\n",
       "    <tr style=\"text-align: right;\">\n",
       "      <th></th>\n",
       "      <th>Rk</th>\n",
       "      <th>Player</th>\n",
       "      <th>Pos</th>\n",
       "      <th>Age</th>\n",
       "      <th>Tm</th>\n",
       "      <th>G</th>\n",
       "      <th>GS</th>\n",
       "      <th>MP</th>\n",
       "      <th>FG</th>\n",
       "      <th>FGA</th>\n",
       "      <th>...</th>\n",
       "      <th>TRB</th>\n",
       "      <th>AST</th>\n",
       "      <th>STL</th>\n",
       "      <th>BLK</th>\n",
       "      <th>TOV</th>\n",
       "      <th>PF</th>\n",
       "      <th>PTS</th>\n",
       "      <th>string_field_29</th>\n",
       "      <th>ORtg</th>\n",
       "      <th>DRtg</th>\n",
       "    </tr>\n",
       "  </thead>\n",
       "  <tbody>\n",
       "    <tr>\n",
       "      <th>0</th>\n",
       "      <td>8</td>\n",
       "      <td>Jarrett Allen\\allenja01</td>\n",
       "      <td>C</td>\n",
       "      <td>19</td>\n",
       "      <td>BRK</td>\n",
       "      <td>72</td>\n",
       "      <td>31</td>\n",
       "      <td>1441</td>\n",
       "      <td>7.9</td>\n",
       "      <td>13.4</td>\n",
       "      <td>...</td>\n",
       "      <td>13.1</td>\n",
       "      <td>1.7</td>\n",
       "      <td>0.9</td>\n",
       "      <td>3.0</td>\n",
       "      <td>2.8</td>\n",
       "      <td>5.0</td>\n",
       "      <td>19.8</td>\n",
       "      <td>NaN</td>\n",
       "      <td>119.0</td>\n",
       "      <td>108</td>\n",
       "    </tr>\n",
       "    <tr>\n",
       "      <th>1</th>\n",
       "      <td>15</td>\n",
       "      <td>Ike Anigbogu\\anigbik01</td>\n",
       "      <td>C</td>\n",
       "      <td>19</td>\n",
       "      <td>IND</td>\n",
       "      <td>11</td>\n",
       "      <td>0</td>\n",
       "      <td>30</td>\n",
       "      <td>6.7</td>\n",
       "      <td>15.0</td>\n",
       "      <td>...</td>\n",
       "      <td>15.0</td>\n",
       "      <td>0.0</td>\n",
       "      <td>1.7</td>\n",
       "      <td>5.0</td>\n",
       "      <td>3.3</td>\n",
       "      <td>1.7</td>\n",
       "      <td>21.7</td>\n",
       "      <td>NaN</td>\n",
       "      <td>114.0</td>\n",
       "      <td>104</td>\n",
       "    </tr>\n",
       "    <tr>\n",
       "      <th>2</th>\n",
       "      <td>4</td>\n",
       "      <td>Bam Adebayo\\adebaba01</td>\n",
       "      <td>C</td>\n",
       "      <td>20</td>\n",
       "      <td>MIA</td>\n",
       "      <td>69</td>\n",
       "      <td>19</td>\n",
       "      <td>1368</td>\n",
       "      <td>6.4</td>\n",
       "      <td>12.5</td>\n",
       "      <td>...</td>\n",
       "      <td>14.0</td>\n",
       "      <td>3.7</td>\n",
       "      <td>1.2</td>\n",
       "      <td>1.5</td>\n",
       "      <td>2.4</td>\n",
       "      <td>5.1</td>\n",
       "      <td>17.5</td>\n",
       "      <td>NaN</td>\n",
       "      <td>116.0</td>\n",
       "      <td>105</td>\n",
       "    </tr>\n",
       "    <tr>\n",
       "      <th>3</th>\n",
       "      <td>62</td>\n",
       "      <td>Tony Bradley\\bradlto01</td>\n",
       "      <td>C</td>\n",
       "      <td>20</td>\n",
       "      <td>UTA</td>\n",
       "      <td>9</td>\n",
       "      <td>0</td>\n",
       "      <td>29</td>\n",
       "      <td>5.2</td>\n",
       "      <td>19.0</td>\n",
       "      <td>...</td>\n",
       "      <td>19.0</td>\n",
       "      <td>1.7</td>\n",
       "      <td>0.0</td>\n",
       "      <td>0.0</td>\n",
       "      <td>0.0</td>\n",
       "      <td>1.7</td>\n",
       "      <td>13.8</td>\n",
       "      <td>NaN</td>\n",
       "      <td>95.0</td>\n",
       "      <td>107</td>\n",
       "    </tr>\n",
       "    <tr>\n",
       "      <th>4</th>\n",
       "      <td>75</td>\n",
       "      <td>Thomas Bryant\\bryanth01</td>\n",
       "      <td>C</td>\n",
       "      <td>20</td>\n",
       "      <td>LAL</td>\n",
       "      <td>15</td>\n",
       "      <td>0</td>\n",
       "      <td>72</td>\n",
       "      <td>5.3</td>\n",
       "      <td>14.0</td>\n",
       "      <td>...</td>\n",
       "      <td>11.3</td>\n",
       "      <td>4.0</td>\n",
       "      <td>0.7</td>\n",
       "      <td>1.3</td>\n",
       "      <td>1.3</td>\n",
       "      <td>4.0</td>\n",
       "      <td>14.6</td>\n",
       "      <td>NaN</td>\n",
       "      <td>100.0</td>\n",
       "      <td>108</td>\n",
       "    </tr>\n",
       "  </tbody>\n",
       "</table>\n",
       "<p>5 rows × 32 columns</p>\n",
       "</div>"
      ],
      "text/plain": [
       "   Rk                   Player Pos  Age   Tm   G  GS    MP   FG   FGA  ...   \\\n",
       "0   8  Jarrett Allen\\allenja01   C   19  BRK  72  31  1441  7.9  13.4  ...    \n",
       "1  15   Ike Anigbogu\\anigbik01   C   19  IND  11   0    30  6.7  15.0  ...    \n",
       "2   4    Bam Adebayo\\adebaba01   C   20  MIA  69  19  1368  6.4  12.5  ...    \n",
       "3  62   Tony Bradley\\bradlto01   C   20  UTA   9   0    29  5.2  19.0  ...    \n",
       "4  75  Thomas Bryant\\bryanth01   C   20  LAL  15   0    72  5.3  14.0  ...    \n",
       "\n",
       "    TRB  AST  STL  BLK  TOV   PF   PTS  string_field_29   ORtg  DRtg  \n",
       "0  13.1  1.7  0.9  3.0  2.8  5.0  19.8              NaN  119.0   108  \n",
       "1  15.0  0.0  1.7  5.0  3.3  1.7  21.7              NaN  114.0   104  \n",
       "2  14.0  3.7  1.2  1.5  2.4  5.1  17.5              NaN  116.0   105  \n",
       "3  19.0  1.7  0.0  0.0  0.0  1.7  13.8              NaN   95.0   107  \n",
       "4  11.3  4.0  0.7  1.3  1.3  4.0  14.6              NaN  100.0   108  \n",
       "\n",
       "[5 rows x 32 columns]"
      ]
     },
     "execution_count": 26,
     "metadata": {},
     "output_type": "execute_result"
    }
   ],
   "source": [
    "# Preview dataset and display the first 5 entries\n",
    "df = pd.read_csv(os.path.join(PATH_TO_DATASET, TRAIN_DATASET))\n",
    "df.head()"
   ]
  },
  {
   "cell_type": "code",
   "execution_count": 27,
   "metadata": {},
   "outputs": [],
   "source": [
    "# Upload dataset to darwin\n",
    "status, dataset = ds.upload_dataset(os.path.join(PATH_TO_DATASET, TRAIN_DATASET))\n",
    "if not status:\n",
    "    print(dataset)"
   ]
  },
  {
   "cell_type": "code",
   "execution_count": 28,
   "metadata": {},
   "outputs": [
    {
     "name": "stdout",
     "output_type": "stream",
     "text": [
      "{'status': 'Requested', 'starttime': '2019-04-23T16:04:13.594712', 'endtime': None, 'percent_complete': 0, 'job_type': 'CleanDataTiny', 'loss': None, 'generations': None, 'dataset_names': ['17_18_Season_Stats_Per_100_Possessions_SPP.csv'], 'artifact_names': ['40f6129f2c404b88846fc8490de18603'], 'model_name': None, 'job_error': None}\n",
      "{'status': 'Complete', 'starttime': '2019-04-23T16:04:13.594712', 'endtime': '2019-04-23T16:04:17.277534', 'percent_complete': 100, 'job_type': 'CleanDataTiny', 'loss': None, 'generations': None, 'dataset_names': ['17_18_Season_Stats_Per_100_Possessions_SPP.csv'], 'artifact_names': ['40f6129f2c404b88846fc8490de18603'], 'model_name': None, 'job_error': ''}\n"
     ]
    }
   ],
   "source": [
    "# clean dataset\n",
    "# Our target attribute is 'Pos' (position)\n",
    "target = \"Pos\"\n",
    "status, job_id = ds.clean_data(TRAIN_DATASET, target = target)\n",
    "\n",
    "if status:\n",
    "    ds.wait_for_job(job_id['job_name'])\n",
    "else:\n",
    "    print(job_id)"
   ]
  },
  {
   "cell_type": "code",
   "execution_count": 29,
   "metadata": {},
   "outputs": [
    {
     "name": "stdout",
     "output_type": "stream",
     "text": [
      "{'status': 'Requested', 'starttime': '2019-04-23T16:05:05.922253', 'endtime': None, 'percent_complete': 0, 'job_type': 'TrainModel', 'loss': None, 'generations': 0, 'dataset_names': ['17_18_Season_Stats_Per_100_Possessions_SPP.csv'], 'artifact_names': None, 'model_name': 'Pos_model020190423160230', 'job_error': None}\n",
      "{'status': 'Running', 'starttime': '2019-04-23T16:05:05.922253', 'endtime': None, 'percent_complete': 4, 'job_type': 'TrainModel', 'loss': 1.310286521911621, 'generations': 5, 'dataset_names': ['17_18_Season_Stats_Per_100_Possessions_SPP.csv'], 'artifact_names': None, 'model_name': 'Pos_model020190423160230', 'job_error': ''}\n",
      "{'status': 'Running', 'starttime': '2019-04-23T16:05:05.922253', 'endtime': None, 'percent_complete': 4, 'job_type': 'TrainModel', 'loss': 1.310286521911621, 'generations': 5, 'dataset_names': ['17_18_Season_Stats_Per_100_Possessions_SPP.csv'], 'artifact_names': None, 'model_name': 'Pos_model020190423160230', 'job_error': ''}\n",
      "{'status': 'Running', 'starttime': '2019-04-23T16:05:05.922253', 'endtime': None, 'percent_complete': 20, 'job_type': 'TrainModel', 'loss': 1.310286521911621, 'generations': 5, 'dataset_names': ['17_18_Season_Stats_Per_100_Possessions_SPP.csv'], 'artifact_names': None, 'model_name': 'Pos_model020190423160230', 'job_error': ''}\n",
      "{'status': 'Running', 'starttime': '2019-04-23T16:05:05.922253', 'endtime': None, 'percent_complete': 28, 'job_type': 'TrainModel', 'loss': 1.310286521911621, 'generations': 5, 'dataset_names': ['17_18_Season_Stats_Per_100_Possessions_SPP.csv'], 'artifact_names': None, 'model_name': 'Pos_model020190423160230', 'job_error': ''}\n",
      "{'status': 'Running', 'starttime': '2019-04-23T16:05:05.922253', 'endtime': None, 'percent_complete': 44, 'job_type': 'TrainModel', 'loss': 1.310286521911621, 'generations': 5, 'dataset_names': ['17_18_Season_Stats_Per_100_Possessions_SPP.csv'], 'artifact_names': None, 'model_name': 'Pos_model020190423160230', 'job_error': ''}\n",
      "{'status': 'Running', 'starttime': '2019-04-23T16:05:05.922253', 'endtime': None, 'percent_complete': 55, 'job_type': 'TrainModel', 'loss': 1.310286521911621, 'generations': 5, 'dataset_names': ['17_18_Season_Stats_Per_100_Possessions_SPP.csv'], 'artifact_names': None, 'model_name': 'Pos_model020190423160230', 'job_error': ''}\n",
      "{'status': 'Complete', 'starttime': '2019-04-23T16:05:05.922253', 'endtime': '2019-04-23T16:06:44.630451', 'percent_complete': 100, 'job_type': 'TrainModel', 'loss': 1.310286521911621, 'generations': 5, 'dataset_names': ['17_18_Season_Stats_Per_100_Possessions_SPP.csv'], 'artifact_names': None, 'model_name': 'Pos_model020190423160230', 'job_error': ''}\n"
     ]
    }
   ],
   "source": [
    "# Build our model with the train dataset\n",
    "# append the timestamp created earlier to the name so that it's unique\n",
    "model = target + \"_model0\" + TS\n",
    "status, job_id = ds.create_model(dataset_names = TRAIN_DATASET, \\\n",
    "                                 model_name =  model, \\\n",
    "                                 max_train_time = '00:02')\n",
    "if status:\n",
    "    ds.wait_for_job(job_id['job_name'])\n",
    "else:\n",
    "    print(job_id)"
   ]
  },
  {
   "cell_type": "code",
   "execution_count": 31,
   "metadata": {},
   "outputs": [
    {
     "name": "stdout",
     "output_type": "stream",
     "text": [
      "{'status': 'Running', 'starttime': '2019-04-23T16:07:39.134978', 'endtime': None, 'percent_complete': 0, 'job_type': 'AnalyzeModel', 'loss': 1.310286521911621, 'generations': 5, 'dataset_names': None, 'artifact_names': ['f06895d56b32478fab5b58c9a225098b'], 'model_name': 'Pos_model020190423160230', 'job_error': ''}\n",
      "{'status': 'Complete', 'starttime': '2019-04-23T16:07:39.134978', 'endtime': '2019-04-23T16:07:40.818298', 'percent_complete': 100, 'job_type': 'AnalyzeModel', 'loss': 1.310286521911621, 'generations': 5, 'dataset_names': None, 'artifact_names': ['f06895d56b32478fab5b58c9a225098b'], 'model_name': 'Pos_model020190423160230', 'job_error': ''}\n"
     ]
    },
    {
     "data": {
      "text/plain": [
       "TRB     0.104012\n",
       "AST     0.086463\n",
       "ORB     0.078599\n",
       "FG_     0.056621\n",
       "_3PA    0.037785\n",
       "DRB     0.037355\n",
       "BLK     0.036466\n",
       "TOV     0.033070\n",
       "FGA     0.030886\n",
       "_3P     0.030566\n",
       "STL     0.030057\n",
       "Rk      0.028918\n",
       "PF      0.028702\n",
       "FG      0.027704\n",
       "G       0.026583\n",
       "dtype: float64"
      ]
     },
     "execution_count": 31,
     "metadata": {},
     "output_type": "execute_result"
    }
   ],
   "source": [
    "# Get feature importance\n",
    "status, artifact = ds.analyze_model(model)\n",
    "sleep(1)\n",
    "if status:\n",
    "    ds.wait_for_job(artifact['job_name'])\n",
    "else:\n",
    "    print(artifact)\n",
    "status, feature_importance = ds.download_artifact(artifact['artifact_name'])\n",
    "\n",
    "#Display feature importance for top 15 features\n",
    "feature_importance[:15]"
   ]
  },
  {
   "cell_type": "code",
   "execution_count": 32,
   "metadata": {},
   "outputs": [
    {
     "name": "stdout",
     "output_type": "stream",
     "text": [
      "{'status': 'Running', 'starttime': '2019-04-23T16:08:39.119137', 'endtime': None, 'percent_complete': 0, 'job_type': 'RunModel', 'loss': 1.310286521911621, 'generations': 5, 'dataset_names': ['17_18_Season_Stats_Per_100_Possessions_SPP.csv'], 'artifact_names': ['d78b7fa78b8e409fa5562eafa41c3b9f'], 'model_name': 'Pos_model020190423160230', 'job_error': ''}\n",
      "{'status': 'Complete', 'starttime': '2019-04-23T16:08:39.119137', 'endtime': '2019-04-23T16:08:47.584617', 'percent_complete': 100, 'job_type': 'RunModel', 'loss': 1.310286521911621, 'generations': 5, 'dataset_names': ['17_18_Season_Stats_Per_100_Possessions_SPP.csv'], 'artifact_names': ['d78b7fa78b8e409fa5562eafa41c3b9f'], 'model_name': 'Pos_model020190423160230', 'job_error': ''}\n"
     ]
    },
    {
     "data": {
      "text/html": [
       "<div>\n",
       "<style scoped>\n",
       "    .dataframe tbody tr th:only-of-type {\n",
       "        vertical-align: middle;\n",
       "    }\n",
       "\n",
       "    .dataframe tbody tr th {\n",
       "        vertical-align: top;\n",
       "    }\n",
       "\n",
       "    .dataframe thead th {\n",
       "        text-align: right;\n",
       "    }\n",
       "</style>\n",
       "<table border=\"1\" class=\"dataframe\">\n",
       "  <thead>\n",
       "    <tr style=\"text-align: right;\">\n",
       "      <th></th>\n",
       "      <th>Pos</th>\n",
       "      <th>prob_C</th>\n",
       "      <th>prob_PF</th>\n",
       "      <th>prob_PG</th>\n",
       "      <th>prob_SF</th>\n",
       "      <th>prob_SG</th>\n",
       "    </tr>\n",
       "  </thead>\n",
       "  <tbody>\n",
       "    <tr>\n",
       "      <th>0</th>\n",
       "      <td>C</td>\n",
       "      <td>0.899854</td>\n",
       "      <td>0.089511</td>\n",
       "      <td>0.002823</td>\n",
       "      <td>0.005247</td>\n",
       "      <td>0.002565</td>\n",
       "    </tr>\n",
       "    <tr>\n",
       "      <th>1</th>\n",
       "      <td>C</td>\n",
       "      <td>0.756620</td>\n",
       "      <td>0.182185</td>\n",
       "      <td>0.017500</td>\n",
       "      <td>0.021227</td>\n",
       "      <td>0.022468</td>\n",
       "    </tr>\n",
       "    <tr>\n",
       "      <th>2</th>\n",
       "      <td>C</td>\n",
       "      <td>0.960751</td>\n",
       "      <td>0.028113</td>\n",
       "      <td>0.003689</td>\n",
       "      <td>0.005400</td>\n",
       "      <td>0.002047</td>\n",
       "    </tr>\n",
       "    <tr>\n",
       "      <th>3</th>\n",
       "      <td>C</td>\n",
       "      <td>0.625657</td>\n",
       "      <td>0.219436</td>\n",
       "      <td>0.031908</td>\n",
       "      <td>0.066549</td>\n",
       "      <td>0.056451</td>\n",
       "    </tr>\n",
       "    <tr>\n",
       "      <th>4</th>\n",
       "      <td>C</td>\n",
       "      <td>0.741970</td>\n",
       "      <td>0.111720</td>\n",
       "      <td>0.022423</td>\n",
       "      <td>0.112100</td>\n",
       "      <td>0.011787</td>\n",
       "    </tr>\n",
       "  </tbody>\n",
       "</table>\n",
       "</div>"
      ],
      "text/plain": [
       "  Pos    prob_C   prob_PF   prob_PG   prob_SF   prob_SG\n",
       "0   C  0.899854  0.089511  0.002823  0.005247  0.002565\n",
       "1   C  0.756620  0.182185  0.017500  0.021227  0.022468\n",
       "2   C  0.960751  0.028113  0.003689  0.005400  0.002047\n",
       "3   C  0.625657  0.219436  0.031908  0.066549  0.056451\n",
       "4   C  0.741970  0.111720  0.022423  0.112100  0.011787"
      ]
     },
     "execution_count": 32,
     "metadata": {},
     "output_type": "execute_result"
    }
   ],
   "source": [
    "#Model prediction\n",
    "status, artifact = ds.run_model(TRAIN_DATASET, model)\n",
    "sleep(1)\n",
    "ds.wait_for_job(artifact['job_name'])\n",
    "\n",
    "#Display prediction\n",
    "status, prediction = ds.download_artifact(artifact['artifact_name'])\n",
    "prediction.head()"
   ]
  },
  {
   "cell_type": "code",
   "execution_count": 36,
   "metadata": {},
   "outputs": [
    {
     "name": "stdout",
     "output_type": "stream",
     "text": [
      "              precision    recall  f1-score   support\n",
      "\n",
      "           C       0.92      0.97      0.94       126\n",
      "          PF       0.95      0.88      0.91       123\n",
      "          PG       0.93      0.94      0.94       142\n",
      "          SF       0.91      0.90      0.91       114\n",
      "          SG       0.91      0.92      0.91       156\n",
      "\n",
      "   micro avg       0.92      0.92      0.92       661\n",
      "   macro avg       0.92      0.92      0.92       661\n",
      "weighted avg       0.92      0.92      0.92       661\n",
      "\n"
     ]
    },
    {
     "data": {
      "image/png": "[encoded data removed]",
      "text/plain": [
       "<Figure size 432x288 with 1 Axes>"
      ]
     },
     "metadata": {
      "needs_background": "light"
     },
     "output_type": "display_data"
    }
   ],
   "source": [
    "#Plot predictions vs actual player positions\n",
    "unq = prediction[target].unique()[::-1]\n",
    "p = np.zeros((len(prediction),))\n",
    "a = np.zeros((len(prediction),))\n",
    "for i,q in enumerate(unq):\n",
    "    p += i*(prediction[target] == q).values\n",
    "    a += i*(df[target] == q).values\n",
    "#Plot predictions vs actual\n",
    "plt.plot(a)\n",
    "plt.plot(p)\n",
    "plt.legend(['Actual','Predicted'])\n",
    "plt.yticks([i for i in range(len(unq))],[q for q in unq]);\n",
    "print(classification_report(df[target], prediction[target]))"
   ]
  },
  {
   "cell_type": "code",
   "execution_count": 37,
   "metadata": {},
   "outputs": [
    {
     "name": "stdout",
     "output_type": "stream",
     "text": [
      "400: BAD REQUEST - {\"message\": \"Dataset already exists\"}\n",
      "\n"
     ]
    }
   ],
   "source": [
    "#Upload test dataset \n",
    "status, dataset = ds.upload_dataset(os.path.join(PATH_TO_DATASET, TEST_DATASET))\n",
    "if not status:\n",
    "    print(dataset)"
   ]
  },
  {
   "cell_type": "code",
   "execution_count": 38,
   "metadata": {},
   "outputs": [
    {
     "name": "stdout",
     "output_type": "stream",
     "text": [
      "{'status': 'Requested', 'starttime': '2019-04-23T16:10:39.388365', 'endtime': None, 'percent_complete': 0, 'job_type': 'CleanDataTiny', 'loss': None, 'generations': None, 'dataset_names': ['16_17_Season_Stats_Per_100_Possessions_SPP.csv'], 'artifact_names': ['abb89d08e95c471fa6f3a2d61fb6a95e'], 'model_name': None, 'job_error': None}\n",
      "{'status': 'Complete', 'starttime': '2019-04-23T16:10:39.388365', 'endtime': '2019-04-23T16:10:41.607723', 'percent_complete': 100, 'job_type': 'CleanDataTiny', 'loss': None, 'generations': None, 'dataset_names': ['16_17_Season_Stats_Per_100_Possessions_SPP.csv'], 'artifact_names': ['abb89d08e95c471fa6f3a2d61fb6a95e'], 'model_name': None, 'job_error': ''}\n"
     ]
    }
   ],
   "source": [
    "# clean test dataset\n",
    "status, job_id = ds.clean_data(TEST_DATASET, target = target, model_name = model)\n",
    "\n",
    "if status:\n",
    "    ds.wait_for_job(job_id['job_name'])\n",
    "else:\n",
    "    print(job_id)"
   ]
  },
  {
   "cell_type": "code",
   "execution_count": 39,
   "metadata": {},
   "outputs": [
    {
     "name": "stdout",
     "output_type": "stream",
     "text": [
      "{'status': 'Complete', 'starttime': '2019-04-23T16:11:43.559388', 'endtime': '2019-04-23T16:11:44.617962', 'percent_complete': 100, 'job_type': 'RunModel', 'loss': 1.310286521911621, 'generations': 5, 'dataset_names': ['16_17_Season_Stats_Per_100_Possessions_SPP.csv'], 'artifact_names': ['26c0f79eea2749268e984c0c23e34bed'], 'model_name': 'Pos_model020190423160230', 'job_error': ''}\n"
     ]
    },
    {
     "data": {
      "text/plain": [
       "(True, 'Job completed')"
      ]
     },
     "execution_count": 39,
     "metadata": {},
     "output_type": "execute_result"
    }
   ],
   "source": [
    "#Run our model on test dataset\n",
    "status, artifact = ds.run_model(TEST_DATASET, model)\n",
    "sleep(1)\n",
    "ds.wait_for_job(artifact['job_name'])"
   ]
  },
  {
   "cell_type": "code",
   "execution_count": 40,
   "metadata": {},
   "outputs": [
    {
     "name": "stdout",
     "output_type": "stream",
     "text": [
      "              precision    recall  f1-score   support\n",
      "\n",
      "           C       0.74      0.82      0.78       114\n",
      "          PF       0.55      0.50      0.52       129\n",
      "          PG       0.78      0.85      0.81       117\n",
      "          SF       0.45      0.34      0.38       110\n",
      "          SG       0.58      0.65      0.61       124\n",
      "\n",
      "   micro avg       0.63      0.63      0.63       594\n",
      "   macro avg       0.62      0.63      0.62       594\n",
      "weighted avg       0.62      0.63      0.62       594\n",
      "\n"
     ]
    },
    {
     "data": {
      "image/png": "[encoded data removed]",
      "text/plain": [
       "<Figure size 432x288 with 1 Axes>"
      ]
     },
     "metadata": {
      "needs_background": "light"
     },
     "output_type": "display_data"
    }
   ],
   "source": [
    "# Plot prediction vs actual player positions\n",
    "status, prediction = ds.download_artifact(artifact['artifact_name'])\n",
    "df = pd.read_csv(os.path.join(PATH_TO_DATASET, TEST_DATASET))\n",
    "unq = prediction[target].unique()[::-1]\n",
    "p = np.zeros((len(prediction),))\n",
    "a = np.zeros((len(prediction),))\n",
    "for i,q in enumerate(unq):\n",
    "    p += i*(prediction[target] == q).values\n",
    "    a += i*(df[target] == q).values\n",
    "#Plot predictions vs actual\n",
    "plt.plot(a)\n",
    "plt.plot(p)\n",
    "plt.legend(['Actual','Predicted'])\n",
    "plt.yticks([i for i in range(len(unq))],[q for q in unq]);\n",
    "print(classification_report(df[target], prediction[target]))"
   ]
  },
  {
   "cell_type": "code",
   "execution_count": 41,
   "metadata": {},
   "outputs": [
    {
     "name": "stdout",
     "output_type": "stream",
     "text": [
      "{'type': 'XGBClassifier', 'parameters': {'base_score': 0.5, 'colsample_bylevel': 1, 'colsample_bytree': 1, 'gamma': 0, 'learning_rate': 0.16054644918525737, 'max_delta_step': 0, 'max_depth': 8, 'min_child_weight': 5, 'n_estimators': 247, 'n_jobs': -1, 'reg_alpha': 0, 'reg_lambda': 1, 'scale_pos_weight': 1, 'subsample': 0.805382220656603}}\n"
     ]
    }
   ],
   "source": [
    "#Retrieve the modle that Darwin used\n",
    "status, model_type = ds.lookup_model_name(model)\n",
    "print(model_type['description']['best_genome'])"
   ]
  },
  {
   "cell_type": "code",
   "execution_count": null,
   "metadata": {},
   "outputs": [],
   "source": []
  }
 ],
 "metadata": {
  "kernelspec": {
   "display_name": "Python 3",
   "language": "python",
   "name": "python3"
  },
  "language_info": {
   "codemirror_mode": {
    "name": "ipython",
    "version": 3
   },
   "file_extension": ".py",
   "mimetype": "text/x-python",
   "name": "python",
   "nbconvert_exporter": "python",
   "pygments_lexer": "ipython3",
   "version": "3.7.1"
  }
 },
 "nbformat": 4,
 "nbformat_minor": 2
}
