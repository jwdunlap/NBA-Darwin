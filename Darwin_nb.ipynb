{
 "cells": [
  {
   "cell_type": "code",
   "execution_count": 25,
   "metadata": {},
   "outputs": [],
   "source": [
    "%matplotlib inline\n",
    "import pandas as pd\n",
    "from amb_sdk.sdk import DarwinSdk\n",
    "import matplotlib.pyplot as plt\n",
    "import pandas as pd\n",
    "from IPython.display import Image\n",
    "from time import sleep\n",
    "import os\n",
    "import numpy as np\n",
    "from sklearn.metrics import classification_report\n",
    "import datetime\n"
   ]
  },
  {
   "cell_type": "code",
   "execution_count": 26,
   "metadata": {},
   "outputs": [
    {
     "data": {
      "text/plain": [
       "(True, 'https://amb-demo-api.sparkcognition.com/v1/')"
      ]
     },
     "execution_count": 26,
     "metadata": {},
     "output_type": "execute_result"
    }
   ],
   "source": [
    "ds = DarwinSdk()\n",
    "ds.set_url('https://amb-demo-api.sparkcognition.com/v1/')"
   ]
  },
  {
   "cell_type": "code",
   "execution_count": 27,
   "metadata": {
    "scrolled": true
   },
   "outputs": [],
   "source": [
    "#Setting environmental variables \n",
    "USERNAME='idunlap@rocketmail.com'\n",
    "PASSWORD='5uVGHsTHrQ'\n",
    "\n",
    "#Setting path to datasets\n",
    "#Here we are using the 17/18 data to train season to train and the 16/17 season data to test\n",
    "#Since we're looking for predicted position, we use datasets with single-position players (SPP)\n",
    "PATH_TO_DATASET='sets/'\n",
    "TRAIN_DATASET='12-16_Combines_Stats_Per_100_Possessions_SPP.csv'\n",
    "TEST_DATASET= '17_18_Season_Stats_Per_100_Possessions_SPP.csv'\n",
    "\n",
    "#creating a datetime timestamp for later use\n",
    "TS = '{:%Y%m%d%H%M%S}'.format(datetime.datetime.now())"
   ]
  },
  {
   "cell_type": "code",
   "execution_count": 28,
   "metadata": {},
   "outputs": [
    {
     "name": "stdout",
     "output_type": "stream",
     "text": [
      "Deleting 12-16_Combines_Stats_Per_100_Possessions_SPP.csv\n",
      "Deleting 17_18_Season_Stats_Per_100_Possessions_SPP_limit_100.csv\n",
      "Deleting model-20190504135642\n",
      "Deleting b58e8a85f7384aab8846dbf4498f78d9\n",
      "Error removing artifact \"b58e8a85f7384aab8846dbf4498f78d9\" - 404: NOT FOUND - {\"message\": \"Failed to find artifact b58e8a85f7384aab8846dbf4498f78d9\"}\n",
      "\n",
      "Deleting 44d13b7470664d8d9635083fbcf5938d\n",
      "Error removing artifact \"44d13b7470664d8d9635083fbcf5938d\" - 404: NOT FOUND - {\"message\": \"Failed to find artifact 44d13b7470664d8d9635083fbcf5938d\"}\n",
      "\n",
      "Deleting 2675cf18b2934b3d8457c3c6bc922d54\n",
      "Error removing artifact \"2675cf18b2934b3d8457c3c6bc922d54\" - 404: NOT FOUND - {\"message\": \"Failed to find artifact 2675cf18b2934b3d8457c3c6bc922d54\"}\n",
      "\n",
      "Deleting 101dd4ea79be471e9e8e6b933a20b3e6\n",
      "Error removing artifact \"101dd4ea79be471e9e8e6b933a20b3e6\" - 404: NOT FOUND - {\"message\": \"Failed to find artifact 101dd4ea79be471e9e8e6b933a20b3e6\"}\n",
      "\n",
      "Deleting 584ac6f6db89442aaac87684a7fabea8\n",
      "Error removing artifact \"584ac6f6db89442aaac87684a7fabea8\" - 404: NOT FOUND - {\"message\": \"Failed to find artifact 584ac6f6db89442aaac87684a7fabea8\"}\n",
      "\n",
      "Deleting Analyze_prediction_artifact-20190417222338\n",
      "Error removing artifact \"Analyze_prediction_artifact-20190417222338\" - 404: NOT FOUND - {\"message\": \"Failed to find artifact Analyze_prediction_artifact-20190417222338\"}\n",
      "\n",
      "Deleting 2d76b5a885b144e28b3e9045d9faa4dd\n",
      "Error removing artifact \"2d76b5a885b144e28b3e9045d9faa4dd\" - 404: NOT FOUND - {\"message\": \"Failed to find artifact 2d76b5a885b144e28b3e9045d9faa4dd\"}\n",
      "\n",
      "Deleting 689024a2066f4aaca2e7fbeb471724fd\n",
      "Error removing artifact \"689024a2066f4aaca2e7fbeb471724fd\" - 404: NOT FOUND - {\"message\": \"Failed to find artifact 689024a2066f4aaca2e7fbeb471724fd\"}\n",
      "\n",
      "Deleting Analyze_prediction_artifact-20190421175058\n",
      "Error removing artifact \"Analyze_prediction_artifact-20190421175058\" - 404: NOT FOUND - {\"message\": \"Failed to find artifact Analyze_prediction_artifact-20190421175058\"}\n",
      "\n",
      "Deleting Darwin_analyze_model_artifact-20190421180421\n",
      "Error removing artifact \"Darwin_analyze_model_artifact-20190421180421\" - 404: NOT FOUND - {\"message\": \"Failed to find artifact Darwin_analyze_model_artifact-20190421180421\"}\n",
      "\n",
      "Deleting 88abbf84269a45d1a862f33bed249d0b\n",
      "Error removing artifact \"88abbf84269a45d1a862f33bed249d0b\" - 404: NOT FOUND - {\"message\": \"Failed to find artifact 88abbf84269a45d1a862f33bed249d0b\"}\n",
      "\n",
      "Deleting c3d79c159d9c435e8de99e3a333e4864\n",
      "Error removing artifact \"c3d79c159d9c435e8de99e3a333e4864\" - 404: NOT FOUND - {\"message\": \"Failed to find artifact c3d79c159d9c435e8de99e3a333e4864\"}\n",
      "\n",
      "Deleting d10e25be87d142e49f397fe6b017641e\n",
      "Error removing artifact \"d10e25be87d142e49f397fe6b017641e\" - 404: NOT FOUND - {\"message\": \"Failed to find artifact d10e25be87d142e49f397fe6b017641e\"}\n",
      "\n",
      "Deleting 9c3d9a4d2f61469197583238bedc08ae\n",
      "Error removing artifact \"9c3d9a4d2f61469197583238bedc08ae\" - 404: NOT FOUND - {\"message\": \"Failed to find artifact 9c3d9a4d2f61469197583238bedc08ae\"}\n",
      "\n",
      "Deleting f946e370e5254076a241a01b9f605a95\n",
      "Error removing artifact \"f946e370e5254076a241a01b9f605a95\" - 404: NOT FOUND - {\"message\": \"Failed to find artifact f946e370e5254076a241a01b9f605a95\"}\n",
      "\n",
      "Deleting Analyze_prediction_artifact-20190504135642\n",
      "Deleting Analyze_prediction_artifact-20190504134832\n",
      "Error removing artifact \"Analyze_prediction_artifact-20190504134832\" - 404: NOT FOUND - {\"message\": \"Failed to find artifact Analyze_prediction_artifact-20190504134832\"}\n",
      "\n",
      "Deleting Darwin_analyze_data_artifact-20190504135642\n",
      "Deleting 5545d909931b489fa5ad125e8d0e789a\n",
      "Deleting b7ab5d3487804dd291d937e578903cdc\n",
      "Deleting Darwin_analyze_model_artifact-20190504135642\n"
     ]
    },
    {
     "data": {
      "text/plain": [
       "(True, None)"
      ]
     },
     "execution_count": 28,
     "metadata": {},
     "output_type": "execute_result"
    }
   ],
   "source": [
    "#Log in \n",
    "status, msg = ds.auth_login_user(USERNAME,PASSWORD)\n",
    "if not status:\n",
    "    print(msg)\n",
    "    \n",
    "#Pre-build cleanup\n",
    "ds.delete_all_datasets()\n",
    "ds.delete_all_models()\n",
    "ds.delete_all_artifacts()"
   ]
  },
  {
   "cell_type": "code",
   "execution_count": 29,
   "metadata": {},
   "outputs": [
    {
     "data": {
      "text/html": [
       "<div>\n",
       "<style scoped>\n",
       "    .dataframe tbody tr th:only-of-type {\n",
       "        vertical-align: middle;\n",
       "    }\n",
       "\n",
       "    .dataframe tbody tr th {\n",
       "        vertical-align: top;\n",
       "    }\n",
       "\n",
       "    .dataframe thead th {\n",
       "        text-align: right;\n",
       "    }\n",
       "</style>\n",
       "<table border=\"1\" class=\"dataframe\">\n",
       "  <thead>\n",
       "    <tr style=\"text-align: right;\">\n",
       "      <th></th>\n",
       "      <th>Rk</th>\n",
       "      <th>Player</th>\n",
       "      <th>Pos</th>\n",
       "      <th>Age</th>\n",
       "      <th>Tm</th>\n",
       "      <th>G</th>\n",
       "      <th>GS</th>\n",
       "      <th>MP</th>\n",
       "      <th>FG</th>\n",
       "      <th>FGA</th>\n",
       "      <th>...</th>\n",
       "      <th>TRB</th>\n",
       "      <th>AST</th>\n",
       "      <th>STL</th>\n",
       "      <th>BLK</th>\n",
       "      <th>TOV</th>\n",
       "      <th>PF</th>\n",
       "      <th>PTS</th>\n",
       "      <th>string_field_29</th>\n",
       "      <th>ORtg</th>\n",
       "      <th>DRtg</th>\n",
       "    </tr>\n",
       "  </thead>\n",
       "  <tbody>\n",
       "    <tr>\n",
       "      <th>0</th>\n",
       "      <td>262</td>\n",
       "      <td>Alex Len\\lenal01</td>\n",
       "      <td>C</td>\n",
       "      <td>22</td>\n",
       "      <td>PHO</td>\n",
       "      <td>78</td>\n",
       "      <td>46</td>\n",
       "      <td>1821</td>\n",
       "      <td>7.1</td>\n",
       "      <td>16.7</td>\n",
       "      <td>...</td>\n",
       "      <td>15.9</td>\n",
       "      <td>2.6</td>\n",
       "      <td>1.0</td>\n",
       "      <td>1.7</td>\n",
       "      <td>3.9</td>\n",
       "      <td>6.2</td>\n",
       "      <td>18.8</td>\n",
       "      <td>NaN</td>\n",
       "      <td>96.0</td>\n",
       "      <td>107</td>\n",
       "    </tr>\n",
       "    <tr>\n",
       "      <th>1</th>\n",
       "      <td>260</td>\n",
       "      <td>Alex Len\\lenal01</td>\n",
       "      <td>C</td>\n",
       "      <td>23</td>\n",
       "      <td>PHO</td>\n",
       "      <td>77</td>\n",
       "      <td>34</td>\n",
       "      <td>1560</td>\n",
       "      <td>7.1</td>\n",
       "      <td>14.2</td>\n",
       "      <td>...</td>\n",
       "      <td>15.6</td>\n",
       "      <td>1.4</td>\n",
       "      <td>1.2</td>\n",
       "      <td>3.0</td>\n",
       "      <td>3.1</td>\n",
       "      <td>7.4</td>\n",
       "      <td>18.8</td>\n",
       "      <td>NaN</td>\n",
       "      <td>108.0</td>\n",
       "      <td>108</td>\n",
       "    </tr>\n",
       "    <tr>\n",
       "      <th>2</th>\n",
       "      <td>279</td>\n",
       "      <td>Alex Len\\lenal01</td>\n",
       "      <td>C</td>\n",
       "      <td>21</td>\n",
       "      <td>PHO</td>\n",
       "      <td>69</td>\n",
       "      <td>44</td>\n",
       "      <td>1518</td>\n",
       "      <td>5.9</td>\n",
       "      <td>11.6</td>\n",
       "      <td>...</td>\n",
       "      <td>14.9</td>\n",
       "      <td>1.1</td>\n",
       "      <td>1.1</td>\n",
       "      <td>3.4</td>\n",
       "      <td>2.4</td>\n",
       "      <td>7.0</td>\n",
       "      <td>14.2</td>\n",
       "      <td>NaN</td>\n",
       "      <td>107.0</td>\n",
       "      <td>103</td>\n",
       "    </tr>\n",
       "    <tr>\n",
       "      <th>3</th>\n",
       "      <td>267</td>\n",
       "      <td>Alex Len\\lenal01</td>\n",
       "      <td>C</td>\n",
       "      <td>20</td>\n",
       "      <td>PHO</td>\n",
       "      <td>42</td>\n",
       "      <td>3</td>\n",
       "      <td>362</td>\n",
       "      <td>4.6</td>\n",
       "      <td>10.8</td>\n",
       "      <td>...</td>\n",
       "      <td>13.7</td>\n",
       "      <td>0.6</td>\n",
       "      <td>0.6</td>\n",
       "      <td>2.5</td>\n",
       "      <td>3.6</td>\n",
       "      <td>9.4</td>\n",
       "      <td>11.9</td>\n",
       "      <td>NaN</td>\n",
       "      <td>92.0</td>\n",
       "      <td>106</td>\n",
       "    </tr>\n",
       "    <tr>\n",
       "      <th>4</th>\n",
       "      <td>264</td>\n",
       "      <td>Alex Kirk\\kirkal01</td>\n",
       "      <td>C</td>\n",
       "      <td>23</td>\n",
       "      <td>CLE</td>\n",
       "      <td>5</td>\n",
       "      <td>0</td>\n",
       "      <td>14</td>\n",
       "      <td>3.7</td>\n",
       "      <td>14.9</td>\n",
       "      <td>...</td>\n",
       "      <td>3.7</td>\n",
       "      <td>3.7</td>\n",
       "      <td>0.0</td>\n",
       "      <td>0.0</td>\n",
       "      <td>0.0</td>\n",
       "      <td>3.7</td>\n",
       "      <td>14.9</td>\n",
       "      <td>NaN</td>\n",
       "      <td>112.0</td>\n",
       "      <td>115</td>\n",
       "    </tr>\n",
       "  </tbody>\n",
       "</table>\n",
       "<p>5 rows × 32 columns</p>\n",
       "</div>"
      ],
      "text/plain": [
       "    Rk              Player Pos  Age   Tm   G  GS    MP   FG   FGA  ...    TRB  \\\n",
       "0  262    Alex Len\\lenal01   C   22  PHO  78  46  1821  7.1  16.7  ...   15.9   \n",
       "1  260    Alex Len\\lenal01   C   23  PHO  77  34  1560  7.1  14.2  ...   15.6   \n",
       "2  279    Alex Len\\lenal01   C   21  PHO  69  44  1518  5.9  11.6  ...   14.9   \n",
       "3  267    Alex Len\\lenal01   C   20  PHO  42   3   362  4.6  10.8  ...   13.7   \n",
       "4  264  Alex Kirk\\kirkal01   C   23  CLE   5   0    14  3.7  14.9  ...    3.7   \n",
       "\n",
       "   AST  STL  BLK  TOV   PF   PTS  string_field_29   ORtg  DRtg  \n",
       "0  2.6  1.0  1.7  3.9  6.2  18.8              NaN   96.0   107  \n",
       "1  1.4  1.2  3.0  3.1  7.4  18.8              NaN  108.0   108  \n",
       "2  1.1  1.1  3.4  2.4  7.0  14.2              NaN  107.0   103  \n",
       "3  0.6  0.6  2.5  3.6  9.4  11.9              NaN   92.0   106  \n",
       "4  3.7  0.0  0.0  0.0  3.7  14.9              NaN  112.0   115  \n",
       "\n",
       "[5 rows x 32 columns]"
      ]
     },
     "execution_count": 29,
     "metadata": {},
     "output_type": "execute_result"
    }
   ],
   "source": [
    "# Preview dataset and display the first 5 entries\n",
    "df = pd.read_csv(os.path.join(PATH_TO_DATASET, TRAIN_DATASET))\n",
    "df.head()"
   ]
  },
  {
   "cell_type": "code",
   "execution_count": 30,
   "metadata": {},
   "outputs": [],
   "source": [
    "# Upload dataset to darwin\n",
    "status, dataset = ds.upload_dataset(os.path.join(PATH_TO_DATASET, TRAIN_DATASET))\n",
    "if not status:\n",
    "    print(dataset)"
   ]
  },
  {
   "cell_type": "code",
   "execution_count": 31,
   "metadata": {},
   "outputs": [
    {
     "name": "stdout",
     "output_type": "stream",
     "text": [
      "{'status': 'Requested', 'starttime': '2019-05-04T14:05:36.800854', 'endtime': None, 'percent_complete': 0, 'job_type': 'CleanDataTiny', 'loss': None, 'generations': None, 'dataset_names': ['12-16_Combines_Stats_Per_100_Possessions_SPP.csv'], 'artifact_names': ['b174c957121e4082b9012129716d0efb'], 'model_name': None, 'job_error': None}\n",
      "{'status': 'Complete', 'starttime': '2019-05-04T14:05:36.800854', 'endtime': '2019-05-04T14:05:40.716361', 'percent_complete': 100, 'job_type': 'CleanDataTiny', 'loss': None, 'generations': None, 'dataset_names': ['12-16_Combines_Stats_Per_100_Possessions_SPP.csv'], 'artifact_names': ['b174c957121e4082b9012129716d0efb'], 'model_name': None, 'job_error': ''}\n"
     ]
    }
   ],
   "source": [
    "# clean dataset\n",
    "# Our target attribute is 'Pos' (position)\n",
    "target = \"Pos\"\n",
    "status, job_id = ds.clean_data(TRAIN_DATASET, target = target)\n",
    "\n",
    "if status:\n",
    "    ds.wait_for_job(job_id['job_name'])\n",
    "else:\n",
    "    print(job_id)"
   ]
  },
  {
   "cell_type": "code",
   "execution_count": 32,
   "metadata": {},
   "outputs": [
    {
     "name": "stdout",
     "output_type": "stream",
     "text": [
      "{'status': 'Requested', 'starttime': '2019-05-04T14:07:19.614473', 'endtime': None, 'percent_complete': 0, 'job_type': 'TrainModel', 'loss': None, 'generations': 0, 'dataset_names': ['12-16_Combines_Stats_Per_100_Possessions_SPP.csv'], 'artifact_names': None, 'model_name': 'Pos_model020190504131005', 'job_error': None}\n",
      "{'status': 'Running', 'starttime': '2019-05-04T14:07:19.614473', 'endtime': None, 'percent_complete': 5, 'job_type': 'TrainModel', 'loss': 1.2697561979293823, 'generations': 3, 'dataset_names': ['12-16_Combines_Stats_Per_100_Possessions_SPP.csv'], 'artifact_names': None, 'model_name': 'Pos_model020190504131005', 'job_error': ''}\n",
      "{'status': 'Running', 'starttime': '2019-05-04T14:07:19.614473', 'endtime': None, 'percent_complete': 5, 'job_type': 'TrainModel', 'loss': 1.2697561979293823, 'generations': 3, 'dataset_names': ['12-16_Combines_Stats_Per_100_Possessions_SPP.csv'], 'artifact_names': None, 'model_name': 'Pos_model020190504131005', 'job_error': ''}\n",
      "{'status': 'Running', 'starttime': '2019-05-04T14:07:19.614473', 'endtime': None, 'percent_complete': 5, 'job_type': 'TrainModel', 'loss': 1.2697561979293823, 'generations': 3, 'dataset_names': ['12-16_Combines_Stats_Per_100_Possessions_SPP.csv'], 'artifact_names': None, 'model_name': 'Pos_model020190504131005', 'job_error': ''}\n",
      "{'status': 'Running', 'starttime': '2019-05-04T14:07:19.614473', 'endtime': None, 'percent_complete': 5, 'job_type': 'TrainModel', 'loss': 1.2697561979293823, 'generations': 3, 'dataset_names': ['12-16_Combines_Stats_Per_100_Possessions_SPP.csv'], 'artifact_names': None, 'model_name': 'Pos_model020190504131005', 'job_error': ''}\n",
      "{'status': 'Running', 'starttime': '2019-05-04T14:07:19.614473', 'endtime': None, 'percent_complete': 33, 'job_type': 'TrainModel', 'loss': 0.8054729402065277, 'generations': 3, 'dataset_names': ['12-16_Combines_Stats_Per_100_Possessions_SPP.csv'], 'artifact_names': None, 'model_name': 'Pos_model020190504131005', 'job_error': ''}\n",
      "{'status': 'Running', 'starttime': '2019-05-04T14:07:19.614473', 'endtime': None, 'percent_complete': 33, 'job_type': 'TrainModel', 'loss': 0.8054729402065277, 'generations': 3, 'dataset_names': ['12-16_Combines_Stats_Per_100_Possessions_SPP.csv'], 'artifact_names': None, 'model_name': 'Pos_model020190504131005', 'job_error': ''}\n",
      "{'status': 'Running', 'starttime': '2019-05-04T14:07:19.614473', 'endtime': None, 'percent_complete': 50, 'job_type': 'TrainModel', 'loss': 0.8054729402065277, 'generations': 3, 'dataset_names': ['12-16_Combines_Stats_Per_100_Possessions_SPP.csv'], 'artifact_names': None, 'model_name': 'Pos_model020190504131005', 'job_error': ''}\n",
      "{'status': 'Running', 'starttime': '2019-05-04T14:07:19.614473', 'endtime': None, 'percent_complete': 60, 'job_type': 'TrainModel', 'loss': 0.7924142181873322, 'generations': 3, 'dataset_names': ['12-16_Combines_Stats_Per_100_Possessions_SPP.csv'], 'artifact_names': None, 'model_name': 'Pos_model020190504131005', 'job_error': ''}\n",
      "{'status': 'Complete', 'starttime': '2019-05-04T14:07:19.614473', 'endtime': '2019-05-04T14:09:28.553324', 'percent_complete': 100, 'job_type': 'TrainModel', 'loss': 0.7924142181873322, 'generations': 3, 'dataset_names': ['12-16_Combines_Stats_Per_100_Possessions_SPP.csv'], 'artifact_names': None, 'model_name': 'Pos_model020190504131005', 'job_error': ''}\n"
     ]
    }
   ],
   "source": [
    "# Build our model with the train dataset\n",
    "# append the timestamp created earlier to the name so that it's unique\n",
    "model = target + \"_model0\" + TS\n",
    "status, job_id = ds.create_model(dataset_names = TRAIN_DATASET, \\\n",
    "                                 model_name =  model, \\\n",
    "                                 max_train_time = '00:02')\n",
    "if status:\n",
    "    ds.wait_for_job(job_id['job_name'])\n",
    "else:\n",
    "    print(job_id)"
   ]
  },
  {
   "cell_type": "code",
   "execution_count": 33,
   "metadata": {},
   "outputs": [
    {
     "name": "stdout",
     "output_type": "stream",
     "text": [
      "{'status': 'Running', 'starttime': '2019-05-04T14:09:36.295068', 'endtime': None, 'percent_complete': 0, 'job_type': 'AnalyzeModel', 'loss': 0.7924142181873322, 'generations': 3, 'dataset_names': None, 'artifact_names': ['1282dcb0719c4c768c451aae31ae2d95'], 'model_name': 'Pos_model020190504131005', 'job_error': ''}\n",
      "{'status': 'Complete', 'starttime': '2019-05-04T14:09:36.295068', 'endtime': '2019-05-04T14:09:38.098714', 'percent_complete': 100, 'job_type': 'AnalyzeModel', 'loss': 0.7924142181873322, 'generations': 3, 'dataset_names': None, 'artifact_names': ['1282dcb0719c4c768c451aae31ae2d95'], 'model_name': 'Pos_model020190504131005', 'job_error': ''}\n"
     ]
    },
    {
     "data": {
      "text/plain": [
       "AST     0.142374\n",
       "TRB     0.108236\n",
       "ORB     0.073199\n",
       "DRB     0.058199\n",
       "BLK     0.048609\n",
       "_3PA    0.045720\n",
       "TOV     0.041668\n",
       "_3P     0.039815\n",
       "PF      0.028578\n",
       "_2PA    0.025182\n",
       "STL     0.024776\n",
       "FG_     0.024222\n",
       "FGA     0.023182\n",
       "_2P_    0.021462\n",
       "FT_     0.021376\n",
       "dtype: float64"
      ]
     },
     "execution_count": 33,
     "metadata": {},
     "output_type": "execute_result"
    }
   ],
   "source": [
    "# Get feature importance\n",
    "status, artifact = ds.analyze_model(model)\n",
    "sleep(1)\n",
    "if status:\n",
    "    ds.wait_for_job(artifact['job_name'])\n",
    "else:\n",
    "    print(artifact)\n",
    "status, feature_importance = ds.download_artifact(artifact['artifact_name'])\n",
    "\n",
    "#Display feature importance for top 15 features\n",
    "feature_importance[:15]"
   ]
  },
  {
   "cell_type": "code",
   "execution_count": 34,
   "metadata": {},
   "outputs": [
    {
     "name": "stdout",
     "output_type": "stream",
     "text": [
      "{'status': 'Running', 'starttime': '2019-05-04T14:09:53.85195', 'endtime': None, 'percent_complete': 0, 'job_type': 'RunModel', 'loss': 0.7924142181873322, 'generations': 3, 'dataset_names': ['12-16_Combines_Stats_Per_100_Possessions_SPP.csv'], 'artifact_names': ['3d34835f1f0c499aafc629e7064b9aac'], 'model_name': 'Pos_model020190504131005', 'job_error': ''}\n",
      "{'status': 'Complete', 'starttime': '2019-05-04T14:09:53.85195', 'endtime': '2019-05-04T14:09:55.090422', 'percent_complete': 100, 'job_type': 'RunModel', 'loss': 0.7924142181873322, 'generations': 3, 'dataset_names': ['12-16_Combines_Stats_Per_100_Possessions_SPP.csv'], 'artifact_names': ['3d34835f1f0c499aafc629e7064b9aac'], 'model_name': 'Pos_model020190504131005', 'job_error': ''}\n"
     ]
    },
    {
     "data": {
      "text/html": [
       "<div>\n",
       "<style scoped>\n",
       "    .dataframe tbody tr th:only-of-type {\n",
       "        vertical-align: middle;\n",
       "    }\n",
       "\n",
       "    .dataframe tbody tr th {\n",
       "        vertical-align: top;\n",
       "    }\n",
       "\n",
       "    .dataframe thead th {\n",
       "        text-align: right;\n",
       "    }\n",
       "</style>\n",
       "<table border=\"1\" class=\"dataframe\">\n",
       "  <thead>\n",
       "    <tr style=\"text-align: right;\">\n",
       "      <th></th>\n",
       "      <th>Pos</th>\n",
       "      <th>prob_C</th>\n",
       "      <th>prob_PF</th>\n",
       "      <th>prob_PG</th>\n",
       "      <th>prob_SF</th>\n",
       "      <th>prob_SG</th>\n",
       "    </tr>\n",
       "  </thead>\n",
       "  <tbody>\n",
       "    <tr>\n",
       "      <th>0</th>\n",
       "      <td>C</td>\n",
       "      <td>0.736772</td>\n",
       "      <td>0.257458</td>\n",
       "      <td>0.001250</td>\n",
       "      <td>0.002300</td>\n",
       "      <td>0.002220</td>\n",
       "    </tr>\n",
       "    <tr>\n",
       "      <th>1</th>\n",
       "      <td>C</td>\n",
       "      <td>0.910629</td>\n",
       "      <td>0.088510</td>\n",
       "      <td>0.000252</td>\n",
       "      <td>0.000367</td>\n",
       "      <td>0.000242</td>\n",
       "    </tr>\n",
       "    <tr>\n",
       "      <th>2</th>\n",
       "      <td>C</td>\n",
       "      <td>0.865774</td>\n",
       "      <td>0.132966</td>\n",
       "      <td>0.000230</td>\n",
       "      <td>0.000760</td>\n",
       "      <td>0.000270</td>\n",
       "    </tr>\n",
       "    <tr>\n",
       "      <th>3</th>\n",
       "      <td>C</td>\n",
       "      <td>0.739344</td>\n",
       "      <td>0.255435</td>\n",
       "      <td>0.000508</td>\n",
       "      <td>0.003535</td>\n",
       "      <td>0.001177</td>\n",
       "    </tr>\n",
       "    <tr>\n",
       "      <th>4</th>\n",
       "      <td>SG</td>\n",
       "      <td>0.228361</td>\n",
       "      <td>0.164694</td>\n",
       "      <td>0.052957</td>\n",
       "      <td>0.123914</td>\n",
       "      <td>0.430073</td>\n",
       "    </tr>\n",
       "  </tbody>\n",
       "</table>\n",
       "</div>"
      ],
      "text/plain": [
       "  Pos    prob_C   prob_PF   prob_PG   prob_SF   prob_SG\n",
       "0   C  0.736772  0.257458  0.001250  0.002300  0.002220\n",
       "1   C  0.910629  0.088510  0.000252  0.000367  0.000242\n",
       "2   C  0.865774  0.132966  0.000230  0.000760  0.000270\n",
       "3   C  0.739344  0.255435  0.000508  0.003535  0.001177\n",
       "4  SG  0.228361  0.164694  0.052957  0.123914  0.430073"
      ]
     },
     "execution_count": 34,
     "metadata": {},
     "output_type": "execute_result"
    }
   ],
   "source": [
    "#Model prediction\n",
    "status, artifact = ds.run_model(TRAIN_DATASET, model)\n",
    "sleep(1)\n",
    "ds.wait_for_job(artifact['job_name'])\n",
    "\n",
    "#Display prediction\n",
    "status, prediction = ds.download_artifact(artifact['artifact_name'])\n",
    "prediction.head()"
   ]
  },
  {
   "cell_type": "code",
   "execution_count": 19,
   "metadata": {},
   "outputs": [
    {
     "name": "stdout",
     "output_type": "stream",
     "text": [
      "              precision    recall  f1-score   support\n",
      "\n",
      "           C       0.90      0.91      0.91       430\n",
      "          PF       0.84      0.84      0.84       513\n",
      "          PG       0.91      0.93      0.92       498\n",
      "          SF       0.81      0.84      0.83       461\n",
      "          SG       0.89      0.84      0.87       517\n",
      "\n",
      "   micro avg       0.87      0.87      0.87      2419\n",
      "   macro avg       0.87      0.87      0.87      2419\n",
      "weighted avg       0.87      0.87      0.87      2419\n",
      "\n"
     ]
    },
    {
     "data": {
      "image/png": "[encoded data removed]",
      "text/plain": [
       "<Figure size 432x288 with 1 Axes>"
      ]
     },
     "metadata": {
      "needs_background": "light"
     },
     "output_type": "display_data"
    }
   ],
   "source": [
    "#Plot predictions vs actual player positions\n",
    "unq = prediction[target].unique()[::-1]\n",
    "p = np.zeros((len(prediction),))\n",
    "a = np.zeros((len(prediction),))\n",
    "for i,q in enumerate(unq):\n",
    "    p += i*(prediction[target] == q).values\n",
    "    a += i*(df[target] == q).values\n",
    "#Plot predictions vs actual\n",
    "plt.plot(a)\n",
    "plt.plot(p)\n",
    "plt.legend(['Actual','Predicted'])\n",
    "plt.yticks([i for i in range(len(unq))],[q for q in unq]);\n",
    "print(classification_report(df[target], prediction[target]))"
   ]
  },
  {
   "cell_type": "code",
   "execution_count": 20,
   "metadata": {},
   "outputs": [],
   "source": [
    "#Upload test dataset \n",
    "status, dataset = ds.upload_dataset(os.path.join(PATH_TO_DATASET, TEST_DATASET))\n",
    "if not status:\n",
    "    print(dataset)"
   ]
  },
  {
   "cell_type": "code",
   "execution_count": 21,
   "metadata": {},
   "outputs": [
    {
     "name": "stdout",
     "output_type": "stream",
     "text": [
      "{'status': 'Requested', 'starttime': '2019-05-04T13:08:41.543564', 'endtime': None, 'percent_complete': 0, 'job_type': 'CleanDataTiny', 'loss': None, 'generations': None, 'dataset_names': ['16_17_Season_Stats_Per_100_Possessions_SPP.csv'], 'artifact_names': ['bd293849998a49dca53764f799daf2d7'], 'model_name': None, 'job_error': None}\n",
      "{'status': 'Complete', 'starttime': '2019-05-04T13:08:41.543564', 'endtime': '2019-05-04T13:08:43.916585', 'percent_complete': 100, 'job_type': 'CleanDataTiny', 'loss': None, 'generations': None, 'dataset_names': ['16_17_Season_Stats_Per_100_Possessions_SPP.csv'], 'artifact_names': ['bd293849998a49dca53764f799daf2d7'], 'model_name': None, 'job_error': ''}\n"
     ]
    }
   ],
   "source": [
    "# clean test dataset\n",
    "status, job_id = ds.clean_data(TEST_DATASET, target = target, model_name = model)\n",
    "\n",
    "if status:\n",
    "    ds.wait_for_job(job_id['job_name'])\n",
    "else:\n",
    "    print(job_id)"
   ]
  },
  {
   "cell_type": "code",
   "execution_count": 22,
   "metadata": {},
   "outputs": [
    {
     "name": "stdout",
     "output_type": "stream",
     "text": [
      "{'status': 'Running', 'starttime': '2019-05-04T13:09:21.088961', 'endtime': None, 'percent_complete': 0, 'job_type': 'RunModel', 'loss': 1.2741581201553345, 'generations': 5, 'dataset_names': ['16_17_Season_Stats_Per_100_Possessions_SPP.csv'], 'artifact_names': ['c19b46449b3345f090f3aac241fc3a1b'], 'model_name': 'Pos_model020190504130223', 'job_error': ''}\n",
      "{'status': 'Complete', 'starttime': '2019-05-04T13:09:21.088961', 'endtime': '2019-05-04T13:09:28.65106', 'percent_complete': 100, 'job_type': 'RunModel', 'loss': 1.2741581201553345, 'generations': 5, 'dataset_names': ['16_17_Season_Stats_Per_100_Possessions_SPP.csv'], 'artifact_names': ['c19b46449b3345f090f3aac241fc3a1b'], 'model_name': 'Pos_model020190504130223', 'job_error': ''}\n"
     ]
    },
    {
     "data": {
      "text/plain": [
       "(True, 'Job completed')"
      ]
     },
     "execution_count": 22,
     "metadata": {},
     "output_type": "execute_result"
    }
   ],
   "source": [
    "#Run our model on test dataset\n",
    "status, artifact = ds.run_model(TEST_DATASET, model)\n",
    "sleep(1)\n",
    "ds.wait_for_job(artifact['job_name'])"
   ]
  },
  {
   "cell_type": "code",
   "execution_count": 23,
   "metadata": {},
   "outputs": [
    {
     "name": "stdout",
     "output_type": "stream",
     "text": [
      "              precision    recall  f1-score   support\n",
      "\n",
      "           C       0.96      0.89      0.93       114\n",
      "          PF       0.84      0.83      0.83       129\n",
      "          PG       0.93      0.91      0.92       117\n",
      "          SF       0.77      0.87      0.82       110\n",
      "          SG       0.88      0.85      0.87       124\n",
      "\n",
      "   micro avg       0.87      0.87      0.87       594\n",
      "   macro avg       0.87      0.87      0.87       594\n",
      "weighted avg       0.87      0.87      0.87       594\n",
      "\n"
     ]
    },
    {
     "data": {
      "image/png": "[encoded data removed]",
      "text/plain": [
       "<Figure size 432x288 with 1 Axes>"
      ]
     },
     "metadata": {
      "needs_background": "light"
     },
     "output_type": "display_data"
    }
   ],
   "source": [
    "# Plot prediction vs actual player positions\n",
    "status, prediction = ds.download_artifact(artifact['artifact_name'])\n",
    "df = pd.read_csv(os.path.join(PATH_TO_DATASET, TEST_DATASET))\n",
    "unq = prediction[target].unique()[::-1]\n",
    "p = np.zeros((len(prediction),))\n",
    "a = np.zeros((len(prediction),))\n",
    "for i,q in enumerate(unq):\n",
    "    p += i*(prediction[target] == q).values\n",
    "    a += i*(df[target] == q).values\n",
    "#Plot predictions vs actual\n",
    "plt.plot(a)\n",
    "plt.plot(p)\n",
    "plt.legend(['Actual','Predicted'])\n",
    "plt.yticks([i for i in range(len(unq))],[q for q in unq]);\n",
    "print(classification_report(df[target], prediction[target]))"
   ]
  },
  {
   "cell_type": "code",
   "execution_count": 24,
   "metadata": {},
   "outputs": [
    {
     "name": "stdout",
     "output_type": "stream",
     "text": [
      "{'type': 'XGBClassifier', 'parameters': {'base_score': 0.5, 'colsample_bylevel': 1, 'colsample_bytree': 1, 'gamma': 0, 'learning_rate': 0.19570781190118894, 'max_delta_step': 0, 'max_depth': 4, 'min_child_weight': 4, 'n_estimators': 372, 'n_jobs': -1, 'reg_alpha': 0, 'reg_lambda': 1, 'scale_pos_weight': 1, 'subsample': 0.3176071564077171}}\n"
     ]
    }
   ],
   "source": [
    "#Retrieve the modle that Darwin used\n",
    "status, model_type = ds.lookup_model_name(model)\n",
    "print(model_type['description']['best_genome'])"
   ]
  },
  {
   "cell_type": "code",
   "execution_count": null,
   "metadata": {},
   "outputs": [],
   "source": []
  }
 ],
 "metadata": {
  "kernelspec": {
   "display_name": "Python 3",
   "language": "python",
   "name": "python3"
  },
  "language_info": {
   "codemirror_mode": {
    "name": "ipython",
    "version": 3
   },
   "file_extension": ".py",
   "mimetype": "text/x-python",
   "name": "python",
   "nbconvert_exporter": "python",
   "pygments_lexer": "ipython3",
   "version": "3.7.1"
  }
 },
 "nbformat": 4,
 "nbformat_minor": 2
}
